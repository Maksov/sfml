{
 "cells": [
  {
   "cell_type": "code",
   "execution_count": 780,
   "metadata": {
    "collapsed": true
   },
   "outputs": [],
   "source": [
    "import pandas as pd\n",
    "from matplotlib import pyplot as plt\n",
    "import seaborn as sns"
   ]
  },
  {
   "cell_type": "code",
   "execution_count": 781,
   "metadata": {
    "collapsed": true
   },
   "outputs": [],
   "source": [
    "# считаем описание данных\n",
    "df = pd.read_csv('02_otp_desc.csv', sep=';').loc[:,'ПОЛЕ':'ОПИСАНИЕ']"
   ]
  },
  {
   "cell_type": "code",
   "execution_count": 782,
   "metadata": {},
   "outputs": [
    {
     "data": {
      "text/html": [
       "<div>\n",
       "<style>\n",
       "    .dataframe thead tr:only-child th {\n",
       "        text-align: right;\n",
       "    }\n",
       "\n",
       "    .dataframe thead th {\n",
       "        text-align: left;\n",
       "    }\n",
       "\n",
       "    .dataframe tbody tr th {\n",
       "        vertical-align: top;\n",
       "    }\n",
       "</style>\n",
       "<table border=\"1\" class=\"dataframe\">\n",
       "  <thead>\n",
       "    <tr style=\"text-align: right;\">\n",
       "      <th></th>\n",
       "      <th>ПОЛЕ</th>\n",
       "      <th>ОПИСАНИЕ</th>\n",
       "    </tr>\n",
       "  </thead>\n",
       "  <tbody>\n",
       "    <tr>\n",
       "      <th>0</th>\n",
       "      <td>AGREEMENT_RK</td>\n",
       "      <td>уникальный идентификатор объекта в выборке</td>\n",
       "    </tr>\n",
       "    <tr>\n",
       "      <th>1</th>\n",
       "      <td>TARGET</td>\n",
       "      <td>целевая переменная:отклик на маркетинговую кам...</td>\n",
       "    </tr>\n",
       "    <tr>\n",
       "      <th>2</th>\n",
       "      <td>AGE</td>\n",
       "      <td>возраст клиента</td>\n",
       "    </tr>\n",
       "    <tr>\n",
       "      <th>3</th>\n",
       "      <td>SOCSTATUS_WORK_FL</td>\n",
       "      <td>социальный статус клиента относительно работы ...</td>\n",
       "    </tr>\n",
       "    <tr>\n",
       "      <th>4</th>\n",
       "      <td>SOCSTATUS_PENS_FL</td>\n",
       "      <td>социальный статус клиента относительно пенсии ...</td>\n",
       "    </tr>\n",
       "    <tr>\n",
       "      <th>5</th>\n",
       "      <td>GENDER</td>\n",
       "      <td>пол клиента</td>\n",
       "    </tr>\n",
       "    <tr>\n",
       "      <th>6</th>\n",
       "      <td>CHILD_TOTAL</td>\n",
       "      <td>количество детей клиента</td>\n",
       "    </tr>\n",
       "    <tr>\n",
       "      <th>7</th>\n",
       "      <td>DEPENDANTS</td>\n",
       "      <td>количество иждивенцев клиента</td>\n",
       "    </tr>\n",
       "    <tr>\n",
       "      <th>8</th>\n",
       "      <td>EDUCATION</td>\n",
       "      <td>образование</td>\n",
       "    </tr>\n",
       "    <tr>\n",
       "      <th>9</th>\n",
       "      <td>MARITAL_STATUS</td>\n",
       "      <td>семейное положение</td>\n",
       "    </tr>\n",
       "    <tr>\n",
       "      <th>10</th>\n",
       "      <td>GEN_INDUSTRY</td>\n",
       "      <td>отрасль работы клиента</td>\n",
       "    </tr>\n",
       "    <tr>\n",
       "      <th>11</th>\n",
       "      <td>GEN_TITLE</td>\n",
       "      <td>должность</td>\n",
       "    </tr>\n",
       "    <tr>\n",
       "      <th>12</th>\n",
       "      <td>ORG_TP_STATE</td>\n",
       "      <td>форма собственности компании</td>\n",
       "    </tr>\n",
       "    <tr>\n",
       "      <th>13</th>\n",
       "      <td>ORG_TP_FCAPITAL</td>\n",
       "      <td>отношение к иностранному капиталу</td>\n",
       "    </tr>\n",
       "    <tr>\n",
       "      <th>14</th>\n",
       "      <td>JOB_DIR</td>\n",
       "      <td>направление деятельности в нутри компании</td>\n",
       "    </tr>\n",
       "    <tr>\n",
       "      <th>15</th>\n",
       "      <td>FAMILY_INCOME</td>\n",
       "      <td>семейный доход (несколько категорий)</td>\n",
       "    </tr>\n",
       "    <tr>\n",
       "      <th>16</th>\n",
       "      <td>PERSONAL_INCOME</td>\n",
       "      <td>личный доход клиента (в рублях)</td>\n",
       "    </tr>\n",
       "    <tr>\n",
       "      <th>17</th>\n",
       "      <td>REG_ADDRESS_PROVINCE</td>\n",
       "      <td>область регистрации клиента</td>\n",
       "    </tr>\n",
       "    <tr>\n",
       "      <th>18</th>\n",
       "      <td>FACT_ADDRESS_PROVINCE</td>\n",
       "      <td>область фактического пребывания клиента</td>\n",
       "    </tr>\n",
       "    <tr>\n",
       "      <th>19</th>\n",
       "      <td>POSTAL_ADDRESS_PROVINCE</td>\n",
       "      <td>почтовый адрес область</td>\n",
       "    </tr>\n",
       "    <tr>\n",
       "      <th>20</th>\n",
       "      <td>TP_PROVINCE</td>\n",
       "      <td>область торговой точки, где клиент брал послед...</td>\n",
       "    </tr>\n",
       "    <tr>\n",
       "      <th>21</th>\n",
       "      <td>REGION_NM</td>\n",
       "      <td>регион РФ</td>\n",
       "    </tr>\n",
       "    <tr>\n",
       "      <th>22</th>\n",
       "      <td>REG_FACT_FL</td>\n",
       "      <td>адрес регистрации и адрес фактического пребыва...</td>\n",
       "    </tr>\n",
       "    <tr>\n",
       "      <th>23</th>\n",
       "      <td>FACT_POST_FL</td>\n",
       "      <td>адрес фактического пребывания клиента и его по...</td>\n",
       "    </tr>\n",
       "    <tr>\n",
       "      <th>24</th>\n",
       "      <td>REG_POST_FL</td>\n",
       "      <td>адрес регистрации клиента и его почтовый адрес...</td>\n",
       "    </tr>\n",
       "    <tr>\n",
       "      <th>25</th>\n",
       "      <td>REG_FACT_POST_FL</td>\n",
       "      <td>почтовый, фактический и адрес регистрации совп...</td>\n",
       "    </tr>\n",
       "    <tr>\n",
       "      <th>26</th>\n",
       "      <td>REG_FACT_POST_TP_FL</td>\n",
       "      <td>область регистрации, фактического пребывания, ...</td>\n",
       "    </tr>\n",
       "    <tr>\n",
       "      <th>27</th>\n",
       "      <td>FL_PRESENCE_FL</td>\n",
       "      <td>наличие в собственности квартиры (1 - есть, 0 ...</td>\n",
       "    </tr>\n",
       "    <tr>\n",
       "      <th>28</th>\n",
       "      <td>OWN_AUTO</td>\n",
       "      <td>кол-во автомобилей в собственности</td>\n",
       "    </tr>\n",
       "    <tr>\n",
       "      <th>29</th>\n",
       "      <td>AUTO_RUS_FL</td>\n",
       "      <td>наличие в собственности автомобиля российского...</td>\n",
       "    </tr>\n",
       "    <tr>\n",
       "      <th>30</th>\n",
       "      <td>HS_PRESENCE_FL</td>\n",
       "      <td>наличие в собственности загородного дома (1 - ...</td>\n",
       "    </tr>\n",
       "    <tr>\n",
       "      <th>31</th>\n",
       "      <td>COT_PRESENCE_FL</td>\n",
       "      <td>наличие в собственности котеджа (1 - есть, 0 -...</td>\n",
       "    </tr>\n",
       "    <tr>\n",
       "      <th>32</th>\n",
       "      <td>GAR_PRESENCE_FL</td>\n",
       "      <td>наличие в собственности гаража (1 - есть, 0 - ...</td>\n",
       "    </tr>\n",
       "    <tr>\n",
       "      <th>33</th>\n",
       "      <td>LAND_PRESENCE_FL</td>\n",
       "      <td>наличие в собственности земельного участка (1 ...</td>\n",
       "    </tr>\n",
       "    <tr>\n",
       "      <th>34</th>\n",
       "      <td>CREDIT</td>\n",
       "      <td>сумма последнего кредита клиента (в рублях)</td>\n",
       "    </tr>\n",
       "    <tr>\n",
       "      <th>35</th>\n",
       "      <td>TERM</td>\n",
       "      <td>срок кредита</td>\n",
       "    </tr>\n",
       "    <tr>\n",
       "      <th>36</th>\n",
       "      <td>FST_PAYMENT</td>\n",
       "      <td>первоначальный взнос (в рублях)</td>\n",
       "    </tr>\n",
       "    <tr>\n",
       "      <th>37</th>\n",
       "      <td>DL_DOCUMENT_FL</td>\n",
       "      <td>в анкете клиент указал водительское удостовере...</td>\n",
       "    </tr>\n",
       "    <tr>\n",
       "      <th>38</th>\n",
       "      <td>GPF_DOCUMENT_FL</td>\n",
       "      <td>в анкете клиен указал ГПФ (1 - указал, 0 - не ...</td>\n",
       "    </tr>\n",
       "    <tr>\n",
       "      <th>39</th>\n",
       "      <td>FACT_LIVING_TERM</td>\n",
       "      <td>количество месяцев проживания по месту фактиче...</td>\n",
       "    </tr>\n",
       "    <tr>\n",
       "      <th>40</th>\n",
       "      <td>WORK_TIME</td>\n",
       "      <td>время работы на текущем месте (в месяцах)</td>\n",
       "    </tr>\n",
       "    <tr>\n",
       "      <th>41</th>\n",
       "      <td>FACT_PHONE_FL</td>\n",
       "      <td>наличие в заявке телефона по фактическому мест...</td>\n",
       "    </tr>\n",
       "    <tr>\n",
       "      <th>42</th>\n",
       "      <td>REG_PHONE_FL</td>\n",
       "      <td>наличие в заявке телефона по месту регистрации</td>\n",
       "    </tr>\n",
       "    <tr>\n",
       "      <th>43</th>\n",
       "      <td>GEN_PHONE_FL</td>\n",
       "      <td>наличие в заявке рабочего телефона</td>\n",
       "    </tr>\n",
       "    <tr>\n",
       "      <th>44</th>\n",
       "      <td>LOAN_NUM_TOTAL</td>\n",
       "      <td>количество ссуд клиента</td>\n",
       "    </tr>\n",
       "    <tr>\n",
       "      <th>45</th>\n",
       "      <td>LOAN_NUM_CLOSED</td>\n",
       "      <td>количество погашенных ссуд клиента</td>\n",
       "    </tr>\n",
       "    <tr>\n",
       "      <th>46</th>\n",
       "      <td>LOAN_NUM_PAYM</td>\n",
       "      <td>количество платежей, которые сделал клиент</td>\n",
       "    </tr>\n",
       "    <tr>\n",
       "      <th>47</th>\n",
       "      <td>LOAN_DLQ_NUM</td>\n",
       "      <td>количество просрочек, допущенных клиентом</td>\n",
       "    </tr>\n",
       "    <tr>\n",
       "      <th>48</th>\n",
       "      <td>LOAN_MAX_DLQ</td>\n",
       "      <td>номер максимальной просрочки, допущенной клиентом</td>\n",
       "    </tr>\n",
       "    <tr>\n",
       "      <th>49</th>\n",
       "      <td>LOAN_AVG_DLQ_AMT</td>\n",
       "      <td>средняя сумма просрочки (в рублях)</td>\n",
       "    </tr>\n",
       "    <tr>\n",
       "      <th>50</th>\n",
       "      <td>LOAN_MAX_DLQ_AMT</td>\n",
       "      <td>максимальная сумма просрочки (в рублях)</td>\n",
       "    </tr>\n",
       "    <tr>\n",
       "      <th>51</th>\n",
       "      <td>PREVIOUS_CARD_NUM_UTILIZED</td>\n",
       "      <td>количество уже утилизированных карт ( если пус...</td>\n",
       "    </tr>\n",
       "  </tbody>\n",
       "</table>\n",
       "</div>"
      ],
      "text/plain": [
       "                          ПОЛЕ  \\\n",
       "0                 AGREEMENT_RK   \n",
       "1                       TARGET   \n",
       "2                          AGE   \n",
       "3            SOCSTATUS_WORK_FL   \n",
       "4            SOCSTATUS_PENS_FL   \n",
       "5                       GENDER   \n",
       "6                  CHILD_TOTAL   \n",
       "7                   DEPENDANTS   \n",
       "8                    EDUCATION   \n",
       "9               MARITAL_STATUS   \n",
       "10                GEN_INDUSTRY   \n",
       "11                   GEN_TITLE   \n",
       "12                ORG_TP_STATE   \n",
       "13             ORG_TP_FCAPITAL   \n",
       "14                     JOB_DIR   \n",
       "15               FAMILY_INCOME   \n",
       "16             PERSONAL_INCOME   \n",
       "17        REG_ADDRESS_PROVINCE   \n",
       "18       FACT_ADDRESS_PROVINCE   \n",
       "19     POSTAL_ADDRESS_PROVINCE   \n",
       "20                 TP_PROVINCE   \n",
       "21                   REGION_NM   \n",
       "22                 REG_FACT_FL   \n",
       "23                FACT_POST_FL   \n",
       "24                 REG_POST_FL   \n",
       "25            REG_FACT_POST_FL   \n",
       "26         REG_FACT_POST_TP_FL   \n",
       "27              FL_PRESENCE_FL   \n",
       "28                    OWN_AUTO   \n",
       "29                 AUTO_RUS_FL   \n",
       "30              HS_PRESENCE_FL   \n",
       "31             COT_PRESENCE_FL   \n",
       "32             GAR_PRESENCE_FL   \n",
       "33            LAND_PRESENCE_FL   \n",
       "34                      CREDIT   \n",
       "35                        TERM   \n",
       "36                 FST_PAYMENT   \n",
       "37              DL_DOCUMENT_FL   \n",
       "38             GPF_DOCUMENT_FL   \n",
       "39            FACT_LIVING_TERM   \n",
       "40                   WORK_TIME   \n",
       "41               FACT_PHONE_FL   \n",
       "42                REG_PHONE_FL   \n",
       "43                GEN_PHONE_FL   \n",
       "44              LOAN_NUM_TOTAL   \n",
       "45             LOAN_NUM_CLOSED   \n",
       "46               LOAN_NUM_PAYM   \n",
       "47                LOAN_DLQ_NUM   \n",
       "48                LOAN_MAX_DLQ   \n",
       "49            LOAN_AVG_DLQ_AMT   \n",
       "50            LOAN_MAX_DLQ_AMT   \n",
       "51  PREVIOUS_CARD_NUM_UTILIZED   \n",
       "\n",
       "                                             ОПИСАНИЕ  \n",
       "0          уникальный идентификатор объекта в выборке  \n",
       "1   целевая переменная:отклик на маркетинговую кам...  \n",
       "2                                     возраст клиента  \n",
       "3   социальный статус клиента относительно работы ...  \n",
       "4   социальный статус клиента относительно пенсии ...  \n",
       "5                                         пол клиента  \n",
       "6                            количество детей клиента  \n",
       "7                       количество иждивенцев клиента  \n",
       "8                                         образование  \n",
       "9                                  семейное положение  \n",
       "10                             отрасль работы клиента  \n",
       "11                                          должность  \n",
       "12                       форма собственности компании  \n",
       "13                  отношение к иностранному капиталу  \n",
       "14          направление деятельности в нутри компании  \n",
       "15               семейный доход (несколько категорий)  \n",
       "16                    личный доход клиента (в рублях)  \n",
       "17                        область регистрации клиента  \n",
       "18            область фактического пребывания клиента  \n",
       "19                             почтовый адрес область  \n",
       "20  область торговой точки, где клиент брал послед...  \n",
       "21                                          регион РФ  \n",
       "22  адрес регистрации и адрес фактического пребыва...  \n",
       "23  адрес фактического пребывания клиента и его по...  \n",
       "24  адрес регистрации клиента и его почтовый адрес...  \n",
       "25  почтовый, фактический и адрес регистрации совп...  \n",
       "26  область регистрации, фактического пребывания, ...  \n",
       "27  наличие в собственности квартиры (1 - есть, 0 ...  \n",
       "28                кол-во автомобилей в собственности   \n",
       "29  наличие в собственности автомобиля российского...  \n",
       "30  наличие в собственности загородного дома (1 - ...  \n",
       "31  наличие в собственности котеджа (1 - есть, 0 -...  \n",
       "32  наличие в собственности гаража (1 - есть, 0 - ...  \n",
       "33  наличие в собственности земельного участка (1 ...  \n",
       "34        сумма последнего кредита клиента (в рублях)  \n",
       "35                                       срок кредита  \n",
       "36                    первоначальный взнос (в рублях)  \n",
       "37  в анкете клиент указал водительское удостовере...  \n",
       "38  в анкете клиен указал ГПФ (1 - указал, 0 - не ...  \n",
       "39  количество месяцев проживания по месту фактиче...  \n",
       "40          время работы на текущем месте (в месяцах)  \n",
       "41  наличие в заявке телефона по фактическому мест...  \n",
       "42     наличие в заявке телефона по месту регистрации  \n",
       "43                 наличие в заявке рабочего телефона  \n",
       "44                            количество ссуд клиента  \n",
       "45                 количество погашенных ссуд клиента  \n",
       "46         количество платежей, которые сделал клиент  \n",
       "47          количество просрочек, допущенных клиентом  \n",
       "48  номер максимальной просрочки, допущенной клиентом  \n",
       "49                 средняя сумма просрочки (в рублях)  \n",
       "50            максимальная сумма просрочки (в рублях)  \n",
       "51  количество уже утилизированных карт ( если пус...  "
      ]
     },
     "execution_count": 782,
     "metadata": {},
     "output_type": "execute_result"
    }
   ],
   "source": [
    "df"
   ]
  },
  {
   "cell_type": "code",
   "execution_count": 783,
   "metadata": {
    "collapsed": true,
    "scrolled": true
   },
   "outputs": [],
   "source": [
    "# считаем все-все данные\n",
    "%matplotlib inline"
   ]
  },
  {
   "cell_type": "code",
   "execution_count": null,
   "metadata": {
    "collapsed": true
   },
   "outputs": [],
   "source": []
  },
  {
   "cell_type": "code",
   "execution_count": 784,
   "metadata": {
    "collapsed": true
   },
   "outputs": [],
   "source": [
    "train = pd.read_csv('02_otp_train.csv', sep=';')"
   ]
  },
  {
   "cell_type": "code",
   "execution_count": 785,
   "metadata": {},
   "outputs": [
    {
     "data": {
      "text/html": [
       "<div>\n",
       "<style>\n",
       "    .dataframe thead tr:only-child th {\n",
       "        text-align: right;\n",
       "    }\n",
       "\n",
       "    .dataframe thead th {\n",
       "        text-align: left;\n",
       "    }\n",
       "\n",
       "    .dataframe tbody tr th {\n",
       "        vertical-align: top;\n",
       "    }\n",
       "</style>\n",
       "<table border=\"1\" class=\"dataframe\">\n",
       "  <thead>\n",
       "    <tr style=\"text-align: right;\">\n",
       "      <th></th>\n",
       "      <th>AGREEMENT_RK</th>\n",
       "      <th>TARGET</th>\n",
       "      <th>AGE</th>\n",
       "      <th>SOCSTATUS_WORK_FL</th>\n",
       "      <th>SOCSTATUS_PENS_FL</th>\n",
       "      <th>GENDER</th>\n",
       "      <th>CHILD_TOTAL</th>\n",
       "      <th>DEPENDANTS</th>\n",
       "      <th>EDUCATION</th>\n",
       "      <th>MARITAL_STATUS</th>\n",
       "      <th>...</th>\n",
       "      <th>REG_PHONE_FL</th>\n",
       "      <th>GEN_PHONE_FL</th>\n",
       "      <th>LOAN_NUM_TOTAL</th>\n",
       "      <th>LOAN_NUM_CLOSED</th>\n",
       "      <th>LOAN_NUM_PAYM</th>\n",
       "      <th>LOAN_DLQ_NUM</th>\n",
       "      <th>LOAN_MAX_DLQ</th>\n",
       "      <th>LOAN_AVG_DLQ_AMT</th>\n",
       "      <th>LOAN_MAX_DLQ_AMT</th>\n",
       "      <th>PREVIOUS_CARD_NUM_UTILIZED</th>\n",
       "    </tr>\n",
       "  </thead>\n",
       "  <tbody>\n",
       "    <tr>\n",
       "      <th>0</th>\n",
       "      <td>59910150</td>\n",
       "      <td>0</td>\n",
       "      <td>49</td>\n",
       "      <td>1</td>\n",
       "      <td>0</td>\n",
       "      <td>1</td>\n",
       "      <td>2</td>\n",
       "      <td>1</td>\n",
       "      <td>Среднее специальное</td>\n",
       "      <td>Состою в браке</td>\n",
       "      <td>...</td>\n",
       "      <td>0</td>\n",
       "      <td>1</td>\n",
       "      <td>1</td>\n",
       "      <td>1</td>\n",
       "      <td>6</td>\n",
       "      <td>2</td>\n",
       "      <td>1</td>\n",
       "      <td>1580</td>\n",
       "      <td>1580</td>\n",
       "      <td>NaN</td>\n",
       "    </tr>\n",
       "    <tr>\n",
       "      <th>1</th>\n",
       "      <td>59910230</td>\n",
       "      <td>0</td>\n",
       "      <td>32</td>\n",
       "      <td>1</td>\n",
       "      <td>0</td>\n",
       "      <td>1</td>\n",
       "      <td>3</td>\n",
       "      <td>3</td>\n",
       "      <td>Среднее</td>\n",
       "      <td>Состою в браке</td>\n",
       "      <td>...</td>\n",
       "      <td>0</td>\n",
       "      <td>1</td>\n",
       "      <td>1</td>\n",
       "      <td>1</td>\n",
       "      <td>6</td>\n",
       "      <td>1</td>\n",
       "      <td>1</td>\n",
       "      <td>4020</td>\n",
       "      <td>4020</td>\n",
       "      <td>NaN</td>\n",
       "    </tr>\n",
       "    <tr>\n",
       "      <th>2</th>\n",
       "      <td>59910525</td>\n",
       "      <td>0</td>\n",
       "      <td>52</td>\n",
       "      <td>1</td>\n",
       "      <td>0</td>\n",
       "      <td>1</td>\n",
       "      <td>4</td>\n",
       "      <td>0</td>\n",
       "      <td>Неполное среднее</td>\n",
       "      <td>Состою в браке</td>\n",
       "      <td>...</td>\n",
       "      <td>0</td>\n",
       "      <td>1</td>\n",
       "      <td>2</td>\n",
       "      <td>1</td>\n",
       "      <td>11</td>\n",
       "      <td>0</td>\n",
       "      <td>0</td>\n",
       "      <td>0</td>\n",
       "      <td>0</td>\n",
       "      <td>NaN</td>\n",
       "    </tr>\n",
       "    <tr>\n",
       "      <th>3</th>\n",
       "      <td>59910803</td>\n",
       "      <td>0</td>\n",
       "      <td>39</td>\n",
       "      <td>1</td>\n",
       "      <td>0</td>\n",
       "      <td>1</td>\n",
       "      <td>1</td>\n",
       "      <td>1</td>\n",
       "      <td>Высшее</td>\n",
       "      <td>Состою в браке</td>\n",
       "      <td>...</td>\n",
       "      <td>1</td>\n",
       "      <td>1</td>\n",
       "      <td>1</td>\n",
       "      <td>1</td>\n",
       "      <td>6</td>\n",
       "      <td>3</td>\n",
       "      <td>1</td>\n",
       "      <td>1589,92333333333</td>\n",
       "      <td>1590</td>\n",
       "      <td>NaN</td>\n",
       "    </tr>\n",
       "    <tr>\n",
       "      <th>4</th>\n",
       "      <td>59911781</td>\n",
       "      <td>0</td>\n",
       "      <td>30</td>\n",
       "      <td>1</td>\n",
       "      <td>0</td>\n",
       "      <td>0</td>\n",
       "      <td>0</td>\n",
       "      <td>0</td>\n",
       "      <td>Среднее</td>\n",
       "      <td>Состою в браке</td>\n",
       "      <td>...</td>\n",
       "      <td>0</td>\n",
       "      <td>1</td>\n",
       "      <td>2</td>\n",
       "      <td>1</td>\n",
       "      <td>16</td>\n",
       "      <td>2</td>\n",
       "      <td>1</td>\n",
       "      <td>1152,15</td>\n",
       "      <td>2230</td>\n",
       "      <td>NaN</td>\n",
       "    </tr>\n",
       "  </tbody>\n",
       "</table>\n",
       "<p>5 rows × 52 columns</p>\n",
       "</div>"
      ],
      "text/plain": [
       "   AGREEMENT_RK  TARGET  AGE  SOCSTATUS_WORK_FL  SOCSTATUS_PENS_FL  GENDER  \\\n",
       "0      59910150       0   49                  1                  0       1   \n",
       "1      59910230       0   32                  1                  0       1   \n",
       "2      59910525       0   52                  1                  0       1   \n",
       "3      59910803       0   39                  1                  0       1   \n",
       "4      59911781       0   30                  1                  0       0   \n",
       "\n",
       "   CHILD_TOTAL  DEPENDANTS            EDUCATION  MARITAL_STATUS  \\\n",
       "0            2           1  Среднее специальное  Состою в браке   \n",
       "1            3           3              Среднее  Состою в браке   \n",
       "2            4           0     Неполное среднее  Состою в браке   \n",
       "3            1           1               Высшее  Состою в браке   \n",
       "4            0           0              Среднее  Состою в браке   \n",
       "\n",
       "             ...             REG_PHONE_FL GEN_PHONE_FL LOAN_NUM_TOTAL  \\\n",
       "0            ...                        0            1              1   \n",
       "1            ...                        0            1              1   \n",
       "2            ...                        0            1              2   \n",
       "3            ...                        1            1              1   \n",
       "4            ...                        0            1              2   \n",
       "\n",
       "  LOAN_NUM_CLOSED LOAN_NUM_PAYM LOAN_DLQ_NUM LOAN_MAX_DLQ  LOAN_AVG_DLQ_AMT  \\\n",
       "0               1             6            2            1              1580   \n",
       "1               1             6            1            1              4020   \n",
       "2               1            11            0            0                 0   \n",
       "3               1             6            3            1  1589,92333333333   \n",
       "4               1            16            2            1           1152,15   \n",
       "\n",
       "  LOAN_MAX_DLQ_AMT PREVIOUS_CARD_NUM_UTILIZED  \n",
       "0             1580                        NaN  \n",
       "1             4020                        NaN  \n",
       "2                0                        NaN  \n",
       "3             1590                        NaN  \n",
       "4             2230                        NaN  \n",
       "\n",
       "[5 rows x 52 columns]"
      ]
     },
     "execution_count": 785,
     "metadata": {},
     "output_type": "execute_result"
    }
   ],
   "source": [
    "train.head()"
   ]
  },
  {
   "cell_type": "code",
   "execution_count": 786,
   "metadata": {},
   "outputs": [
    {
     "data": {
      "text/plain": [
       "(15223, 52)"
      ]
     },
     "execution_count": 786,
     "metadata": {},
     "output_type": "execute_result"
    }
   ],
   "source": [
    "train.shape"
   ]
  },
  {
   "cell_type": "code",
   "execution_count": null,
   "metadata": {},
   "outputs": [],
   "source": [
    "\n",
    "train[train['TARGET'] == 1].count()"
   ]
  },
  {
   "cell_type": "code",
   "execution_count": 788,
   "metadata": {},
   "outputs": [
    {
     "data": {
      "text/plain": [
       "<matplotlib.axes._subplots.AxesSubplot at 0x24e071c38d0>"
      ]
     },
     "execution_count": 788,
     "metadata": {},
     "output_type": "execute_result"
    },
    {
     "data": {
      "image/png": "[encoded data removed]",
      "text/plain": [
       "<matplotlib.figure.Figure at 0x24e071b42e8>"
      ]
     },
     "metadata": {},
     "output_type": "display_data"
    },
    {
     "data": {
      "image/png": "[encoded data removed]",
      "text/plain": [
       "<matplotlib.figure.Figure at 0x24e071b4d30>"
      ]
     },
     "metadata": {},
     "output_type": "display_data"
    }
   ],
   "source": [
    "\n",
    "\n",
    "train[(train['GEN_TITLE'] == 'Рабочий') & (train['MARITAL_STATUS'] == 'Состою в браке')].pivot_table(values='AGREEMENT_RK', index=['EDUCATION'], columns=['TARGET'], aggfunc='count').plot(kind='bar')\n",
    "train.pivot_table(values='AGREEMENT_RK', index=['MARITAL_STATUS'], columns=['TARGET'], aggfunc='count').plot(kind='bar')\n"
   ]
  },
  {
   "cell_type": "code",
   "execution_count": 789,
   "metadata": {
    "collapsed": true
   },
   "outputs": [],
   "source": [
    "test = pd.read_csv('02_otp_test.csv', sep=';')"
   ]
  },
  {
   "cell_type": "code",
   "execution_count": 790,
   "metadata": {},
   "outputs": [
    {
     "data": {
      "text/plain": [
       "(14910, 51)"
      ]
     },
     "execution_count": 790,
     "metadata": {},
     "output_type": "execute_result"
    }
   ],
   "source": [
    "test.shape"
   ]
  },
  {
   "cell_type": "code",
   "execution_count": null,
   "metadata": {
    "collapsed": true,
    "scrolled": true
   },
   "outputs": [],
   "source": [
    "\n",
    "\n"
   ]
  },
  {
   "cell_type": "code",
   "execution_count": 791,
   "metadata": {
    "collapsed": true
   },
   "outputs": [],
   "source": [
    "# отделим таргет от TRAIN-а"
   ]
  },
  {
   "cell_type": "code",
   "execution_count": 792,
   "metadata": {
    "collapsed": true
   },
   "outputs": [],
   "source": [
    "y = train['TARGET']"
   ]
  },
  {
   "cell_type": "code",
   "execution_count": 793,
   "metadata": {},
   "outputs": [
    {
     "data": {
      "text/plain": [
       "0        0\n",
       "1        0\n",
       "2        0\n",
       "3        0\n",
       "4        0\n",
       "5        0\n",
       "6        0\n",
       "7        0\n",
       "8        0\n",
       "9        0\n",
       "10       0\n",
       "11       1\n",
       "12       1\n",
       "13       0\n",
       "14       0\n",
       "15       1\n",
       "16       0\n",
       "17       0\n",
       "18       1\n",
       "19       0\n",
       "20       0\n",
       "21       0\n",
       "22       0\n",
       "23       0\n",
       "24       0\n",
       "25       0\n",
       "26       0\n",
       "27       1\n",
       "28       0\n",
       "29       0\n",
       "        ..\n",
       "15193    0\n",
       "15194    0\n",
       "15195    0\n",
       "15196    0\n",
       "15197    0\n",
       "15198    0\n",
       "15199    0\n",
       "15200    1\n",
       "15201    0\n",
       "15202    0\n",
       "15203    0\n",
       "15204    1\n",
       "15205    0\n",
       "15206    0\n",
       "15207    0\n",
       "15208    0\n",
       "15209    1\n",
       "15210    0\n",
       "15211    0\n",
       "15212    0\n",
       "15213    1\n",
       "15214    0\n",
       "15215    0\n",
       "15216    0\n",
       "15217    0\n",
       "15218    0\n",
       "15219    0\n",
       "15220    0\n",
       "15221    0\n",
       "15222    0\n",
       "Name: TARGET, Length: 15223, dtype: int64"
      ]
     },
     "execution_count": 793,
     "metadata": {},
     "output_type": "execute_result"
    }
   ],
   "source": [
    "y"
   ]
  },
  {
   "cell_type": "code",
   "execution_count": 794,
   "metadata": {},
   "outputs": [],
   "source": [
    "train = train.drop('TARGET', axis=1)"
   ]
  },
  {
   "cell_type": "code",
   "execution_count": 795,
   "metadata": {
    "collapsed": true
   },
   "outputs": [],
   "source": [
    "# соеденим train и test"
   ]
  },
  {
   "cell_type": "code",
   "execution_count": 796,
   "metadata": {
    "collapsed": true
   },
   "outputs": [],
   "source": [
    "all_data = pd.concat([train, test])"
   ]
  },
  {
   "cell_type": "code",
   "execution_count": 894,
   "metadata": {},
   "outputs": [
    {
     "data": {
      "text/plain": [
       "(30133, 51)"
      ]
     },
     "execution_count": 894,
     "metadata": {},
     "output_type": "execute_result"
    }
   ],
   "source": [
    "all_data.shape"
   ]
  },
  {
   "cell_type": "code",
   "execution_count": 797,
   "metadata": {
    "collapsed": true
   },
   "outputs": [],
   "source": [
    "# необходимо удалить индекс, \n",
    "# у нас есть 0-строка в train и 0-строка в test (и так далее 1,2,3,4)\n",
    "# если мы просто объеденим - у нас сохранятся индексы\n",
    "# мы же просто уберем индекс и автоматически создастся новый индекс, сквозной и уникальный\n",
    "all_data = all_data.reset_index(drop=True)"
   ]
  },
  {
   "cell_type": "code",
   "execution_count": 798,
   "metadata": {
    "collapsed": true
   },
   "outputs": [],
   "source": [
    "# посмотрим типы данных и их заполняемость"
   ]
  },
  {
   "cell_type": "code",
   "execution_count": 799,
   "metadata": {
    "scrolled": false
   },
   "outputs": [
    {
     "name": "stdout",
     "output_type": "stream",
     "text": [
      "<class 'pandas.core.frame.DataFrame'>\n",
      "RangeIndex: 30133 entries, 0 to 30132\n",
      "Data columns (total 51 columns):\n",
      "AGREEMENT_RK                  30133 non-null int64\n",
      "AGE                           30133 non-null int64\n",
      "SOCSTATUS_WORK_FL             30133 non-null int64\n",
      "SOCSTATUS_PENS_FL             30133 non-null int64\n",
      "GENDER                        30133 non-null int64\n",
      "CHILD_TOTAL                   30133 non-null int64\n",
      "DEPENDANTS                    30133 non-null int64\n",
      "EDUCATION                     30133 non-null object\n",
      "MARITAL_STATUS                30133 non-null object\n",
      "GEN_INDUSTRY                  27420 non-null object\n",
      "GEN_TITLE                     27420 non-null object\n",
      "ORG_TP_STATE                  27420 non-null object\n",
      "ORG_TP_FCAPITAL               27425 non-null object\n",
      "JOB_DIR                       27420 non-null object\n",
      "FAMILY_INCOME                 30133 non-null object\n",
      "PERSONAL_INCOME               30133 non-null object\n",
      "REG_ADDRESS_PROVINCE          30133 non-null object\n",
      "FACT_ADDRESS_PROVINCE         30133 non-null object\n",
      "POSTAL_ADDRESS_PROVINCE       30133 non-null object\n",
      "TP_PROVINCE                   29543 non-null object\n",
      "REGION_NM                     30131 non-null object\n",
      "REG_FACT_FL                   30133 non-null int64\n",
      "FACT_POST_FL                  30133 non-null int64\n",
      "REG_POST_FL                   30133 non-null int64\n",
      "REG_FACT_POST_FL              30133 non-null int64\n",
      "REG_FACT_POST_TP_FL           30133 non-null int64\n",
      "FL_PRESENCE_FL                30133 non-null int64\n",
      "OWN_AUTO                      30133 non-null int64\n",
      "AUTO_RUS_FL                   30133 non-null int64\n",
      "HS_PRESENCE_FL                30133 non-null int64\n",
      "COT_PRESENCE_FL               30133 non-null int64\n",
      "GAR_PRESENCE_FL               30133 non-null int64\n",
      "LAND_PRESENCE_FL              30133 non-null int64\n",
      "CREDIT                        30133 non-null object\n",
      "TERM                          30133 non-null int64\n",
      "FST_PAYMENT                   30133 non-null object\n",
      "DL_DOCUMENT_FL                30133 non-null int64\n",
      "GPF_DOCUMENT_FL               30133 non-null int64\n",
      "FACT_LIVING_TERM              30133 non-null int64\n",
      "WORK_TIME                     27416 non-null float64\n",
      "FACT_PHONE_FL                 30133 non-null int64\n",
      "REG_PHONE_FL                  30133 non-null int64\n",
      "GEN_PHONE_FL                  30133 non-null int64\n",
      "LOAN_NUM_TOTAL                30133 non-null int64\n",
      "LOAN_NUM_CLOSED               30133 non-null int64\n",
      "LOAN_NUM_PAYM                 30133 non-null int64\n",
      "LOAN_DLQ_NUM                  30133 non-null int64\n",
      "LOAN_MAX_DLQ                  30133 non-null int64\n",
      "LOAN_AVG_DLQ_AMT              30133 non-null object\n",
      "LOAN_MAX_DLQ_AMT              30133 non-null object\n",
      "PREVIOUS_CARD_NUM_UTILIZED    600 non-null float64\n",
      "dtypes: float64(2), int64(31), object(18)\n",
      "memory usage: 11.7+ MB\n"
     ]
    }
   ],
   "source": [
    "all_data.info()"
   ]
  },
  {
   "cell_type": "code",
   "execution_count": 800,
   "metadata": {
    "collapsed": true
   },
   "outputs": [],
   "source": [
    "# Видим, что часть данных - object, скорее всего стоки.\n",
    "# Давайте выведем эти значения для каждого столбца"
   ]
  },
  {
   "cell_type": "code",
   "execution_count": 801,
   "metadata": {},
   "outputs": [
    {
     "name": "stdout",
     "output_type": "stream",
     "text": [
      "EDUCATION\n",
      "{'Ученая степень', 'Неоконченное высшее', 'Два и более высших образования', 'Среднее специальное', 'Высшее', 'Неполное среднее', 'Среднее'}\n",
      "\n",
      "MARITAL_STATUS\n",
      "{'Вдовец/Вдова', 'Разведен(а)', 'Состою в браке', 'Гражданский брак', 'Не состоял в браке'}\n",
      "\n",
      "GEN_INDUSTRY\n",
      "{nan, 'Строительство', 'Информационные технологии', 'ЧОП/Детективная д-ть', 'Управляющая компания', 'Салоны красоты и здоровья', 'Другие сферы', 'Недвижимость', 'Наука', 'Нефтегазовая промышленность', 'Образование', 'Ресторанный бизнес/Общественное питание', 'Подбор персонала', 'Туризм', 'Государственная служба', 'Сборочные производства', 'Информационные услуги', 'Страхование', 'СМИ/Реклама/PR-агенства', 'Банк/Финансы', 'Сельское хозяйство', 'Транспорт', 'Маркетинг', 'Коммунальное хоз-во/Дорожные службы', 'Энергетика', 'Юридические услуги/нотариальные услуги', 'Здравоохранение', 'Металлургия/Промышленность/Машиностроение', 'Развлечения/Искусство', 'Химия/Парфюмерия/Фармацевтика', 'Логистика', 'Торговля'}\n",
      "\n",
      "GEN_TITLE\n",
      "{nan, 'Партнер', 'Специалист', 'Другое', 'Руководитель высшего звена', 'Служащий', 'Рабочий', 'Военнослужащий по контракту', 'Индивидуальный предприниматель', 'Высококвалифиц. специалист', 'Руководитель низшего звена', 'Работник сферы услуг', 'Руководитель среднего звена'}\n",
      "\n",
      "ORG_TP_STATE\n",
      "{nan, 'Частная ком. с инос. капиталом', 'Частная компания', 'Государственная комп./учреж.', 'Индивидуальный предприниматель', 'Некоммерческая организация'}\n",
      "\n",
      "ORG_TP_FCAPITAL\n",
      "{nan, 'Без участия', 'С участием'}\n",
      "\n",
      "JOB_DIR\n",
      "{'Служба безопасности', nan, 'Адм-хоз. и трансп. службы', 'Юридическая служба', 'Пр-техн. обесп. и телеком.', 'Бухгалтерия, финансы, планир.', 'Кадровая служба и секретариат', 'Участие в основ. деятельности', 'Снабжение и сбыт', 'Реклама и маркетинг', 'Вспомогательный техперсонал'}\n",
      "\n",
      "FAMILY_INCOME\n",
      "{'от 5000 до 10000 руб.', 'от 20000 до 50000 руб.', 'от 10000 до 20000 руб.', 'свыше 50000 руб.', 'до 5000 руб.'}\n",
      "\n",
      "PERSONAL_INCOME\n",
      "{'5600', '14200', '4515', '46000', '6200', '3100', '29000', '7250', '13650', '3400', '9900', '30000', '6350', '7800', '5800', '24800', '15600', '48000', '7050', '17900', '8300', '4887', '21500', '7600', '5446', '10600', '23000', '22180', '10000', '4500', '6300', '6670', '16900', '44000', '49000', '12400', '16000', '9330', '32500', '18250', '8400', '11600', '9200', '9600', '39000', '26500', '75000', '28000', '24', '18000', '13800', '22955', '10100', '17300', '19500', '6800', '11200', '15200', '7200', '6608', '9800', '19600', '7850', '8800', '11400', '4700', '9100', '230000', '8075', '5380', '4340', '5173', '7100', '13400', '6100', '158000', '13000000', '7380', '16300', '15939', '5750', '7220', '5500', '27200', '41900', '14120', '8030', '4800', '24000', '11300', '38600', '4950', '22500', '19200', '29800', '34500', '14600', '12650', '18600', '11700', '14900', '17500', '17200', '130000', '40000', '250000', '5050', '14800', '19700', '20600', '12700', '19800', '5339', '58640', '13600', '5425', '200000', '17700', '23100', '4590', '5582', '20000', '42500', '4600', '3000', '5700', '5400', '12450', '21800', '10200', '3500', '6524', '9500', '7830', '7640', '12300', '8066', '2100', '29400', '67000', '7460', '4850', '11640', '20880', '90000', '15300', '20646,16', '14358', '43000', '4480', '8900', '110000', '8250', '5300', '10900', '9000', '32640', '14300', '15400', '60000', '3200', '11900', '16050', '4704', '160000', '26000', '24500', '14000', '7330', '4000', '5890', '9340', '4360', '18100', '8350', '14500', '15700', '8750', '3900', '5000', '25800', '5966', '38000', '4760', '1950', '10500', '30600', '7101', '16107,47', '29500', '13200', '5360', '47000', '26800', '8726', '51000', '13160', '6700', '55000', '36000', '9628', '22000', '53500', '8100', '4200', '12900', '22565', '11800', '24400', '15800', '15380', '4100', '16500', '11500', '12800', '9640', '20500', '16200', '7350', '21300', '13100', '15750', '5900', '4550', '12500', '7251', '65000', '70000', '7082', '6780', '2800', '56000', '4330', '7550', '3700', '5280', '5230', '35000', '18500', '7170,08', '12000', '31000', '45000', '16600', '7300', '5120', '9860', '6600', '10400', '4680', '19300', '5100', '42145', '17400', '25000', '27300', '35500', '9300', '13000', '7700', '2680', '10800', '18800', '23800', '14700', '13900', '5460', '17600', '9400', '22120', '5088', '13700', '94000', '32000', '4530', '100000', '15900', '8500', '6650', '37000', '6299,19', '15560', '50000', '10300', '220000', '2500', '57000', '7400', '5860', '120000', '6500', '13450', '3600', '13300', '15000', '42000', '6900', '27000', '16800', '6000', '5200', '18200', '12200', '17404', '8200', '7500', '11000', '9240', '45900', '150000', '4400', '15500', '7780', '28470', '2776', '5350', '9750', '6400', '53000', '10700', '8060', '18700', '3300', '23500', '5085', '5790', '5680', '7000', '19000', '67700', '21000', '17800', '170000', '7650', '41000', '4250', '9700', '8700', '5450', '54000', '4300', '8600', '28300', '33000', '4900', '3800', '16700', '7260', '6359', '4860', '2000', '7340', '12100', '92000', '6180', '2300', '13150', '8000', '80000', '13500', '52000', '4750', '7900', '25500', '68000', '17000', '12600', '34000', '6825', '16100', '6270', '18300', '77000'}\n",
      "\n",
      "REG_ADDRESS_PROVINCE\n",
      "{'Воронежская область', 'Вологодская область', 'Ханты-Мансийский АО', 'Читинская область', 'Нижегородская область', 'Марийская республика', 'Калужская область', 'Белгородская область', 'Ярославская область', 'Челябинская область', 'Тульская область', 'Омская область', 'Смоленская область', 'Горный Алтай', 'Брянская область', 'Агинский Бурятский АО', 'Татарстан', 'Хакасия', 'Ульяновская область', 'Кабардино-Балкария', 'Самарская область', 'Орловская область', 'Тюменская область', 'Пензенская область', 'Московская область', 'Северная Осетия', 'Ленинградская область', 'Ставропольский край', 'Бурятия', 'Рязанская область', 'Коми-Пермяцкий АО', 'Санкт-Петербург', 'Якутия', 'Краснодарский край', 'Чувашия', 'Хабаровский край', 'Владимирская область', 'Липецкая область', 'Тверская область', 'Мордовская республика', 'Ивановская область', 'Удмуртия', 'Адыгея', 'Москва', 'Кемеровская область', 'Кировская область', 'Алтайский край', 'Карелия', 'Еврейская АО', 'Башкирия', 'Костромская область', 'Карачаево-Черкесия', 'Архангельская область', 'Ростовская область', 'Камчатская область', 'Пермская область', 'Оренбургская область', 'Саратовская область', 'Коми', 'Калининградская область', 'Сахалинская область', 'Эвенкийский АО', 'Иркутская область', 'Астраханская область', 'Усть-Ордынский Бурятский АО', 'Курганская область', 'Новосибирская область', 'Ямало-Ненецкий АО', 'Амурская область', 'Красноярский край', 'Тамбовская область', 'Дагестан', 'Магаданская область', 'Новгородская область', 'Свердловская область', 'Калмыкия', 'Волгоградская область', 'Томская область', 'Курская область', 'Мурманская область', 'Приморский край', 'Псковская область'}\n",
      "\n",
      "FACT_ADDRESS_PROVINCE\n",
      "{'Воронежская область', 'Вологодская область', 'Ханты-Мансийский АО', 'Читинская область', 'Нижегородская область', 'Марийская республика', 'Калужская область', 'Белгородская область', 'Ярославская область', 'Челябинская область', 'Тульская область', 'Омская область', 'Смоленская область', 'Горный Алтай', 'Брянская область', 'Агинский Бурятский АО', 'Татарстан', 'Хакасия', 'Ульяновская область', 'Кабардино-Балкария', 'Самарская область', 'Орловская область', 'Тюменская область', 'Московская область', 'Пензенская область', 'Северная Осетия', 'Ленинградская область', 'Ставропольский край', 'Бурятия', 'Рязанская область', 'Коми-Пермяцкий АО', 'Санкт-Петербург', 'Якутия', 'Краснодарский край', 'Чувашия', 'Хабаровский край', 'Владимирская область', 'Липецкая область', 'Тверская область', 'Мордовская республика', 'Ивановская область', 'Удмуртия', 'Адыгея', 'Москва', 'Кемеровская область', 'Кировская область', 'Алтайский край', 'Карелия', 'Еврейская АО', 'Башкирия', 'Костромская область', 'Карачаево-Черкесия', 'Архангельская область', 'Ростовская область', 'Камчатская область', 'Пермская область', 'Оренбургская область', 'Саратовская область', 'Коми', 'Калининградская область', 'Сахалинская область', 'Эвенкийский АО', 'Иркутская область', 'Астраханская область', 'Усть-Ордынский Бурятский АО', 'Курганская область', 'Новосибирская область', 'Ямало-Ненецкий АО', 'Амурская область', 'Красноярский край', 'Тамбовская область', 'Дагестан', 'Магаданская область', 'Новгородская область', 'Свердловская область', 'Калмыкия', 'Волгоградская область', 'Томская область', 'Чечня', 'Курская область', 'Мурманская область', 'Приморский край', 'Псковская область'}\n",
      "\n",
      "POSTAL_ADDRESS_PROVINCE\n",
      "{'Воронежская область', 'Вологодская область', 'Ханты-Мансийский АО', 'Читинская область', 'Нижегородская область', 'Марийская республика', 'Калужская область', 'Белгородская область', 'Ярославская область', 'Челябинская область', 'Тульская область', 'Омская область', 'Смоленская область', 'Горный Алтай', 'Брянская область', 'Агинский Бурятский АО', 'Татарстан', 'Хакасия', 'Ульяновская область', 'Кабардино-Балкария', 'Самарская область', 'Орловская область', 'Тюменская область', 'Московская область', 'Пензенская область', 'Северная Осетия', 'Ленинградская область', 'Ставропольский край', 'Бурятия', 'Рязанская область', 'Коми-Пермяцкий АО', 'Санкт-Петербург', 'Якутия', 'Краснодарский край', 'Чувашия', 'Хабаровский край', 'Владимирская область', 'Липецкая область', 'Тверская область', 'Мордовская республика', 'Ивановская область', 'Удмуртия', 'Адыгея', 'Москва', 'Кемеровская область', 'Кировская область', 'Алтайский край', 'Карелия', 'Еврейская АО', 'Башкирия', 'Костромская область', 'Карачаево-Черкесия', 'Архангельская область', 'Ростовская область', 'Камчатская область', 'Пермская область', 'Оренбургская область', 'Саратовская область', 'Коми', 'Калининградская область', 'Сахалинская область', 'Эвенкийский АО', 'Иркутская область', 'Астраханская область', 'Усть-Ордынский Бурятский АО', 'Курганская область', 'Новосибирская область', 'Ямало-Ненецкий АО', 'Амурская область', 'Красноярский край', 'Тамбовская область', 'Дагестан', 'Магаданская область', 'Новгородская область', 'Свердловская область', 'Калмыкия', 'Волгоградская область', 'Томская область', 'Курская область', 'Мурманская область', 'Приморский край', 'Псковская область'}\n",
      "\n",
      "TP_PROVINCE\n",
      "{nan, 'Воронежская область', 'Вологодская область', 'Ханты-Мансийский АО', 'Читинская область', 'Нижегородская область', 'Марийская республика', 'Калужская область', 'Белгородская область', 'Ярославская область', 'Челябинская область', 'Тульская область', 'Омская область', 'Смоленская область', 'Горный Алтай', 'Брянская область', 'Татарстан', 'Ульяновская область', 'Самарская область', 'Кабардино-Балкария', 'Орловская область', 'Тюменская область', 'Пензенская область', 'Ставропольский край', 'Бурятия', 'Рязанская область', 'Санкт-Петербург', 'Якутия', 'Краснодарский край', 'Чувашия', 'Хабаровский край', 'Владимирская область', 'Липецкая область', 'Тверская область', 'Мордовская республика', 'Ивановская область', 'Удмуртия', 'Адыгея', 'Москва', 'Кемеровская область', 'Кировская область', 'Алтайский край', 'Карелия', 'Еврейская АО', 'Башкирия', 'Костромская область', 'Архангельская область', 'Ростовская область', 'Камчатская область', 'Пермская область', 'Оренбургская область', 'Саратовская область', 'Коми', 'Калининградская область', 'Сахалинская область', 'Иркутская область', 'Астраханская область', 'Курганская область', 'Новосибирская область', 'Амурская область', 'Красноярский край', 'Тамбовская область', 'Магаданская область', 'Новгородская область', 'Свердловская область', 'Волгоградская область', 'Томская область', 'Курская область', 'Мурманская область', 'Приморский край', 'Псковская область'}\n",
      "\n",
      "REGION_NM\n",
      "{'ПРИВОЛЖСКИЙ', nan, 'ЮЖНЫЙ', 'ЦЕНТРАЛЬНЫЙ ОФИС', 'ВОСТОЧНО-СИБИРСКИЙ', 'ДАЛЬНЕВОСТОЧНЫЙ', 'ЗАПАДНО-СИБИРСКИЙ', 'ЦЕНТРАЛЬНЫЙ 2', 'СЕВЕРО-ЗАПАДНЫЙ', 'ПОВОЛЖСКИЙ', 'ЦЕНТРАЛЬНЫЙ 1', 'УРАЛЬСКИЙ'}\n",
      "\n",
      "CREDIT\n",
      "{'28172', '23600', '50177', '4994', '9924', '30756', '30596', '6972', '7249', '17557', '46000', '4589', '6278', '10638', '14480', '8775', '14637', '4925', '8510', '14629', '2610', '6089', '2157,45', '14842', '6189,92', '17383', '13747', '17050', '10605', '19290', '4419', '24980', '6885', '29101,95', '14994', '19895', '9061', '19976', '48000', '5026', '7050', '3888', '21780', '8837', '4872', '8491,5', '71400', '28398', '7972,6', '3490,92', '8221', '5455,8', '22236', '16261', '11319', '14847', '16099', '2259,9', '8595', '12990', '15919', '24531,06', '61540', '9899,92', '15759', '89640', '21482', '10047', '5236', '23186', '20715', '22818', '5810', '11723', '5157', '10764', '26085', '29568,82', '9565', '9999', '25410', '19169', '5788', '11288', '22410', '24846', '13031', '17387', '33292', '15041', '46471', '9199', '83194', '10875', '15735', '30330', '26720', '4910', '35010', '26177', '2520', '11551', '9398', '24822', '24114', '5144', '15354', '15838', '28684', '20227,72', '22955', '13978', '11133', '6766,4', '7874', '17760', '10536', '34100', '12562', '4346', '4563', '6620', '20268', '6440', '11049', '8279', '13760', '10192', '17660', '8622', '34562', '11428', '2748', '12140', '22162', '18499', '29721', '20250', '19600', '9800', '38880', '13678', '22889', '25840', '27800', '19926', '11198', '27160', '4114', '4370', '20392', '16081', '50020', '6290', '27080', '3940', '11718,94', '13005', '46728', '22438', '10780', '16949', '19900', '23516,84', '10550', '13764', '7840', '12210', '8940', '8120', '5688', '32540', '6613', '15727', '19593', '8091', '20570', '28206', '27617,1', '6073', '3989', '39590', '6675', '29941', '13426', '19839', '11080', '24940', '12236', '4132,5', '22543', '11348', '7630', '13459,95', '2440', '30196', '6101', '3584', '11431', '15710', '24555', '4937', '9740', '18861', '34195', '9390', '12369', '15307,2', '12700', '18496', '14447', '6820', '9072', '19455', '12789,91', '21634', '17348', '10207,2', '12737', '16047,1', '16317', '19770', '16560', '21974', '3049', '29386', '2880', '14040', '15759,75', '20155', '5154', '23324', '5015', '18165', '12138', '27620', '8580', '34950', '13371', '16485', '19245', '12057', '5695', '33725', '40574', '33392', '21619', '7649', '25937', '26658,9', '10525,01', '11130', '6809', '24346', '4826', '25491', '18310', '7290', '69300', '25990', '7599', '4177', '7116', '16748,1', '25256,89', '3490', '20880', '6171', '17160', '24340', '3816', '9570', '3538', '20385', '10593', '12593,7', '9721', '4918', '24580', '10964', '7587', '37880', '2680,4', '3249', '8900', '17873,75', '15920', '12729', '6685', '33459', '9287', '29997,24', '17767', '16989', '3918', '16653', '20060', '8930', '11849,2', '12760', '32900', '29615', '23580', '18096', '13420', '19899', '3729', '7199', '16063', '5646', '3137', '32828', '8102,08', '19886', '23030', '9205', '18810', '3868', '4207', '47195,92', '9830', '4276', '3591', '2850', '27219,31', '5176,8', '3200', '18549', '22346', '33316', '19480', '22970', '44260', '34800', '8833', '9467', '16422', '21899,94', '20025', '88300', '13563', '33506', '13344', '10853', '9755', '11999,99', '26774', '5620', '49490', '4979', '7327', '40691', '5624,3', '16587', '17996', '4894', '28820', '53162', '18210', '25574', '3196', '4366', '21980', '35332', '17778', '24281', '16287', '19156', '9333', '14625', '17952', '17453', '12096', '22710', '20862', '6813', '14891', '7794', '3481', '39690', '26909', '5975', '12365,2', '15450', '13012', '3749', '3547,42', '5818,5', '12915', '27094', '27545', '3708,9', '4458', '18643', '9294', '13331', '20009', '5472', '6785', '13499', '37424', '25900', '10073', '75587', '11203', '28594', '24367', '6796', '7140', '6835', '36560', '11529', '8361,9', '4735', '10019', '70245', '23990,83', '11768', '12328', '26090', '23985', '28112', '4812', '13490', '14709', '18917', '8036', '22925', '5872', '3232', '22870', '5498', '12474', '6640', '9945', '21770', '18882', '25360', '23704', '31730,91', '8559', '20500', '11653', '4995', '22440', '10057', '21300', '8667', '3720', '21400', '9009', '39950', '9758', '45908', '26379', '21195', '14658', '27340', '3487', '2226', '8361', '26321', '17049', '9975', '2322', '6569', '6586', '29598', '14333', '50400', '25020', '20670', '11140', '9341,5', '18630', '2635', '17596', '14489,2', '31255', '18463', '9135', '19020', '7358', '59629', '8271', '14999', '25580', '3281', '38570', '24459', '22536', '2238', '3120', '5650', '10625', '16765', '16773', '24100,83', '22220', '6215', '11021', '3388', '25515', '11519,1', '27116', '10861', '41936', '37480', '39960', '67800', '7667', '8529', '3786', '6594', '12000', '3250', '6887', '21211', '24103', '28402', '50652,94', '19475', '15215', '5120', '4672', '9538,9', '5103', '3783', '30355', '26824,5', '29591', '11659', '5888', '76730', '17748,91', '14446,3', '4680', '14105', '40642,38', '31139', '48460', '3795', '11169', '22213', '17826', '18535', '31702', '6220', '4731', '20110', '62468', '8998', '2934', '6559', '6328', '2125', '23423', '18561', '15670', '15844', '4070', '33190', '18001,28', '6327', '10847', '7270', '19690', '8112', '23930', '12795', '12991,82', '8345', '19390', '10665', '6745', '16660', '66565', '15970', '22269', '23750', '7998', '15640', '8181', '4743', '21890', '19513', '15482', '13326', '11989,91', '19905', '14355', '14513', '42228', '2690', '26279', '27439', '3423', '14940', '29234', '14522', '15921', '37860', '5799,2', '4555', '15557', '58500', '6598', '22530', '33340', '21295', '29094', '14044', '10590', '15888', '5382', '22347', '24141', '6446', '15902', '13469', '17789', '3600', '7978', '20435', '25320', '29220', '6780,95', '19660', '13155', '4252', '41210', '12180', '19959', '35739', '19750', '29332', '16525', '41154', '19129', '22750', '18690', '87880', '4548,6', '3980', '29294', '8625', '22066', '28651', '13510', '22225', '5381', '11954', '11776', '43866', '70360', '5611', '13408', '11599', '11589', '16998', '5562', '20897', '5672', '4275', '11178', '30879,55', '11995', '10555', '10322', '24217', '79910', '33400', '13122', '26999,1', '13875', '2223', '18426', '18415', '8520', '6400', '15582', '18410', '10490,91', '10216', '16491', '10753', '4268', '28274', '21560', '5301', '12417', '15466', '15605', '9198', '24130', '11047', '16141', '33230,6', '10497', '3296', '4633', '3909', '4021', '8508', '23009', '5140', '16576', '12986', '9680', '8393', '17525', '2860', '8731,47', '4819', '23713', '5812', '14540,04', '17800', '9573,1', '34699', '25050', '59625', '12032', '3090', '7650', '22105', '2090', '9222', '8780', '19089', '26904', '4314', '31449', '82500', '28417', '13649', '6247,8', '84500', '5025', '54000', '52509', '15624', '4935', '70323,49', '8148', '7987', '7578', '10262,2', '8918', '22194', '12531,94', '40196', '31653', '28026', '94300', '28300', '4640', '8067', '15435', '45482', '3328', '21296', '31910', '11968', '16381', '12280', '37666', '8752', '24772', '34641', '8320', '15880', '11279', '6375', '11517', '11539', '41200', '10189', '15325', '23745', '12803,4', '10634', '15038', '10779', '29370', '9298', '20381', '32390', '28623', '3476', '9870', '7707', '18707,1', '5071', '15036', '13993', '11981', '19260', '19072', '10310', '6299', '8889', '20253', '8756', '5961', '10010', '7869,61', '22121,1', '14272', '17483', '77000', '5600', '19498', '5267', '3280', '17399,2', '9351', '7473,3', '33720', '45110', '3072', '8811', '64794', '24870', '7982', '10120', '11534', '5636', '5430', '27945', '32980', '9050', '28304', '15730', '7416', '29280', '7593', '9034', '35331', '22950', '21736,2', '5112', '9326', '96970', '21877', '4961', '3565', '17161', '30000', '12253', '2346', '20659', '12310,91', '21985', '2080', '27939', '42689', '37017', '15559', '6946,92', '26587', '8812', '20125', '5289', '10565', '27499', '3445', '20740', '8917', '23108', '36400', '6236', '40240', '6452', '25390,94', '6458', '23200', '7113', '25983', '15098', '4500', '6945', '42762', '17613', '20985,62', '14020', '21049', '33290', '7648', '3898', '10499', '3560', '11191', '11658', '3608', '23791', '6340', '2061', '30800', '4659', '24749', '18990,5', '9600', '10233', '11848', '11409', '4349', '7302', '21082', '18008,55', '7174,6', '24290', '19620', '8310', '3405', '6033', '2119', '21640', '15442', '9669', '5813', '5939', '18967,83', '5232', '2198', '7463', '21610,6', '17300', '16395,78', '21809', '6075', '15020', '30031', '11200', '14527', '5865', '6999,3', '9960', '4919', '19567', '3906', '29420', '12950', '5010', '19100', '8064', '8173,15', '19177', '4438', '16691', '5709', '5320', '25978', '9165', '26219', '4496', '9840,6', '5529', '9100', '5189', '22959', '13235', '20095', '5228', '12452', '18435', '9979', '17888', '7849', '5159', '21797', '38520', '21635,81', '71999', '34990', '21698,4', '15945', '13286', '14570,9', '15593', '5762,88', '28879', '5198', '22904', '6004', '14274', '4578', '4281', '2183', '20790', '5457', '84622,3', '6281', '11227', '10404', '21216', '9233', '22392', '33990', '10443', '17538', '96200', '11040', '25343', '6819', '3023,58', '28894', '4875', '20245', '21269', '3910', '6691', '3156', '18110', '3014', '23148', '4950', '7595', '13366,2', '16170', '44930', '14589', '26051', '5208', '10048', '4188', '7216', '79770', '11866', '6898', '55500', '32391', '27146', '25829,1', '8647', '13165,61', '19556', '27141', '23680', '44255', '12531', '16280', '11615', '10670', '6451', '25537', '40499', '26776,1', '7204', '19716', '28781', '5545', '12376', '11950', '3434', '7110', '11915', '35250', '28241', '16052', '20075,83', '6630', '15293', '5141,7', '12341', '11368', '12410', '11399', '16438', '20423,66', '3605', '26710', '14206', '15691', '16630', '5700', '20490', '5400', '4629', '3497', '35910', '46041,85', '16950', '11333', '3879,17', '24317', '28598', '8556', '27950', '21506', '4599', '6299,72', '15016', '5630', '2559', '7288', '19095', '5096', '15874', '13221', '25029,9', '3541', '21267', '42899', '36177', '19124', '16977,28', '39028', '3932', '12905', '14860', '8215', '17047', '17055', '16520', '28308', '24275', '6461', '45630', '13625', '11477', '6551', '17149', '21582', '4858,1', '14877', '16443', '34493', '7768', '23085', '17568,3', '2095', '2600', '11748,2', '6286', '19689', '7530', '10193', '3222', '19622', '14938', '10768', '5449', '21481', '2048', '13134', '3385', '10992', '9489,92', '17790', '12150', '27017,16', '48310', '29638', '4704', '9711', '26480', '39626,1', '13679', '7647', '10434', '14790', '20242', '13229', '15657', '17694', '6480', '8381,5', '28490', '4360', '6138', '17350', '21020', '7669', '8564', '17346', '19970', '20398', '5517', '15658,85', '5240', '2210,4', '3195', '32800', '28722', '19993', '4348', '56130', '10782', '19910', '25920', '4005', '6724', '13330', '17946,2', '21990', '5683', '7484', '3756', '7386', '8275', '20950', '15645', '10990,91', '19752', '6545', '4042', '24570', '16766,1', '24236', '18140', '5699', '6109', '9510', '9389', '7450', '21901', '34840', '10241', '4698', '19490,6', '18458', '12908', '24930', '4103', '8100', '28778,3', '4509', '24240,91', '19035', '19547', '10245', '5575', '28842', '28350', '3875', '15763', '7030', '19736', '27496', '41490', '37495,2', '7107', '10596', '9513', '8577', '14461', '52250', '81612', '26099,1', '33960', '7010', '27855', '7534', '10584', '4100', '21279', '31135', '60700', '5539', '9014', '13337', '4930,95', '23539', '33821', '22330', '23136,3', '4217', '2862', '26410', '25765', '14281', '8126', '18010', '18749', '14185', '8071', '15875', '5740', '29430', '3222,9', '6580', '119700', '10163', '3819', '5863', '7715', '12606', '13530', '12239', '10097', '99000', '27135', '8892', '17647', '4765', '46170', '6823', '22303', '3580', '11960', '11646', '20987', '11189', '16797', '6201', '10174', '10124', '16265', '53499', '12967', '20322', '4476', '13665', '5595', '9301', '37293', '12110', '11441', '17615', '14047', '23854', '27795', '11744', '6893,7', '10429', '3471', '13689', '40313', '13880', '22747,4', '4477', '14454', '14921', '2973', '59398,2', '74650', '16798,2', '3020', '17090', '22700', '16002', '15352', '11990', '2595', '12070', '21856', '9150', '84630', '12733,35', '33721', '22656', '12597,3', '10620', '22057', '9036', '5597', '10194', '15986', '18898', '4572', '4802,54', '2165,4', '5341', '18007', '45480', '16783', '6935', '27472', '27540', '6549,83', '29390', '14593', '45270', '18042,91', '5879', '29493', '13440', '21222', '10838', '4030', '60500', '29410', '56950,61', '23185', '18185', '3549', '17449,91', '3794', '11508', '70705,96', '5210', '4140,2', '11725', '25000', '12105', '25413', '19580', '10520', '11740', '8957', '7700', '15493', '2286', '18918', '8751', '34700', '8186', '13478', '34010', '3203', '10538', '10390', '9588', '88555', '28727', '35950', '30390', '13166', '2123', '18246', '6991', '81743,87', '11819', '24428', '6870', '3555', '2968', '29304,3', '6655', '28120', '20995', '6919', '13534', '12197', '5988,46', '4472', '4530', '12028', '19627', '20080', '46695', '10420', '3557', '72998', '18439', '14257,91', '10542', '8460', '12312', '17420', '18592', '5268', '13380,56', '20428', '78150', '34300', '83000', '18999,2', '4998', '35670', '23472', '5859', '3636,9', '25631', '27400', '63000', '32430', '4851', '4149', '29040', '4806,9', '8433', '27347', '26910', '13990', '58900', '5200', '27936', '8754', '3553', '18200', '16620', '18889', '32335', '23746', '17204', '48572', '5118,3', '26854', '3204,9', '15470', '22365', '34295', '4845', '3447', '6022,8', '17459', '24380', '10947', '8140', '18175', '5510', '32007,6', '12343,5', '23896', '7187', '2263', '89000', '8020', '17763', '31474', '37095,2', '8010', '22550', '24354,62', '27963', '11642,3', '15030', '21207', '11403', '22364', '8289', '14220', '2572', '4968', '23396', '26097', '7539', '9759,4', '23038', '6543', '22168', '15110', '28429,9', '65629,5', '9274', '16615', '16117', '15907', '5790', '2290,7', '14718', '5365', '30477', '40180', '9184', '41570', '32420', '2952', '5876', '38943', '7315', '3712', '27990,91', '3498', '5820', '3746,7', '10708', '22800', '28310', '8669', '32481,83', '17475', '16070,5', '9727', '25015', '24010', '18940', '18371', '29299', '43373', '6989', '18740,5', '9427', '7331', '6561,9', '18380', '25386', '5067', '7296', '5418', '3784', '2930', '6228', '27010', '3358', '25029,92', '18445', '13498', '7314', '11489,91', '10106', '30510', '26889', '19560', '30726', '33075', '12899', '13230', '13907', '24267', '9013', '23251', '7527', '8459', '21673', '3030', '12600', '6739', '10585', '7410', '34150', '34200', '18718', '11755', '17545', '10143', '6204', '16898', '34125', '25220', '2826', '21197', '6390', '8825', '30720', '17637', '2415', '19830', '37305', '7088', '13443', '13157', '18477', '11820', '14200', '21721,1', '11473', '6429', '15291', '33358,84', '11804', '12211', '30590,92', '16669,84', '15231', '30615', '22300', '33749', '52930', '35520', '14609', '6282', '10646', '34252', '9308', '35530', '11398', '4240', '14438', '14232', '6260', '12443', '4390,92', '18780', '5949', '30325', '24125', '4240,91', '25459,3', '2907', '17099', '6824', '16297', '16020', '4121', '6491', '21123', '11719', '13279', '6843', '19746', '9920', '27449', '17900', '27670', '25820', '12960', '33680', '13302', '44030', '13197', '5048', '7475', '35563', '18547', '39439', '2959', '53673', '78400', '11764', '33394', '8448', '18060', '15839', '20132', '6527', '17770,4', '6398', '6080', '2430', '22430', '7362', '18599', '22324', '5736,6', '5439,2', '11590,92', '25710', '22477', '18692', '8319', '10686', '21250', '23090', '9004', '13590', '5550', '12295', '26640', '12741', '8056', '12232', '22240', '10092', '11692', '9330', '21083', '6125', '3949,92', '26570', '9468', '2924', '6539', '9085', '22940', '14052', '34422', '19805', '22598,1', '11289', '26450', '15887', '14852,7', '24134', '14487', '17765', '17076,2', '7342', '20910', '4312', '24315', '18144', '31466', '26485', '11075', '4230', '35201', '6782', '21998', '6754', '24649,2', '4203', '20180', '4498', '20202', '20700', '11420', '5639', '3682', '27846', '23060', '8235', '8456', '5410', '19544', '4838', '12495', '3666', '23470', '58490', '29526,12', '10791', '5579', '4666', '23201', '34630', '17752,8', '31320', '2679', '10457', '4700', '3770', '9299', '12730', '31875,3', '56768', '7915', '3658', '9899,1', '9097', '33101,82', '11210', '3463', '61000', '35920', '11211', '59009', '23163', '15228', '27690', '5090', '15233', '4020', '4564', '5604', '40080', '40391', '25356', '28620', '24650', '4730', '7931,96', '25732,2', '6599', '22575', '37200', '13298', '32367', '2910', '63700', '24449', '82120', '10180', '9742', '9417', '13133', '31931', '13934', '28517', '4026,55', '22500', '4097', '8188', '3889', '18825', '6214', '10349', '18600', '10323', '7651', '5723', '12465', '21596', '41249,65', '15897', '6658', '3661,01', '19301', '15440', '8436', '37640,77', '27066', '14724', '13830', '37278', '5867', '4807', '31450', '17179', '2372', '9632', '14361', '16447', '17700', '10655', '26478', '3159', '9693', '29699', '29852', '13897', '8767', '54700', '5490', '37840', '7738', '11363', '78000', '23420,7', '2633', '11528', '23608', '40119,5', '23994', '16237', '43500', '10712', '16151', '36600', '2097', '19316', '6135', '17261', '21529', '22640', '2990,92', '36700', '12331', '32724', '25961,42', '19611', '25400', '18685,4', '25633', '7830', '2769,1', '6890', '7640', '19090', '9533', '6332', '25250', '16882', '29920', '28900', '12708', '11592', '6232', '64350', '20882', '15621', '23128', '11965', '25319', '12304', '14168', '18321', '9590', '62000', '4107', '10274', '32547', '14574', '14553', '46671', '6448', '2165,16', '27880', '13491', '26212', '4581', '14688', '6096', '8204', '27067,92', '7235', '7281,94', '3195,9', '16975', '40410', '4225', '37046', '64660', '21654', '8886', '7551', '36980', '14382', '34695', '17325', '29580', '18711,05', '20390,94', '18236,55', '12231', '5458', '11699', '5005,8', '16440', '5525', '11690,91', '21270', '54859', '24500', '31365', '5333,4', '13496', '33330', '15547', '4965', '56319', '26983', '24460', '31080', '12360', '28625,8', '5000', '17752', '28039', '19789', '4290,91', '8473', '27550', '3614', '6208', '14930', '13260', '4244', '13232,88', '13275', '35165', '7498', '17804', '24690', '19296', '29592', '75600', '10424', '14197', '22692,96', '6910', '19275,91', '31695', '10034', '12792', '13410', '17598,9', '22284', '4359', '44440', '85202', '9777', '3499', '15620', '7597', '71600', '18068', '15360', '6766', '6519', '14113', '9930', '19470', '13930', '29668', '4710,6', '21921', '32843', '9957', '13926', '13328', '11750', '24250', '22514', '10390,92', '14715', '24743', '22374', '34806', '28160', '10557', '18392,91', '21845', '22420', '9698', '8138', '11514', '14848', '89344', '9979,5', '18225', '11989', '4057', '25236', '7182', '9047,53', '5535', '5193', '25367', '12848', '14814', '12993', '25998', '14636', '24285', '37752', '6556', '8617', '6333', '19145', '17359,7', '18074', '8087', '4392', '11652', '20753', '28340', '6161', '30110', '11620', '13847', '9230,04', '82849', '18680', '18747', '15950', '29830', '26890', '29694', '9585', '17839', '30170', '33670', '23352', '4596', '3377', '21146,4', '8849', '28502', '26337,6', '7741', '13759,2', '32890', '17405', '24300', '37608,91', '10710', '19765', '26990', '23130', '13922', '7819', '8128', '3128', '11770', '6342', '24112', '51900', '19650', '24066', '10559', '22905', '5577', '27759', '9221', '5230', '3808', '26232,03', '35091', '6562', '15720,91', '6830', '5984', '26375', '29693', '16696', '14648', '36900', '21112', '28775', '3269', '25182,4', '3484', '6294', '17842', '9445', '33978,63', '12220', '23341', '36260', '4647', '11331', '6481,8', '27392', '8955', '18615', '11834', '25627', '10400', '5486,4', '13441', '9460', '30630', '12092', '14918', '16910', '15403,02', '39344', '21940', '61920', '3655', '11986', '4620', '2623', '6146', '19083', '4843', '80000,64', '15280', '15356', '4920', '24326', '73306', '8233,95', '27886', '4275,9', '30240', '29877,3', '21870', '27098,6', '11701', '15220', '11389,2', '39600', '5310', '24990', '10995', '6027', '19944', '38386', '3080', '13797', '26695,8', '13146,1', '26150', '12940', '4440', '13710', '26664', '15309', '16114', '9787', '27213', '6030', '32000', '24923,39', '10965', '7824', '26355', '46921', '7195', '7163', '20355', '13457', '16080', '4590,2', '7208', '12902', '10981,82', '27637', '8243', '20103,82', '7621', '8980', '74119', '23762', '6790', '6289', '5183,6', '7673', '11930,92', '2370', '10220', '12860', '24499', '16750', '7245', '9978', '13495', '38625', '29790', '21450', '44700', '11392', '6127', '35960', '29266', '9826', '5543', '8480', '17759,27', '17922', '11817', '6720', '23663', '69730', '44938', '12564', '87704', '38810', '9223', '13841', '19797,1', '11337', '30391', '4469', '6606', '3621', '30102', '24667', '32920', '9852', '13623', '96860', '7812', '24272', '93000', '23575', '10350', '3365', '52200', '18479', '4658', '8043', '10773', '10214', '2398', '7729', '7152', '35369', '34916', '23717', '16919', '8850', '10116', '4490,9', '26580', '3945', '28116', '16190', '21390', '3391', '9759', '9839', '6585', '18700', '26200', '5067,2', '18360', '17020', '22687', '22005', '42300', '20590', '9749', '3076', '4802', '12816', '4250', '20581', '22413', '16465', '11020', '6552', '14205', '31400', '5739', '28674', '24270', '4821', '29664', '24699,2', '21061', '16547,3', '17357', '9167', '2960', '7513', '19795', '20561', '11448', '19635', '25031', '12629', '11217', '5126', '6359', '2912', '29995', '29690', '26490', '3879', '8788', '8398,1', '4037', '6469', '4939', '56790', '7698', '16250', '27737', '21118', '26420', '33570', '20755', '11335', '3886', '10430', '8476', '40970', '7523', '3144', '52000', '37219', '9545', '20573', '6455', '16730', '11259', '23170', '59200', '90747,9', '23793', '7903,8', '17371', '8977', '23380', '11488', '5757', '2099', '14698', '2330', '11542', '3750', '38490', '20562,2', '11281', '19907', '4150', '19489,91', '6715,2', '32907,5', '43010', '18328,6', '4401', '20802', '4858', '36919', '23976', '28875', '4746', '16371', '9895', '31013', '20856', '13598', '16403', '25685', '3602', '11990,91', '24764', '7735', '16312', '4080,7', '36063', '4274', '9769', '27854', '10250', '14947', '5389', '15890', '72990', '14660', '6386,4', '72220', '12305', '38300', '15587,1', '3778', '40756', '30954,64', '32508,2', '31460', '19137', '10650', '7259', '17509', '19833', '9019', '28296,6', '3143', '16893', '29200', '4634', '4770', '28755', '27611', '77860', '16389', '6698', '2843,58', '22987', '5353', '49653', '24301', '44000', '18667', '16222', '7137', '15130', '9865', '30100', '13110', '2601', '3420', '15151', '14166', '7605', '3970', '10486', '13351', '18398', '8720', '14942', '18250', '31605', '8549,1', '6049', '10052', '11170', '8472', '43380', '3843', '16379', '7514', '27960', '22317', '18612', '40320', '6643', '9977', '28770', '12309', '91168', '21696', '10085,9', '21653', '17378', '35430', '13402', '3245', '75000', '23026', '9059', '6280', '19745', '6948', '5718', '6995', '9621', '28858', '22880', '19143', '6740', '26524', '37933', '33126', '16704', '11687,6', '83295,63', '12421', '30792', '8890', '24608', '2094', '9227', '15556', '36877,25', '26550', '18575,2', '11754', '16843', '18862', '10136', '13388', '5119', '27686,2', '21850', '21685', '4611', '11243', '90200', '25140', '25557', '5576', '16732', '12451', '9341', '8787', '16279', '19246', '17693', '21540', '15283', '23598', '4741,12', '7910', '2421,9', '26440', '18472', '19908,1', '5801,4', '13515', '8438', '21591', '26199', '11615,1', '6699', '7380', '9675', '17073', '16142', '14147', '6120', '8059', '16105', '11920', '26817', '6577', '9422', '33966', '10925', '3952', '3424', '22999', '29440', '7008,48', '16701', '10646,2', '4186', '16824', '23467', '29769', '11700', '28730', '24138,2', '19011', '20007', '22203', '3651', '2478,6', '8598,6', '17339', '24420', '25287', '16445', '15420,3', '7041', '8725', '4139', '10419', '47520', '29607', '18857', '15481', '4769', '9444', '13325', '27276', '6433', '11299', '4834', '10790', '13887,68', '24694', '6741', '26311', '19982,92', '4004', '7144', '4428', '20374', '25340', '23202', '7343,95', '24750', '8680', '34391', '22135', '3343', '73035', '9927', '18040', '4428,1', '31252', '22360', '24049', '14725', '19850', '17172', '14071', '7598', '6899', '30012', '40680', '5778', '20206', '20658,2', '11154', '13715', '11100', '27050', '9086', '8619', '6496', '10200', '17398,2', '28990,91', '6853', '16399', '31060', '7077', '40581', '29334', '10752', '10576,2', '24475', '10347', '23398', '9526', '11660', '13695', '24204', '8819', '31716', '27356', '23265', '17273', '21700', '32940', '6567', '40490,91', '12173', '9956', '22944', '13245', '8292', '7486,1', '7105', '3905', '23959', '2241', '21740', '31882', '30840', '23992', '11505', '45299', '17270', '22417', '10139', '14284', '10714', '28971', '3880', '9250', '13998', '21140,7', '7471', '19659', '4416', '6460', '26871', '47100', '5871', '12276', '33423', '15272', '6381', '3550', '18399', '59750', '21550', '11769', '5426', '4014', '6341', '29209', '29030,6', '8487', '13249', '9035', '22250', '4000', '3138', '11649', '3389', '14498', '86071', '20580', '4795', '2798', '6310', '26898', '26395', '9730', '24150', '36915', '8750', '5173,2', '20977', '7847', '15147', '14160', '5928,1', '3339', '23192', '20992', '17980', '14460', '20209', '5605', '5757,1', '8973', '7190,94', '4760', '11196', '10500', '32280', '14523', '27166', '25899', '21042', '31748', '13184', '11904', '12782', '12740', '3767,1', '13670', '28341', '20499', '10331,1', '46900', '27251', '10509', '5493,04', '19797', '28180', '8096', '39350', '2088', '14841', '19315', '11430', '20280', '11012', '7875', '6487', '26460,92', '14469', '16650', '27506', '8988', '9367', '13637', '19920', '47899,5', '12069', '14453', '3681', '5531,8', '18306', '7876', '10995,9', '8831', '45898', '11345', '4559', '13310', '36093', '12900', '16602', '23425', '11489', '24166', '11078', '7884', '10205,5', '20783', '19751', '12840', '24086', '27440', '16244,9', '12470', '24658', '26260', '10435', '16500', '16203', '12408', '25639', '20598', '14247', '41292', '36267', '22951', '12249', '33111', '7080', '20536,1', '12059,1', '18964', '23021', '23033', '11970', '14096', '13014', '8132', '3960,9', '16155', '14976', '9399', '27248', '20356', '4780', '3167', '7334,58', '20430', '2855', '30825', '23947', '3792,92', '14177', '8874', '22872', '14315', '4196', '21561', '14598', '8536', '5925,1', '23869', '7926,4', '5698', '30422', '38990', '19311', '79679', '20540', '24370', '30198', '13280', '8117', '5996', '20998', '8935', '25550', '23274', '6838', '12095', '26540', '38108', '3950', '6710', '14475', '14998', '10820', '6649,2', '21736', '2872', '27589', '4148', '25461', '9532', '16849', '4125,6', '83407', '23304,6', '10606', '12053', '42281', '17673', '16065', '8136', '3474,9', '6750', '19993,4', '6865', '2770', '11751', '22349', '9860', '4869,66', '7060', '25081,98', '7368', '21645', '5017,9', '10381,5', '19924', '4291', '19300', '7167', '28230', '12972', '7704', '6665', '36805', '35598', '15580', '88500', '6325', '4759,6', '7032', '14656,5', '10612', '8470', '18576,8', '15765', '13000', '7293', '19478', '4360,5', '12490', '11348,1', '14619', '23980', '5045', '19079', '16736', '37233', '23630', '7593,48', '9042', '13900', '63306', '7670', '14172', '9992', '22080', '29428', '20100', '6291', '3850', '22106', '15704', '6475', '34890', '4637', '19250', '27434', '17276', '17890', '15810', '4999,1', '18589', '14070', '5687', '41609', '29691', '40480', '4212', '20299', '8340', '4617', '20827', '18808', '17820', '18030', '13635', '6529', '20710', '3990', '2176', '39300', '7180', '6522', '11394', '2253', '21408', '16890', '11595', '18896', '21160', '9215', '27000', '23029', '7396', '19938', '6000', '12797', '4125', '7767', '12550', '3834', '12478', '14377', '8322,77', '10326', '23126', '4086', '11000', '19734', '13216', '12392', '13916', '6264', '15675', '13770', '19060', '7588', '9230,9', '21938', '5643', '7780', '31990,6', '20571', '18176', '11507', '16640', '2408', '11219', '23226', '22361', '28810', '4170', '6118', '7902', '23843,7', '5485,95', '13121', '10700', '9809', '3048', '9285', '12537', '22428', '20070', '10260', '24297', '9892', '3279', '19840', '3300', '6339', '40309', '7376', '7492', '9010', '20497', '5936', '12646', '6399', '9127', '2569', '39327,2', '42620', '4789,92', '7000', '6148', '27022', '15830', '21499', '6930', '11340', '8990,9', '6624', '85400', '75548,8', '18845', '25957,2', '7994', '28224', '11943', '15070', '12889', '11416', '31588', '6336', '4315', '25960', '9372', '11576', '13326,5', '30841', '5916', '18187', '18403', '4851,81', '12455', '8188,04', '3336', '6069', '25439,4', '5044', '62700', '15720', '4879,8', '10695,13', '10880', '6953', '19738', '15705', '13520', '16240', '31496', '11093', '10846', '9140', '5496,4', '17901', '3636', '22977', '10183,4', '5451', '24070', '22252', '20300', '15430', '7575,1', '8650', '18329', '31050', '25641', '5309', '5188', '11897', '16441', '14365', '3150', '32880', '6918,34', '2745,9', '8491,82', '67950', '27098', '15642', '15226', '6020', '7611', '22498,2', '15685', '16092', '20871', '9087', '8159,06', '27680', '29471', '5333', '32114', '20583', '13686', '4853', '25999', '7017', '11990,95', '9620', '18517,1', '5406', '20317', '11390', '10887', '10991', '23490', '6863', '24695,2', '4928,96', '67944', '26262', '16850', '5296', '14110', '9596', '9482', '29860', '5091', '24423', '15948', '10599', '14920', '5364', '19719', '20939', '59760', '6535', '19772', '15372', '26708', '14990,95', '16961,1', '33192', '24897', '9891', '15245', '4236', '18490', '42682', '24295', '7194,72', '4690', '18805', '16965', '20375', '58670', '5329', '34390', '9780', '21209', '87570', '13470', '15913', '4805', '7997', '11600', '8490', '12372', '7336,3', '29650', '6697', '35529', '29997', '29490', '13778,92', '15602,5', '32894,18', '10990,2', '21312', '20852', '13179', '23830', '6595', '7556', '14488', '7255', '20248', '6574', '24345', '27642', '7816', '11790,91', '14013', '13800', '20112', '2773', '23723', '40900', '5799', '12833', '11739', '10442', '4110', '9431', '21382', '30381,84', '5404', '19348', '27337', '10278', '4825', '25068,94', '32892', '22145,1', '13476', '24900', '4204', '15709', '7752', '3321', '28431', '5963', '13821', '24100', '22243', '3637', '33600', '13093', '20695', '3348', '10735', '4657', '22008', '25850', '2999', '18913', '2060', '11636,7', '11060', '18376', '9990,2', '4471', '12350', '8856', '20464', '21058', '5255', '7981', '26170', '19229', '6109,06', '14190', '35060', '20379,5', '7799', '15048', '8380', '15319', '17379,99', '12262', '29989', '26547,3', '9030', '15165', '2041', '7713', '21277', '37060', '7404', '33830', '10428', '14005', '19298', '22085', '11380', '25870', '7125', '9271', '19540', '4800', '13257', '11300', '5946', '17994', '3490,91', '24490', '65273', '10749', '6463', '12597', '2707,2', '7431', '7360', '14510', '34920', '7856,9', '11088,5', '34499,2', '13748', '40250', '6338', '25940', '14119', '9557', '5033,83', '32644', '14800', '4176', '27163', '4909', '6999,9', '12909', '31196', '37990', '10706', '3998', '18830', '29393', '6192', '34720', '6848', '23690', '10983', '21246', '36570', '7307', '11006', '8495', '11175', '20520', '14773', '15613', '7815', '7558', '60950', '24999', '28237', '12278,9', '74319', '14647', '41990', '21615', '6256,8', '14090', '31672', '11053,8', '15648', '20650', '17998,2', '25151', '13460', '3547', '29942', '3540', '10868', '3423,59', '5968', '85742,8', '15797', '14927,83', '34779', '24328', '6889', '11639', '62240', '24179', '6652', '4258', '14219', '2660', '15100,82', '5625', '29789,91', '2120', '19140', '2100', '24795', '37780', '16519', '9515', '11190', '83078', '13733', '9996', '35400', '18790', '4778', '9347', '21130', '11322', '3869', '16285', '28200', '23858', '15084', '11685', '11039', '8878', '6561', '17883', '10639', '17367', '27390', '18949', '26975', '14316', '14292', '11690', '10910', '17572,68', '6386', '13745', '8396', '26163', '5607', '16985', '6361', '11955', '3257', '27498', '6029', '10079', '8949', '11025', '7209', '3346', '8399', '24435', '14992', '13489', '27250', '30735', '17990,91', '22082', '7421', '34739', '24064', '14000', '4280', '23882', '3103,2', '80676', '4720', '11017,35', '21570', '8370', '26510', '4202', '13497', '13397', '12749', '2245', '2362', '44408', '17203', '9733', '12636', '5995,46', '10891', '85270', '13001', '67490,94', '26907', '13610', '8434,1', '7585', '12734', '7590,31', '9501', '2830', '19880', '5920', '18207', '13536', '28079,84', '20934', '20541', '5060', '10160', '8170', '17796', '17812', '5242,3', '20498', '5187', '3077', '17650', '5735', '12616', '3033,9', '8740', '31950', '19464', '26070', '22830', '22263', '27005', '55000', '6507', '22133', '10231,2', '3299', '7183', '5805', '5222', '27934', '14260', '23822', '8290', '15954,3', '5632', '7990,9', '14144', '32310', '6090', '25326,55', '9810', '22490', '34335', '17631', '36617', '17248', '19320', '11960,94', '11629', '16395', '8540', '24773,2', '29960', '3255', '10810', '7979', '5806', '22292', '23820', '12120', '38498', '8034,2', '6799', '22528', '7084,28', '23787', '22049', '8432', '18744', '46993', '44789', '15570,4', '4743,68', '16983', '11446', '7327,8', '5930', '28430', '8675', '14957,1', '2879', '24007', '3311', '13185', '4489', '6917', '4165', '4398', '7369,7', '21960', '3870', '10914', '13025', '22490,91', '9212', '2290', '15883', '22871', '29443', '11264,25', '6610', '25695', '2399', '8948', '4879', '26543', '12670', '12136', '50929,82', '2305,8', '25179', '40098', '50300', '13258', '32085,4', '29295', '12288', '5724', '5078', '3700', '12460', '7541', '3930,81', '20143', '3028', '14331', '29372', '27829', '30224', '18500', '27020', '22125', '8068', '13959', '11571', '23799,2', '5855', '37560', '3499,9', '7660,42', '7454', '31520', '10907', '11317', '25454', '18687', '12393,91', '15680', '11916', '5100', '31510', '24485', '13546', '11860', '16621', '7228', '20970', '5152', '31490', '3916', '3832', '15418', '3654', '16698', '14796', '7633', '17895', '4216', '20669', '9663', '21812', '16794', '10860', '23800', '50140', '8293', '14700', '12499', '17297,6', '25538', '69990,94', '14711', '17970', '20040', '16063,29', '32479,99', '31189', '24047', '3858', '11377', '3387', '14949', '88000', '7469', '2939,2', '22068', '23647', '3960', '8735', '17040', '5919', '3258', '11247', '11570', '4540', '25520', '12508,2', '23570', '14885,91', '3158', '32819', '9365', '16609,09', '24858', '80973', '5354', '4739', '14570,01', '16970', '23199', '21536', '5383', '41730', '13865', '26818', '4254,12', '3098', '23230', '13248', '15560', '16507', '4109', '14601', '10300', '10852', '6103', '24889', '28469', '4664', '6546', '30656', '7779', '21086', '23913,2', '4329', '10204', '3061,45', '6097,5', '4074', '4885', '3861', '6900', '13297', '16450,71', '14747,1', '27885,2', '32175', '21630', '16647', '8641', '20478', '23960', '8415', '6390,95', '5438', '2378', '7689', '35669', '27860', '22770', '16452', '53208,92', '12225', '3304', '22419', '18934', '4072', '17609', '3819,2', '23320', '5428,1', '9094', '8482', '28410', '38120', '30190', '23558', '11487', '5668', '21900', '15696', '34542', '25137', '6939', '19645', '10840', '17719', '5606', '17010', '20747', '9750', '25330', '3464', '6629', '2785,44', '4729,72', '6747', '5721', '12199', '13991', '17682', '36976', '5019', '7504', '3329', '4921', '7505', '5057', '12159', '25901', '22100', '9702', '27891', '23451', '5483', '10456', '9342', '4362', '25965', '28630', '25989', '13698', '21050', '16367', '5776', '8753', '29799', '16048', '27535', '20424', '95000', '21225', '7019', '4642', '22668', '4464', '3753', '13514', '6102', '6779', '5275', '17098', '12520', '18216', '12190', '10515', '13267', '9144', '9280', '15410', '14159', '13271', '17435', '22810', '20091', '38725', '17247', '13053,2', '9688', '18997', '64500', '43285', '11749', '5032', '41397', '10506,76', '6281,83', '12696', '29970', '6457', '10341', '7609,5', '6593', '11724', '18717', '33790', '14295', '11730', '21410', '4450,5', '8507', '13150', '36432', '11204', '14870', '25146', '7639', '27387', '6993', '3029,1', '14493', '8795', '9472', '17000', '3290', '52540', '31646', '15170', '9898', '4874', '19934', '19331', '23946', '13624', '20619', '19134', '8033', '27102,5', '25301', '10969', '23706', '10270', '13790', '23895', '27150', '32370', '10210', '24017', '18745', '5361', '24587', '11870', '9820', '32397', '3855', '13921', '16988', '25109', '38718', '3125', '7954', '15036,21', '20648', '8268', '6196', '3170', '12672', '24599', '10225', '20680', '27062', '20272', '4668', '31720', '21120', '7259,8', '23971', '6265', '17411', '21460', '21650', '27446', '7821', '2704', '22427', '4195', '31696', '8689', '12370', '35821', '19190', '28162', '23517', '26181', '21190', '23188', '4135', '44879', '16733', '14309', '4290,95', '95670', '7965', '11323', '35721', '23218', '11999', '10999', '5011', '15824', '9849', '11445', '12861', '3717', '8909', '38764', '5231', '13112', '2950', '17575', '6081', '12514', '3089', '10616,4', '15760', '4080', '10738,5', '15192,73', '6834', '16648,2', '14188', '2000,51', '18598', '30713', '33700', '4292', '5037', '23448', '5647', '21200', '19040', '9791', '27909', '2671,2', '12590,95', '13172', '45506', '4641', '34900', '19293', '49223', '16398', '5003', '4844', '9276', '18540', '2915', '59224', '14134', '33730', '10978', '13389', '32935', '8342', '9359', '3951', '6197', '7147', '4366,8', '27945,54', '2957', '10697', '4290', '6854', '2711', '25749', '20313', '8260', '6922', '19890', '12686', '13851', '17649', '11455', '26991', '29396', '5772', '10508', '11230', '10479', '37629', '9933', '5898', '5755', '4523', '17474,35', '10161', '23210', '6345', '17704', '2907,9', '16230', '21520', '12160', '6397', '4212,8', '4938', '23300', '4870', '3135', '6575', '7151', '3619', '23317', '3316', '18839', '10279', '17424', '15863', '24240', '10978,6', '12699', '20006', '5207', '23154', '6619', '18141', '7586', '27070', '23440', '20990', '17500', '61973', '18797', '3570', '6909', '41720', '9518', '26915', '23825', '22561,6', '6032', '10702', '8377', '12464', '29120', '77210', '23670', '9651', '21844', '3483', '4799', '17690', '8423', '5181', '53662', '7240', '4293', '6605', '12995', '11458', '17025', '10738', '18358', '4600', '3186', '13577', '2590', '51750', '4328,1', '37440', '29384', '17595', '18707', '16810', '23147', '7679', '7618', '13910', '69825', '98000', '3140', '29998', '4288', '7570', '9927,1', '15740', '19197', '4984', '19503', '19883', '10115', '2844', '9464', '11930', '32650', '36187', '23146', '18171', '10884', '15725', '10440', '11789', '33510', '23260', '20502', '27648,2', '4191', '30206', '4474', '19131', '3604', '5618', '7399', '24392', '17480', '15960', '7509', '14290', '11790', '20131', '7968', '5300', '38316', '39996', '6198', '17106', '37016', '3207', '4513', '7222', '3289', '28557', '51700,5', '20698,1', '14390,92', '8357', '40824', '9000', '21590', '3320', '18584', '2955', '8041', '19581', '14065', '4790', '13201,44', '7095', '28288', '23400', '60000', '36530', '3825', '15394', '21231', '27457', '16823', '4246', '25615', '7974', '18876', '17091', '19775', '7533', '11977', '6978', '21658', '6584', '8648', '13370', '19155', '16189', '3893', '28750', '12549,07', '31800', '4835', '20893', '16565,65', '12466', '36680', '19809', '9268', '10368', '30684', '2248', '23563', '15240', '26875', '20085', '11910', '16635', '3899', '10447', '27149', '40829,55', '21100', '10560', '15236', '18756', '8099', '24945', '22457', '29312', '8210', '18268', '9670', '59590', '16613', '30550', '27490', '30011', '12598', '7880', '9245', '26489', '13299', '22025', '19927', '14391,2', '26920', '12849', '7590', '3828,6', '11495', '26848', '22000', '5542', '24506', '72885,57', '15552', '14878', '14948', '23944', '19205', '35943', '7511', '20636,91', '6014', '14380', '14622', '2498', '12978', '17688', '16128', '27645', '6938', '20698', '14030', '7217,1', '8127', '4241', '25095', '4990', '24061', '27673', '28059', '35130', '9989', '3418', '25452', '3376,8', '3395', '17030', '15067', '2719,2', '28238', '6470,9', '21479', '9748', '9712', '3731', '22499', '6354', '7128', '17549', '7350', '17770', '24390', '24970', '3019', '7157', '6299,2', '17340', '12024', '21220', '3107,7', '20388', '23160', '13288', '6273', '19843', '28264', '4642,65', '19529', '6217', '7848', '5877', '31643', '35369,4', '5218,06', '6780', '14730', '23397', '20237', '8125', '10827', '33760', '58000', '3527', '12320', '8440', '9099', '5474', '11412', '4530,7', '23031', '18270', '17370', '7207', '17655', '32265', '18162', '24550', '4827', '11490', '4336', '24199', '20475', '6050', '8901', '22799', '13840', '38832', '7574', '13929', '24190', '2219', '12899,1', '18980', '6319', '16781', '7638', '17803', '16875,1', '17400', '25785', '10410', '25447', '18870', '12530', '17780', '13905', '5020', '2680', '6160', '5295', '17039,91', '8712', '35269,2', '14931', '12984', '26241,6', '9908', '22384', '19928', '12726', '16738', '66690', '4235', '7973', '9090', '6467', '26730', '4662', '5768', '5005', '13090', '21805', '20968', '3141', '7763', '33280', '6128', '25750', '5436', '34148', '23377', '24647', '10147', '18319', '18890', '7472', '13020', '28700', '35035,2', '13021', '2366', '5199,2', '3034', '4505', '16057', '11540', '8869', '26865', '21420', '23390,91', '6321', '10392', '20240', '10619', '12140,92', '3918,6', '53169', '6023,7', '11069', '35490', '18632', '9765', '12472', '25290', '12933', '7173', '27600', '8555', '57000', '7622', '21730', '9654', '25727', '6901', '30544', '19420', '19798', '10021', '8685', '23168', '42850', '79200', '36910', '17060', '43750', '10370', '6903', '23783', '12255', '5899', '2979', '5092', '20220', '10756', '9256', '31900', '44760', '16920', '5499', '35683', '10086', '24336', '18693', '5125', '12200', '23577', '19150', '8200', '6959', '13030', '20310', '20748', '27660', '16790', '23595', '16488', '5043', '10448', '14934', '7632', '43195', '6980', '50950', '4580', '6571', '2240,95', '12480', '4320', '5555', '26080', '8899', '28590', '4990,92', '17461', '8723', '32490', '37531', '8898', '28098', '17946', '5690', '10695', '6403', '45952', '54738', '17211', '32183', '11908', '8742', '33662', '18340', '14081', '61600', '10652,6', '3239,2', '40700', '2691', '20252', '21030', '14890', '15267', '20780', '19000', '6941', '19439', '6110', '5729', '13395', '28110', '14387', '22400', '5645', '7480', '10021,5', '24046', '134000', '12315', '6707', '5989,5', '29544', '8097', '4947', '37350', '23240', '3996', '12307', '23770', '19289', '7166', '42746', '29395', '25195', '11266', '7219', '3834,81', '3800', '5396', '32330', '11651', '4408', '88312', '15748', '32292', '25890', '29250', '13156', '20197', '15736', '16289', '13979', '20758', '10469', '12948', '30714', '15201', '9681,5', '9814', '39638', '22717', '22310', '15039', '20296', '24905', '80000', '15003', '12884', '8697', '3674', '5292', '19491', '13815', '25868', '19598', '28773', '3904,3', '14402', '9160', '28083', '2265', '2730', '20088', '5608', '86449', '23158,1', '8815,5', '35900', '5232,2', '63657', '4520', '27518', '50678', '22927', '9456', '25690', '7872', '5399', '31294', '22835', '5391', '19991', '14798', '24081', '5950', '5415', '5526', '6435', '7610', '22119,91', '7856', '9137', '5845', '20568', '14477', '4580,92', '19082,3', '9866', '9909,9', '66504', '6297', '8416', '42047,91', '20338', '4059', '6380,91', '14916', '7310', '42940', '22048', '18972', '9840', '47740', '30830', '26711', '8151', '70410', '18878', '36897', '26870', '2878', '7916', '4430', '30201,2', '30418', '26115', '18105', '7892', '8189', '8658', '5169', '10312', '25778', '17395', '8544', '9047', '9894', '6770', '32444', '27720', '10600', '49743', '7037', '11147', '29680', '5211', '61040', '23280', '27922', '19996', '51300', '9203,4', '12400', '6609', '12048', '6755', '29905', '38500', '10331', '5041', '8047,1', '28680', '39741', '18840', '5288', '17680', '12289', '8755,6', '14640', '39422', '44560', '7839', '23688', '12401', '9988', '23416', '5793,3', '3928', '17773', '24479', '58086', '26457', '50900', '3429', '21498', '47829', '11697', '22654', '4583,7', '22621', '4089', '4326', '6130,8', '14390', '10680', '23920', '18198', '13227,1', '3640', '31150', '23279', '8050', '22900', '3404', '18714', '11826', '2573', '23900', '50700', '3920', '11623', '2900', '9538', '12130', '24233', '12240', '13918', '10170', '9599', '19591,36', '31933', '3015,2', '8848', '5068', '8939', '22588', '4023', '27975', '32256', '2835,15', '22210', '21546', '11735', '5684', '10110', '4898', '17580', '4674', '29663', '9858', '13400', '13270', '26981,82', '15270', '6726,1', '23152', '13050', '8790', '19854', '2225', '24886', '21444', '6730', '12292', '18686', '8195', '15230', '5500', '27200', '31498,2', '8745', '17231', '19790', '44900', '27905', '11630', '13302,83', '98644', '30900', '11637', '29647', '24816', '21580', '73300', '19665', '11687', '3520,8', '11311', '24680', '4891', '12366', '7198', '24962', '23410', '13382', '32241,82', '11648,1', '25370', '6490', '20600', '11911', '10352', '26529', '15524', '50330', '12229', '26886', '41600', '14130', '76050', '5497', '2550', '13600', '25155', '29070', '10879', '8920', '11799', '4570', '5990', '16737', '21783', '23100', '4399', '10015', '5149', '23690,91', '21762', '11430,01', '10794', '5886', '54105', '5931', '3000', '8829', '11798', '56763', '4719', '20053', '24929', '10854', '3848', '10496', '16875', '2831,97', '14107', '26961', '12592', '8241', '20730', '6628', '6807', '16596', '28186', '7660', '8429', '60888', '15990', '20370', '35498,4', '5282', '8698', '22260', '17643', '14398', '9357', '12348', '12546', '5528', '11286', '23095', '16310', '6525', '77800', '2215', '14857', '35793', '20069,33', '66578', '48379', '47991', '5505', '17330', '16257', '5353,5', '5090,92', '25080', '4480', '16888', '16601', '7045,2', '12012', '8627', '16629', '8048', '5977', '6237,03', '5162', '18727', '34821', '5297', '28042', '8410', '13191', '3537,5', '6597', '7547,2', '10970', '10286', '22011', '22110', '9845', '16571', '48721', '10837', '15400', '7717', '10240', '17366', '7258', '18498', '6071', '9594', '15704,6', '3677', '11450,9', '5850', '8991', '7135', '6366', '9375', '27450', '5300,9', '5994', '11810', '10315', '19602', '13210', '21078', '4744', '21784', '28862', '16583', '38898', '8220', '4922', '14430', '20925', '29177', '14140', '6136,58', '5646,6', '14470', '14150', '13386', '16715', '28090', '32976', '3942', '30600', '5837', '13448', '37489', '3355', '28010', '19590', '16785', '24711', '5779', '13324', '17254', '4582', '26760', '9882', '5023', '8373', '14580', '6010', '4679', '9095', '14328', '28861', '28540', '13409', '10238,82', '25740', '20400', '6335', '10617', '21795', '10998', '23044', '9344', '9037', '10306', '20200', '4689', '4816', '13320', '11800', '18414', '23351', '22391', '6035', '22147', '15732', '5710', '16993', '26880', '15800', '22398', '14288', '60720', '13615', '27630', '12325', '24210', '4670', '9433', '13889', '14215', '12080', '12733,5', '25485', '22266', '9640', '9971,3', '2962,8', '10610', '9416', '8489', '10720', '36479', '30310', '35825', '27588', '7020,9', '42742', '4064', '14094', '26950', '5130', '3829', '2039', '27501', '9729', '35598,01', '32846', '11042', '12811', '95441', '19128,41', '3798', '22836', '20904', '41500', '70000', '17567', '3357', '17948', '4575', '9461,5', '30603', '31687', '20898', '26698', '56000', '10467,1', '8323', '20767', '15210', '7988', '25253', '21487', '31433', '19489', '6879,84', '28840', '22960', '7361', '15479', '3830', '20229', '11310', '7776', '17622', '8589', '44530', '3542', '9003', '16544', '6070', '15658', '15795', '11364', '26499', '19443,5', '2540', '10209', '36500', '17640', '26930', '4930', '9879', '31000', '11601', '16991,5', '6447', '19820', '27820', '17865', '31190', '3987', '17202', '16860', '34465', '29449', '6880', '26955', '17861', '10640', '15512', '37400', '3199,2', '13118', '24607', '15998', '24280', '22167,6', '4969', '10215', '19946', '43376', '41601', '16263', '11577', '17460', '15340', '11877', '22233', '19674', '12809', '21010', '52561', '14010', '29065', '19099', '8492', '7373', '30974', '33120', '20931', '10346', '13976', '23625', '40357', '9241', '11385', '19130', '10422', '10058,5', '16416', '3396', '5128', '8910', '18045', '48800', '11303', '63332', '22192', '3268', '18085', '21624', '8500', '25760', '23310', '3220', '5723,84', '78350', '23347', '24404', '47783,85', '26310', '12247', '21405', '31680', '3149', '7242', '19049,13', '6987', '20249', '25297', '6876', '26634', '5860', '8852', '21290', '12610', '23990', '14472', '30520', '5099', '5486', '7452', '13653', '48600', '14250', '16264', '7443', '4855', '18984', '24720', '21080', '7908', '14320', '17546', '29461,34', '12038', '26432', '22458', '18624', '18339', '6679', '23089', '16795', '8741', '3284', '7339', '14083', '30267', '3935', '10022', '17962', '26339', '74000', '56600', '11480', '9760', '3650', '33320', '4076', '16227', '2351', '44660', '9913', '5765', '17398,1', '40534', '9907,2', '14443', '5399,2', '16917', '51777', '9060', '7345', '15540', '45438', '5862', '5678', '16460', '19552', '13010', '19359', '24215', '5807', '12377', '8464', '98808', '15914', '8729', '3185', '5350', '2555', '51441', '31943', '16542', '30309', '3385,83', '10431', '17140', '5494', '61915', '14548,2', '7391', '12121', '11899', '28922', '25966', '26740', '60020', '5680', '17597', '14661', '27995', '13879', '15831', '34119', '25568', '9159', '6489', '15755', '7191', '42669', '12428,7', '3031', '4029', '12379', '4212,9', '3670', '12639', '14400', '87600', '33183,4', '6960', '21011', '2190', '6878', '9158', '5674,5', '2580', '2009', '31596,92', '21724', '41950', '32398', '21128', '17139', '10575', '24700', '18602', '5520', '9950', '3067', '7260', '14076', '37656', '9815', '23370', '14536', '2000', '9837', '48500', '22888', '19857', '23720', '30680', '2255,4', '18275', '22124', '12998', '12100', '9210', '10734', '31056', '29750', '29875', '13950', '13098', '23751', '16740,65', '11182', '19545', '19074', '2524,5', '19486', '26819', '23865', '21480', '22188', '18669,2', '42135', '3762', '8638', '19195', '10936', '4638', '21599', '12463', '5487', '18740', '10576', '49330', '7857', '19460', '17880', '11440', '3710', '19417', '16245', '3359', '7348,52', '11176', '9452,97', '19930', '41125,88', '58541', '94358', '29000', '18480', '10795', '12290,9', '6622', '39865', '18290', '4951', '21707', '14095', '18566', '6111', '30597', '12919', '21150', '3949', '44050', '39120', '5761,9', '7845', '4261', '27099', '6350', '19162', '13239', '3984', '10709', '31300', '23009,1', '31420', '5249', '25177', '7800', '6174', '5540', '18041', '24552', '6191', '10155', '4644', '14528', '6492', '26232', '14370', '5964', '10459', '5619', '7600', '13198', '30158', '4810', '2511,82', '12521', '11648', '2805,53', '23000', '7268', '10305', '14060', '4095', '14046', '12572', '12854', '18849', '13921,36', '9110', '22480,9', '6686', '12702', '16039', '11242', '46385', '39025', '13474', '13329', '8881', '7703,1', '9934', '26197', '19589', '19507', '18890,9', '8400', '30987', '18572', '10903', '25200', '2243,7', '13465', '2796', '13080', '19154', '3515', '3750,91', '34660', '45863', '29904', '12385', '18676', '20179', '2412', '8599,9', '3639', '15102', '31333', '10035', '3160', '22058,91', '7680', '11308', '23696', '5022', '9517', '19030', '16692', '33100', '6470', '4734', '27455', '9306', '17930', '36082', '22302', '30455', '6433,65', '7663', '5018', '13891,5', '6365', '69500', '37407', '24291', '32076', '23890', '6869', '12419', '5669', '2936', '11009', '25570', '8270', '49180', '4189', '5516', '42468', '4340', '22920', '6494', '18288', '26188', '7098', '20529,9', '5340', '2180', '12283', '6145', '9440', '20610', '25742', '30990', '7262', '4475', '87673', '21009', '29760', '6112', '6245', '16688', '10968', '12590', '8211', '14002', '29990', '14596', '15340,01', '32580', '8758', '25100', '29199', '3548', '4049', '14170', '15298', '16330', '16680', '3119', '3575', '14600', '5828', '18081', '32750', '22480', '8648,5', '19474', '5013', '4143,58', '17200', '43353', '11705', '59761', '32617', '4454', '15290', '14880,07', '25950', '5050', '22091', '11855', '16996', '19700', '11199', '24198', '10586,1', '22350', '16872,3', '24590', '12166', '17910', '53980', '26302', '58640', '5901', '7659', '5780', '3697', '11958', '23290', '2612', '10736', '5465', '3493', '12903', '6984', '23037', '15904', '2054', '11669', '5749', '24864', '2840', '6087', '17485', '7909', '39450', '35290', '15655', '3692', '22526', '13060', '3722', '15390', '8080', '12850', '18390', '11240', '45159', '6756', '21850,94', '22509', '24620', '11760', '6419,78', '27827', '18113', '16454', '27706', '42657', '20896', '25991', '12300', '13981,8', '16571,2', '2172', '7904', '13366', '18400', '8129', '16940', '5330', '11449', '9291', '10630', '18910', '3485', '32990', '31770', '51140', '4150,95', '28845', '25168', '7878', '27208', '10551', '15017', '25397', '4990,94', '12947', '12260', '17029', '31020', '15595', '23828', '8970', '12762', '19051', '5444', '22820', '50098', '26820', '11236', '9027', '14526,8', '17198', '26337', '12044', '39400', '13225', '6695', '7718', '16994', '8244', '11301', '8978', '7047', '17598', '25299', '7099', '5306', '16060', '12097', '9107', '5699,25', '17960', '35248', '27257', '5956', '4304', '2745', '22195', '3293', '25600', '25546', '12713', '16112', '16098', '6881', '29075', '4237', '16375', '11659,85', '27420', '28437', '17144', '2055', '25800', '18603', '21920', '25896', '42888', '7979,91', '17251', '17532', '18490,91', '4960', '25620', '16766', '13444', '27493', '2890', '35991', '6474', '4255', '14321', '3142', '11383', '13620', '11890', '6018,39', '33678,2', '72579', '40084', '13024', '14780', '53364', '16324', '13018,1', '5889', '7131', '9128', '25812,5', '15749', '22643', '20324,92', '3350', '8879', '19159', '26120', '4777', '6810', '8107', '10268', '10579,91', '27283', '27781', '10298', '15840', '18572,5', '18334', '28530', '17605', '4036,5', '18468', '16869', '13115,6', '22290', '6768,1', '17280', '20750', '24200', '4200', '23780', '7664', '25240', '15206', '21907', '39110', '9335', '2726', '21440', '13227,7', '51200', '36136', '7713,42', '5355', '17130', '7170', '25197', '18528', '4044,3', '29707', '9310', '27470', '19769', '3390,5', '33405', '20609', '8424', '18357', '16097', '16687', '9204', '22489', '26520', '15569', '13654', '22898', '15393', '14514', '2720', '21598', '3282', '2031', '56125', '9738', '36070', '12944', '3630', '6779,07', '16149', '4868', '13724', '19430', '4886', '5900', '4221', '4098', '9007', '7524', '17347', '8441', '8040', '91546', '4140', '10474', '23373', '31446', '44750', '6347', '16989,92', '3003', '7078', '61200', '54264', '11636', '17990', '33350', '25313', '27508', '24985', '2135,14', '4298', '19739,84', '9021', '15192', '36718', '15444', '45820', '6018', '4330', '7550', '23057', '42335', '17199', '10418', '5895', '29033', '5691', '4882', '16570', '18220', '13913', '25650', '24933', '5021', '27156', '6990,92', '17935', '30778,91', '5378', '19481', '7820', '27052', '14199', '14028', '34793', '15715', '14980', '20988', '14678,63', '27381', '17697', '12541', '28966', '7346', '11680', '2751', '6430', '5290,91', '24405,4', '99800', '13180', '30078,4', '5121', '24495', '6656', '16870', '4949', '7336', '20766', '26404', '4199', '6759', '20752', '72500', '27970', '13825', '17840', '28421', '22860', '6309', '4499', '17292', '17837', '3590', '33573', '7582', '18070', '33475', '11853', '16964', '9970', '10530', '5775', '30344', '70020', '22930', '13645', '16290', '2947', '11223', '24830', '10389', '5912', '13539,2', '3045', '4267', '5660', '15093,9', '7038', '37450', '13677', '19571', '11779', '3399', '8240', '10086,92', '6650', '13567', '19210', '20874', '5955', '17607,33', '2552', '20620', '10895', '27207', '26396', '50000', '4425', '24519', '11580', '7995', '3675', '18660', '17437', '23613', '20550', '37508', '15279', '13300', '22497', '3448,8', '8904', '2447', '60829', '5482', '22299', '14128', '10450', '8816', '5199', '15229', '21578', '13575', '57625', '14455', '9255', '17476', '28584', '27570', '4917', '10799', '41994', '11456', '5704', '19889,92', '15989', '13859', '19609,92', '7720', '19982', '5328', '8185', '24768', '35787', '13727', '10935', '74800', '19071', '2817', '14588', '10340', '7548', '82910', '17921', '7083', '15457', '6137', '4400', '3780', '22340', '25584', '9067', '46500', '25640', '13439', '25560', '29359', '12059', '4828,7', '40110', '31491', '5344', '42928', '14966', '36943', '16010', '4867', '12127', '36730', '15630', '6408', '16540', '7011', '15980', '17963', '11615,4', '14490', '4560', '19110', '6283', '22781', '5419', '18820', '10439', '9432', '29052', '5573', '5880', '16780', '11167', '20498,1', '3975', '26114,4', '6194,7', '3530', '87786', '30428', '22618', '87850', '12019', '40050', '3128,2', '22692', '6660', '10446', '15771', '18905', '5450', '41175', '75424', '15164', '12393', '19549', '10342', '4350', '27448', '3837', '4967', '15033', '4423', '17633', '6979', '21881', '6733', '7148', '10864', '32450', '22555', '2864', '28689', '2299', '6924', '14678', '13805', '34120', '3123', '9786', '3613', '11309', '18054', '9550,82', '6180', '22482', '15744', '13120', '5720', '31806', '26845', '5921', '4801', '27430', '18251', '13640', '20294', '8517', '15529', '30951', '2884,5', '43548,81', '15427', '29917', '9385', '14690', '20350', '4090', '84558', '5570', '24119', '28641', '4318,2', '26590', '21238', '16991', '23861', '13430', '24241', '4556', '26183,5', '25278,14', '7229', '20225', '6589', '12542', '4026,4', '5369', '25227', '15900', '9397', '3312', '4915', '5377', '26538', '5966,7', '24450', '7908,1', '11225', '9706', '11569', '32400', '6219', '33500', '8905', '9053', '2881', '13650', '3660', '76000', '5258', '3400', '25897', '7710', '16256', '16182', '15806', '4152', '17684', '5113,4', '9902', '14100', '9116', '31317', '19943', '9900', '16199,2', '12996', '24159', '31040', '12890', '31015', '7899', '15895', '23689', '6734', '5036', '38070', '15555', '29950', '4265', '26872', '19017', '14270', '2089', '21500', '24648', '7279', '2028,56', '11295', '2830,5', '25587', '14560', '30697', '22257', '13999', '6300', '19230', '14176', '26547', '17145', '16160', '19120', '18126', '36290', '32690', '21819', '3955', '7890', '5347', '16470', '32992', '18180', '2150', '4175', '34280', '18712', '41130', '21804', '15313', '6346', '5933', '31897', '18138', '17474', '17462', '26997', '9491', '6997', '5538,6', '9296', '72090', '27130', '11792,5', '21631', '7553', '5824', '11522', '61487', '19595', '5431,2', '8179', '11558', '21911', '12576', '85000', '16616', '13581', '3711', '4386', '11850', '18819', '11407', '18962', '22615', '19615', '35200', '35955', '14705,95', '17250', '4773', '2768', '44778', '11815', '7020', '26054', '11896', '7180,9', '36194', '27065', '11123', '8598', '8037', '4249', '12251', '82130', '2599', '9889', '7850', '25420', '8800', '7999,1', '5590', '11454', '10940', '20187', '11786,85', '14835', '92951', '3510', '7795', '8649', '11037', '7334', '38592', '17399,1', '6378', '12384', '8412', '24132', '5708', '30729', '44690', '47309', '7070', '10295', '23836', '24833', '21226', '32312', '22214,69', '21620', '3335', '53091', '9931', '4460', '13933', '37950', '7787', '6604', '11194,06', '6958,92', '30131', '5475', '26113', '21948', '7990', '6420', '14760', '30580', '2421', '16530', '13284', '4598,6', '5589', '32293', '9226', '31955', '51534', '20698,2', '24807', '27060', '33030', '4210', '10668', '4060', '5209', '14765', '4936', '15269', '36880', '4996,8', '11482', '13921,52', '5373', '3199', '24949,09', '4964', '40000', '21690', '5849', '15619', '18500,8', '86041', '18538', '10580', '12310', '19648', '46100', '15364', '6591', '10090', '8568', '5922', '41132', '7799,2', '40521', '29214', '4889', '17630', '30040', '3852', '24760', '35990', '11797', '30814', '3392', '19448', '7614', '28715', '9264,69', '22488', '5174', '31650', '13490,91', '2592', '11347', '7381', '27693', '21399', '12648,46', '19847', '3285', '9057', '9130', '47691', '5435', '15859', '69076', '41400', '5712', '18212', '8057', '41907', '4372,2', '9683', '25508', '4365', '8369', '5180', '74690', '2511', '3512', '6539,91', '14006', '13570', '11697,1', '3286', '20784', '6165', '5139', '22230', '11924,64', '2495', '8792', '8053', '6596', '6202', '23840', '13981,82', '15300', '4397', '39980', '98136', '18908,1', '11422', '4096', '29933,4', '18201', '13312', '4978', '6541', '9990', '6450', '8250', '12654', '10693', '4269,01', '17146', '23302', '21280', '8715', '5261', '20090', '5212', '13999,2', '8225', '15403', '10318', '17279,2', '17748', '23205', '11106', '20519', '9220', '14829', '29536', '31282', '10950', '20640', '4896', '16666', '78550', '26000', '15639', '6330', '6155', '7395', '10546', '23411', '36701', '9340', '6682', '11998', '4830', '13229,2', '42540', '8343', '65448', '15865,65', '8350', '5298,1', '18868', '32700', '19960', '11305', '24983', '25263', '14406', '35090,92', '13872', '12382', '2909,95', '12791', '13846', '19103', '16889,92', '28933', '11197', '2319', '49227', '24520', '43400', '29219,46', '20927', '26365,6', '15291,92', '22079', '20397', '25060', '10023', '6749', '9446', '24229', '6653', '12440,1', '9323,93', '22212', '29030', '5109,2', '22175', '2008,8', '14268', '6703', '21595', '16743', '19730', '3105', '45600', '22098', '6700', '2870', '31880', '6893', '17091,9', '19748', '2659', '19968', '39193,4', '3768', '11410', '21930', '5817', '17949', '16774', '71740', '39160', '17988', '6982', '6223', '32770', '3322', '6964', '23496', '11269', '15367', '5409', '13065', '30518', '26668', '26600', '38778,01', '23365', '23557', '10548', '2691,9', '17490,92', '32914,31', '47250', '45290', '11187', '12820', '15843', '5610,7', '17795', '13545', '7337', '5478', '4228', '7425', '37790', '4757', '5465,26', '20820,2', '2958', '8176', '60619', '27456', '22264', '6504', '4500,95', '16200', '19045', '21022', '34901', '62100', '12845', '4488', '30471', '32499', '9246', '5109', '7448', '3310', '14165', '17342', '8938', '5371', '4068', '12735', '5735,7', '6822', '10339', '22338,94', '41021', '4131', '44670', '6692', '42950', '10328', '26329', '13315', '12427,1', '21889', '9754', '3748', '7075', '12265', '20072', '3406', '22479', '16199,1', '15695', '4377', '12589,92', '22298', '5509', '8381', '83871', '9597', '15571', '22589', '5238', '6892', '22320', '49838', '46827', '3095', '55995', '5398', '20292', '18590', '41451', '21597', '16550', '32975,3', '5280', '4525', '39500', '11975', '16551', '3933', '7197', '4933', '21910', '14332', '21349', '13051', '19450', '10671', '25406', '44920', '28473', '18440', '26941', '20149', '21088', '8599', '15190,5', '15550', '17316', '18080', '3130', '33344', '12314', '11275', '7510', '14521', '12716', '8718,1', '21586', '76432', '12880', '24461', '5959', '17709', '91520', '11936', '27666,14', '11618', '17714', '19680', '9578', '2350', '10355', '9647', '7002', '3620', '7092', '6883', '6860', '11689', '4485', '8532', '10127,7', '14551', '15946', '2931', '12558', '25107', '18987', '28752', '3535', '30918', '28850', '9400', '50879,83', '14360', '5179', '25210', '46173', '13700', '73308', '28220', '6678', '11590', '3179', '7693', '19999,84', '5434', '9880', '20525', '6824,7', '39020', '5612', '25720', '9774', '16284', '22275', '8009', '5748,3', '4701,6', '31610', '24360', '6777', '22947', '3502', '9741', '14590', '4039', '6926', '4840', '21592', '3824', '35082', '7146', '5143', '4535', '18760,75', '4841', '20450', '18422', '13178', '10755', '27695', '16298', '3308', '7609', '25588', '25662', '20169', '37391', '5773', '48700', '9660', '48900', '8102', '9554', '25700', '7124', '14349', '5936,81', '11892', '22825', '31726', '13195', '3128,4', '9890', '12219', '7668', '9768', '9406', '12711', '33602', '12745', '15833', '15677', '37466', '21490', '2998', '10874', '61290', '17955', '8167,5', '22116', '31498', '5408', '8818', '4781', '21840', '6445', '27480', '14330', '23475', '4510', '3001', '17928', '12029', '3902', '27100', '53000', '4725', '23552', '9955', '3238', '3271,5', '26537', '27700', '6088', '6040', '31499', '19640', '24403', '10280', '12061', '18710', '4025', '5085', '7695', '21214', '6990', '20380', '21526', '9430', '21015', '47223', '26462', '19113', '8947', '11575', '8263', '30627', '49863', '22037', '33909', '11070', '15653', '7474', '9576,1', '24810', '14240', '7389', '30154', '7420', '5560', '14805', '3174', '4608', '11532', '15930', '14563', '29290', '18338', '23395', '18495', '46960', '6039', '15995', '12378', '33000', '18452', '22307', '14929,92', '3854', '6170', '5307', '2325', '29948', '11563', '24579', '3971', '14350', '3460', '17869', '20399', '4083', '38850', '11320', '5980', '14298', '19050', '18058', '20900', '17772', '12411', '3063', '7470', '7885', '4519', '12371', '4390,91', '17581,86', '11339', '30925', '9679', '15897,92', '19410', '15498', '2050', '3999', '11359', '14391', '19520', '26100', '10647', '21395', '3386', '50500', '19697', '14097', '18300', '5548', '5051', '37855', '7975', '24465', '11090', '49410', '4487,4', '14279', '11081,52', '18702', '22221', '8389,91', '39830', '2565', '12870', '8249', '6434', '24640', '2928', '45672', '4598', '4242', '50591', '19362', '7313', '17769', '4043', '24228', '13699', '65250', '14080', '23758', '8990,92', '52466', '16011', '6103,8', '3230', '12645', '15111', '20770', '3099', '44415', '23788', '14243', '12588', '17235', '16407', '46800', '2570', '8610', '18242', '8420', '26547,1', '27350', '12424', '4194', '6198,28', '16990', '29700', '17499', '4667', '4710', '9054', '10238', '11033', '13599,3', '23020', '11949', '93400', '3516', '4122', '28400', '28600', '5390', '11116', '13719', '17501', '26980', '16413,82', '2699', '19838', '11645', '12904', '12941', '11188,14', '32415', '26999,2', '2835', '5790,91', '23191', '5789', '18152', '30930', '4675', '18863', '25336', '34369', '5848', '3477', '19341,2', '3835', '11389', '22980', '24717', '15336', '12394', '23166', '3663', '12509', '23649', '19898,95', '86900', '4369', '32870', '20657', '13948,2', '2620', '3129', '77982', '34190', '6800', '7940', '20160', '6295', '35596', '16175', '19889,8', '22590', '22949', '13504', '9557,1', '5259', '31096', '24630', '6969', '7927', '5237', '7200', '19872', '4905', '16457', '9125', '15828', '11908,24', '11400', '13898', '21808', '17659', '23499', '15975', '3319', '20297', '9598', '27816', '5380', '2007', '20850,92', '4522', '17388', '7751', '7739', '10512', '22674', '7100', '23661', '11992', '5751', '22032', '41622', '14925', '19760', '20699,1', '11524,79', '16598', '9899', '7798', '16300', '14089', '51250', '13820', '5424', '11927', '31817,2', '7220', '18777', '51540', '14997', '15120', '28247', '3307', '24198,2', '37768', '10729', '15238', '3930', '10583', '25887', '27190', '17372', '28428', '14900', '19720', '4980', '14410', '14845', '10790,94', '19597', '24195', '9652', '17210', '5610', '4484', '14004', '6221', '5131', '9936', '10526', '18553', '44770', '19728', '9295', '6098', '5339', '8876', '21110', '8717', '5425', '8118', '55110', '27696', '5602', '5141', '7039', '10105', '40509', '12468', '7563', '5427', '16040', '69282', '9370', '6168', '37069', '11971', '18550', '7280', '5515,95', '18847', '14062', '26152', '7231', '8291', '18610', '8674', '3500', '23850', '13456', '18970', '56280', '10899', '29400', '25911', '16682', '23103', '12321', '7460', '8237', '31200', '14338', '5064', '14840', '32706', '15756', '13780', '5795', '21097', '47114', '96000', '5707,8', '2792', '15940', '3894', '25350', '4673', '3432', '26379,91', '2705', '10987', '19521', '3260', '3703', '8820', '15320', '6021', '7961', '33588', '18560', '2476', '6459', '26850', '10980', '82162', '3210', '8990', '5592', '14599', '10900', '18530', '7435', '11695', '10549', '25445', '17310', '3117', '14399', '3448', '27233', '29719', '15010', '99463', '16220', '16480', '29661', '39780', '9825', '19791', '28640', '7134', '29180', '6797', '14037', '15566', '9490', '16350', '13960', '36170', '20275', '30420', '7344', '8184', '9891,9', '5038', '11466', '14630', '26595', '4797', '14237', '10830', '3002', '19828', '6374,78', '37180,5', '3188', '18049', '8247', '43880', '10061', '31860', '17577', '13148', '29640', '31290', '3087', '20820,44', '16820', '39729', '21910,8', '38995', '15629', '18150', '27560', '17956', '31920', '26461,91', '6036', '4546', '6528', '7430', '28338', '18855', '29470', '14830', '9886,1', '4448,23', '23180', '25492', '19008', '11778', '13356', '21340', '17112', '28450', '20097', '19925', '11948', '29780', '17802', '25598', '4082', '4928', '6095,25', '12720', '13245,02', '5294', '4209,2', '4375', '25298', '47950', '26350', '10046', '6793', '3983', '4749', '19983', '13494', '19897', '7398', '6250', '6141,75', '7623', '14169,1', '14207,1', '36800', '3419', '5534', '2638', '30430', '22498', '28890', '11374', '35940', '18648', '9579', '12755', '78390', '8979', '14771', '18569,9', '11270', '14449', '28950', '29380', '12800', '23975', '13380', '5932', '14680', '12945', '15096', '38700', '8199', '9282', '19341', '7784', '5058', '14952,2', '20236', '35142', '26140', '16846', '7272', '4405', '6415', '8049', '30960', '19029', '19415', '11016', '3198', '21994,73', '8902', '7013', '20869', '11933', '14650', '6906', '17991', '18675', '7786', '8445', '15699', '7796', '4182', '2669', '15770', '13374', '6249', '4914', '13139', '16070', '15045', '3114', '8035', '4079', '4729', '13899', '56673', '16576,2', '77762', '24496', '11748', '6096,13', '19240', '12742', '14969', '19989', '12405', '8840', '6792', '14396', '20190', '13432', '22277', '3707', '18719', '18599,4', '21588', '88440', '16030', '15127,4', '5829', '17625', '12398,1', '12925,2', '13300,91', '7499', '57209', '30324', '30172', '5825', '25904', '26650', '18389', '6186,7', '15311', '17134', '13669', '6940', '22151', '41180', '14974', '2940', '17635', '24907', '7676', '25453', '4422', '22599', '9534', '15255', '19929,91', '18800', '17997', '12117', '18891', '3410', '8450', '29336,4', '5588', '5030', '16490', '38406', '12250', '44100', '13648', '2389', '16834', '10719', '5616', '24059', '29376', '3838', '8227', '3050', '3148', '25120', '6093', '11941', '21665', '52870', '5397', '76173', '28132', '25638', '35157', '18502', '9816', '6975', '78853', '26927', '10730', '4355', '5730', '25831', '6199', '3134', '23389', '27899', '17390', '10912', '12999', '38408', '4492', '12195', '3254', '30400', '22747', '5016', '13810', '20390', '6477', '28258', '8924', '22493', '29074', '42880', '6538', '10990,92', '21943', '10523', '25549', '20653', '2780', '3301', '25758', '13560', '13776', '54800', '6858', '37177', '10904', '25590', '2331', '11887', '24604', '40707', '31278', '16185', '10691', '21470', '12631', '27599', '17604', '16908', '8786', '23749,76', '15150', '7040', '10971', '4508', '5346', '25823', '11405', '4966', '17324', '18720', '9096', '13989,4', '9564', '6721', '5706', '3540,2', '9111', '13941', '6944', '10615', '20691', '9251', '28460', '3276', '43950', '13365', '5568', '16644', '16591', '12298', '8078', '21105', '31694', '3111', '2340,9', '15798', '49860', '16603', '31409', '4302', '9700', '18064', '11290', '18838', '12983', '30050', '4494', '29173', '13656', '10632', '19658,1', '24299', '18953', '4325', '22160', '10659', '23738', '10796', '15053', '25199', '23842', '18455', '14547', '9438', '13170', '30920', '3752', '7540', '3489', '10690', '28899', '2816', '23025', '26164', '4435', '21472,86', '18824', '12679,92', '22896', '38640', '14978', '14872', '12648', '38553', '3690,92', '13462', '31480', '7369', '15027', '8834', '10282', '17375', '19710', '12719', '4490', '20943', '68000', '8585', '34000', '62800', '5878', '9990,91', '76738', '10648', '10198', '2871', '8570', '2224,8', '20960', '18215', '14281,89', '19170', '8719', '3890', '27175', '16031', '32670,79', '36287', '16322', '24510', '31468', '15910', '70047', '29239', '5999', '3100', '15347', '16740', '25426', '4436', '3688', '14058', '19037,2', '24003', '18482', '13455', '12810', '89018', '9707', '11293', '4818', '28991', '9524', '30215', '4299', '13591', '35640', '29335', '22244', '22345', '4576,5', '22760', '29388', '2800,85', '23772,27', '18611', '17240', '2781', '12482', '34905', '9380', '13360', '15739', '5760', '6119', '13558', '13882,92', '22214', '11434', '15359', '10030', '56002,28', '15025', '25280', '28041', '12680', '7495', '6743', '10495', '50568', '7637,63', '7560', '11750,31', '7687', '4493', '3180', '27744', '7750', '35500,74', '19342', '28170', '40594', '20210', '6831', '14050', '12471', '11586', '11450', '39705', '13522', '11390,91', '14371', '4008,32', '4986,5', '5661', '4970', '7549', '6967', '2104', '4118', '9525', '17863', '18217', '25702', '3237', '26500', '8497,4', '18048', '35744', '8150', '11978', '27857', '4278', '22047', '5247', '10748', '5405', '18000', '13709', '33088,5', '4653', '16512', '13259', '2004', '7682', '8348', '29478', '3789', '97040', '4411,43', '18605', '10162', '15745', '27895', '3380', '12318', '15299,9', '16218', '3820', '2313', '31763', '14441', '4745', '22015', '21510', '86618', '24651', '24950', '4270', '27658,82', '13952', '23595,97', '4184', '12132', '12651', '57706', '41620', '18006', '4908', '42780', '15766', '3695', '46835,75', '2686', '3220,2', '6497', '15602', '19891', '11811', '4260', '9949', '7459,6', '3465', '10890', '7439', '28622', '2909', '8844', '13920', '28275', '4899', '5174,2', '7228,2', '13915', '5908', '17531', '23684', '12098', '8308,35', '8655', '11321', '17043', '13730', '6712', '18860', '19530', '8095', '16481', '6364', '5929,95', '15080', '2975', '18573', '14059', '71000', '9429', '22492', '13477', '18330', '3025', '31070', '25296', '2065,5', '17586', '3537', '3370', '3263,8', '28440', '31502', '3760', '5095', '9850', '11670', '20330', '24438', '7299', '11583', '40375', '17308', '19509', '11077', '8747', '31895,48', '21265', '26397', '46197', '12910', '39800', '9995', '12953', '5580', '5599', '23393', '32822', '9805', '18240,91', '22235', '14989', '17529,91', '32150', '43600', '13287', '24755', '13350', '16669', '8793', '22510', '13493', '2673', '37517', '9856', '26631', '31431', '8498', '33650', '15468', '10084', '17940', '98996', '4740', '36480', '7922', '27230', '9500', '18178', '10541', '4428,97', '26896', '71880,3', '5770', '9801', '11499', '7048', '6399,2', '3430', '13456,82', '21350', '10805', '28100', '30175', '6190,92', '9536', '3509', '2282', '13006', '53880', '4999', '38312,5', '5745,12', '12498', '7189,6', '8284', '43000', '24085', '31350', '5245', '17006', '13793', '4727', '32787', '13944', '13238', '21330', '24871', '18668', '8633,7', '34046', '20699', '23204', '7917', '20971', '10029,92', '7449', '12868', '10460', '12907', '18425', '27580', '13566', '18515,03', '10366', '38491', '6367', '2696', '63776', '20059', '12575', '23640', '24540', '17082', '15820', '7357,9', '3779', '8164,56', '24174', '15461', '30956,4', '14917', '4311', '14229', '10675', '8336', '89200', '12980', '28930', '30313', '4726', '5178', '25624', '4581,87', '2333', '23382', '25713', '18450,8', '20495', '10230', '8654,1', '27088', '7452,4', '25105,1', '25503', '9190', '19116', '5970', '23297', '29500', '13200', '3190', '5360', '2510', '47000', '27012', '52469,87', '45160', '9997', '20496', '12710', '15724', '4791', '4160', '11030', '3680', '17553', '10890,9', '17947', '38919', '23876', '9045', '14383', '24695', '10609,2', '36000', '29037,12', '6373', '9593', '44933', '19644', '34479', '18578', '14571', '12512', '20340', '13580', '15927', '6776', '16272', '68990', '33900', '4336,2', '6185', '11297', '21827', '9009,91', '84629', '20796', '33470', '15490', '8866', '7422', '17466', '3584,1', '6875', '7958', '11940', '8698,1', '3088', '5470', '12591', '18945', '7867', '20626', '14078', '27228', '17099,1', '22973', '24080', '4962', '15290,7', '7760', '3801', '6920', '18209', '28666', '12823,2', '62550', '11126', '16456', '18724', '38830', '17458', '7181', '20494', '10166', '16370', '47456', '28728', '7481,98', '20295', '23650', '11773', '13173', '7478,2', '12560,01', '11180', '22185', '4550', '21199', '17718', '25780', '3764', '39090', '12412', '93075', '14193', '13720', '7130', '10348', '28294', '8964', '19782', '43996', '29788', '16519,02', '3173', '6950,7', '15985', '18881', '11966', '19391', '15813', '5797', '38193,8', '15660', '4652', '26346', '21320', '10656', '7335', '16833', '10570', '20133', '15870', '7353', '3809', '6396', '4390', '10417', '15199', '20686,58', '23852', '6698,3', '29450', '27650', '25660', '20565', '23737', '11787', '10760', '29277', '22102', '3737,6', '7459', '16464', '4809', '18591', '5835', '15292', '5072', '14393', '27275', '17045', '3305', '13277', '14025', '13208', '7061', '64300', '12897', '22200', '20587', '19295', '4985', '30576', '18009', '12690', '7287', '10394', '12278', '5285', '6553', '3690,82', '50927', '6104', '5748', '19990', '15299', '18784', '5040', '33255', '84800', '30150', '22140', '26467', '22323', '6272', '21790', '98042', '5857', '19305', '32748', '40450', '16268', '14795', '7473', '13039', '37360', '15237', '23508', '4497', '20433', '11350', '3657', '18128', '19375', '10265', '10858', '56277', '6500', '26280', '18649', '49500', '33476', '13228', '5229', '78120', '15000', '13689,86', '30599', '12230', '36963,5', '7240,5', '16420', '58947', '7619', '10070', '4792,3', '9497', '14031', '22450', '25498', '16800', '6550', '2040', '7625', '19218', '28913,76', '20952', '11098,8', '33660', '5205', '23667', '29006', '26145', '16359', '10009,6', '11677', '6257', '34999', '4102', '7500', '4660', '17137', '15480', '30655', '11720', '9439', '13970', '35070', '21750', '19125', '32525', '23977', '61800', '8630', '96490', '6864', '10770', '9940', '29975', '20343', '10483', '21219', '17397', '28208', '16146', '3721,5', '26750', '16960', '39254', '4940', '30361', '27810', '8088', '5370', '24840', '24219', '30200', '4756,5', '35767,4', '11901,78', '13860', '7063', '23954', '27428', '28791', '17110', '8989', '6912', '10616', '3822', '22650', '9338', '12090', '12835', '17924', '81672', '16358', '19840,5', '6560', '26110', '24881', '4406', '45180', '11057', '21895', '4883', '8984', '21847', '8721', '19133', '31790', '24116', '19858', '23945', '13728', '32348', '6048', '46820', '27750', '23659', '16627', '17830', '11518', '9069', '19286', '41100', '20239', '17415', '81450', '11344', '25522', '9325', '26960', '13345', '9551', '10185', '18361', '4860', '63200', '12511', '27005,1', '13281', '5084', '11526', '22714', '7858', '12747', '14142', '6758', '17190', '74500', '4147', '16302', '28476', '8022,6', '27890', '16916', '11871', '18269', '9290,91', '14639', '8515,7', '7900', '25385', '34140', '25500', '14445', '6965', '5941', '2514', '14786', '4190', '21936', '28390', '23459', '28221', '23700', '11050', '9862', '35100', '12590,1', '19740', '13106', '8298', '9655,2', '21866', '11150', '35300', '14098,1', '17789,2', '19860', '11156', '2797,95', '9499,2', '27360', '15035', '15370', '7669,8', '7386,75', '21861', '24357', '41498', '5660,92', '20066', '18374', '15564', '16874,4', '4120', '5800', '9835', '9278,1', '26900', '8311,29', '76550', '3051', '26276', '23399,2', '11304', '8324', '6139', '7348', '12362', '19400', '11349', '8300', '24885', '4887', '29653', '20630', '29630', '7888', '8757', '2079', '3752,9', '24692', '2239', '23950', '9650', '3798,9', '21964', '18489,91', '6182', '17906', '7711', '4013', '10294', '12340', '6499', '13148,83', '5754', '18318', '32500', '25628', '21204', '9983', '13849', '6828', '47700', '2341', '16329', '6140', '24105,21', '28990', '9219', '30681', '18799', '10700,3', '18873', '6247', '26665', '24416', '13869', '24015', '40037', '15250', '4117', '27799', '20030', '23070,6', '21597,8', '27398', '4243', '7970', '27990', '26663,6', '5814', '8870', '17681,81', '90590', '11393', '21012', '23488', '3823', '4018', '2578', '20150', '13084', '13387', '24751', '15775', '16697', '6279', '20005', '17230', '12736', '15200', '14950', '30837', '30700', '9527', '21446', '38032', '11600,6', '13580,5', '10713', '5184', '13556', '8134', '19986,4', '79820', '10474,1', '21628', '17510', '12454', '49940', '24466', '33910', '12496', '8763', '2380', '17528', '4846', '25893', '20949', '10566', '17720', '10631', '3676', '18020', '13761', '5940', '26099', '8606', '9484', '13630', '20613', '19255', '8835', '10103', '6042', '43573', '12397', '8116', '17070', '5750', '17439', '7035', '25472', '4047', '3897', '2995', '13740', '15489', '25632', '10477', '61832', '8030', '22792', '3849', '10505,5', '5340,92', '9798', '36115', '3888,48', '6850', '4199,2', '29800', '10113', '6313', '6616', '35230', '46540', '10628', '25260', '18012', '14849', '10466', '9178', '20980', '21087', '16392', '3385,92', '15128', '11610', '12198', '17979', '26030', '21975', '24951', '21464', '56680', '8153', '3699', '6298', '6136', '19429', '19800', '8130', '19935', '7155', '16180', '13392', '13768', '28420', '10785', '18022', '9224', '11014,81', '57581', '19360', '10071', '81423', '21170', '23480', '13518', '49100', '15162', '9847', '2990', '19106', '3440', '5942', '24330', '23355', '24188', '28932', '26361', '13688', '9577,8', '8928', '8549', '19630', '6479', '10040', '19267', '17950', '6092', '8644', '78800', '2151', '29963,85', '6950', '11114', '30673', '36865', '29445', '4869', '24867', '8137', '27313', '10382', '12170', '3470', '5080', '8339', '7112', '9606', '5685', '5692', '11898', '16579', '9217', '18143', '9728', '17727', '7863', '8832', '11536', '4269', '99289', '15610', '5613', '2072,7', '4619', '34766', '27541', '8027', '21154', '5480', '24845', '26970', '11192', '13890', '16848', '12329', '12011', '14939', '31263', '6970', '6163', '3941', '17998', '26610', '3349', '9648', '24598', '47704', '16050', '6642', '2135', '10823', '12518,5', '11085', '25802', '10793', '9350', '24110', '6499,2', '23997', '19842', '6966', '14933', '10319', '28330', '7366', '15315', '11795', '4761', '75535,08', '7455', '5759', '7349', '34740', '30873', '6323,33', '4155', '13829', '46881', '20774', '6246', '10855', '31916', '19413,2', '25380', '6819,3', '3718', '14310', '17550', '6056', '97220', '4624', '7991', '44400', '7629', '20890', '9951', '94330', '8730', '33097', '7025', '9345', '80250', '5260', '16278', '11195', '30216', '33930', '4618', '12581,89', '3013', '9170', '6569,5', '28500', '35580,91', '11205', '18299,9', '4839', '6689', '35750', '4259', '19490', '6099', '16771', '11808', '25122', '12843', '15181,8', '45750', '42436', '26592', '17995', '18025', '3876', '35770', '15625', '23584', '5785', '30940', '11574', '26401,53', '6486', '8421', '10310,92', '4327', '4941', '23315', '12128', '24400', '6115', '10359', '34990,8', '56310', '14265', '13850', '9719', '19814', '37900', '12829', '6462', '18121', '7247', '32810', '26055', '19215', '20876', '8430', '11525', '22983', '25585', '6544', '21321', '8549,9', '23216', '14146', '24741', '2428,2', '91760', '6904', '2791', '11550', '6231', '4439', '15598', '17451', '15497', '19929', '9799', '25626', '5676', '4345', '12890,92', '9074', '14356', '38330', '5268,47', '5745', '7937', '31810', '23453', '3579,3', '52295', '6746', '21060', '13955', '5869', '6453,9', '24156', '6424', '6411,72', '17379', '12889,91', '14255', '19010', '9239', '12425', '25623', '3589', '11391', '8169,55', '21328', '27900', '25597', '29622', '3480', '10439,1', '16858', '27077', '8483,95', '22522', '11113', '10920', '8171', '33797', '13140', '6296', '28273', '12598,1', '10186', '18190', '5689', '26598', '15214', '17850', '11660,93', '34020', '16378', '26189', '11280', '6840', '19781', '12447', '16830', '11395', '10149', '9450', '20800', '27198', '29590', '17685', '10960', '32387', '90691', '4689,2', '21832', '12830', '3690', '27090', '4741', '16847', '13527', '13592', '26959', '15514', '8963', '5366', '10800', '7497', '7210', '15434,3', '22694', '3039', '38650', '30796', '17033', '56210', '20480', '20393', '15848', '12339', '12789', '16467', '28983', '37800', '10850', '21213', '10990', '5694', '24665', '3578', '30696', '5088', '6657', '19350', '16408,1', '32710', '14245', '23774', '15912', '26963', '11099', '17811', '29382', '11475', '36679', '17610', '6680', '7891', '100000', '21760', '26082', '81500', '9980', '49444', '18654', '24659,2', '37000', '2676', '3490,99', '13296', '13908', '27348', '29010', '21703', '16769', '6421', '6748', '9573', '21388', '10740,64', '4694', '7400', '98030', '17051', '2199', '27342,5', '13824,2', '24729', '10769', '13450', '7581', '8011', '7040,92', '36150', '7385', '26330', '13447', '4661', '26060', '5218', '42000', '6059', '28016', '2033,05', '3383', '28070', '39627', '5272', '27205', '16618', '10024', '22293', '12687', '28240', '8262', '27510', '29980', '14306', '87928', '16197', '15246', '6795', '4011', '4483,51', '5097', '19343', '16992', '8703', '6238', '24960', '13250', '18004', '21600', '5746', '12505', '4227', '15697', '67795', '17089,9', '25830', '21365', '10789', '4041', '17896', '22637', '15050', '15389', '12306', '24027', '7859', '20505', '4788', '3501', '2420', '10737', '44500', '9562', '10432', '35952', '9235', '12509,9', '23797', '5880,92', '4631,4', '4542', '13099', '19482', '4412', '17496', '21821', '30946,29', '7749', '20410', '18078', '5658', '21530', '13965', '31399', '31500', '20084', '31404', '26095', '12510', '21919', '6570', '8337', '37980', '8547', '10757', '4892', '4290,9', '22780', '22670', '9415,98', '15345', '5913', '21000', '7984', '12222', '12786', '14735', '26251', '16501', '15575', '12147', '13971', '26259', '14666', '26913', '6787,8', '10066,92', '20746', '7642', '29697', '21075', '6731', '14891,92', '20244', '18525', '4953', '21710', '86571', '18491', '47247', '14458', '10060', '15190', '16700', '6513', '17878', '25601', '31250', '26157', '6983', '8217', '27916', '18050', '15565,5', '11315', '5150', '43200', '19419', '15832', '40377', '20919', '17373', '3883', '18240', '9878', '22139', '10424,6', '22380', '4339', '23989', '15327', '2349', '23579', '17681,6', '11655', '20826', '12952', '17430', '2300', '16751', '8090', '10354', '5035', '8000', '16090', '138400', '13500', '7959', '22617', '1843', '8297', '6007', '20290', '3923', '25317', '14456', '8295', '17470', '14985', '12560', '34990,92', '25300', '12570', '6270', '4048', '30850', '3356', '8478', '7926', '3009', '5083', '24923', '8155', '8865', '8794', '4297,5', '6053', '41744', '4923', '6200', '3961', '2985', '22075', '20256', '19358', '9813', '5840,5', '30686', '3892,2', '20992,78', '30750', '16045', '3340', '12628,91', '4389', '2629,8', '24998', '18647', '7730,1', '29538', '45665', '16150', '6266', '32938', '33210', '10629', '8452', '5195', '32790,9', '3152', '3492', '21717', '5359', '25190', '13278', '3745', '10150', '48594,31', '23390', '11376', '4649', '15633', '3646', '12020', '12987', '26440,91', '11381', '7766', '27324', '8307', '11833', '28876', '20029', '26596', '27096', '20645', '16900', '22388', '18197', '24120', '19522', '17750', '14646', '13199', '10158', '3411', '3215', '16799,4', '30897', '9077', '16000', '17320', '17590', '11880', '4448', '60300', '7690', '41511', '28945', '4504', '9129', '6842', '35790', '30197', '19005', '24700,2', '3740', '16977', '4168,8', '16254', '5629', '26455', '2470', '12389', '27196,1', '15097', '28000', '20431', '6179', '31885', '3467,7', '4473', '12798', '3110', '2689', '4455', '28509', '14550', '4034', '11997', '16883', '4635', '22945', '28919', '26454', '9031', '18960', '4779', '11738', '22662', '10438', '9117', '25790', '33417', '6845', '18170', '13980', '61350', '8880', '14889', '2439', '3561', '3444,9', '8515', '4360,91', '8419', '6188', '10857', '35610', '11329,65', '9315', '71243', '3617', '16547', '23929', '4351', '20690', '19670', '42740', '26020', '16390', '12657', '69188', '18470', '16205', '15690', '18885', '3032', '46600', '6100', '10398', '4387', '3921', '20885,2', '9278', '6736', '18955', '19542', '22685', '17290', '11151', '26588', '24314', '22881', '46350', '2160', '8098', '18999', '2340', '10989', '21838', '3235', '23728', '9819', '5070', '27664', '26091', '28970', '11935', '19068', '26469', '10528,3', '19200', '31990', '6129', '18450', '16979', '3877', '17009', '16880', '35700', '3830,4', '3769', '25592', '13263', '19168', '56518', '13113', '13027', '5673', '20555', '5937', '51685', '6732', '21243', '10707', '51875', '22455', '3147', '9555', '34380', '7604', '18574', '9710', '27237', '21876', '4549,92', '8770', '23999', '3839', '24035,5', '14039,9', '4590', '35580', '38389', '9686', '20140', '19977', '21860', '20000', '9689', '7678', '11255', '15286', '5701', '9923', '12678', '10421,5', '24167', '5707,4', '14271', '21828', '10750', '23256', '5369,34', '15741', '17227', '11372', '42320', '12450', '12398', '6789', '4804', '28599', '29949,7', '25625', '15121', '20031', '63320', '14965', '6190', '2529,61', '29198', '5105,7', '2310', '41470', '4850', '35097,66', '18286', '4815', '27714', '15889', '5482,3', '10870', '12554', '12040', '26689', '30220', '9451', '5190', '14670', '52864', '13421', '7090', '4116', '6189,3', '30738', '4602', '14230', '17064', '3060', '19184', '25506,19', '7559', '4044,6', '9509', '14300', '6372', '5105', '18067', '9070', '15579', '17450', '28210', '4683', '43990', '26938', '18576', '18356', '21994', '10464', '17520', '21475', '10972', '3771', '8777,1', '27989', '5448', '25881', '12790', '9080', '18115', '10248', '15700', '13583', '9610', '60080', '2438', '7905', '4803', '35145', '10345', '15616', '13433', '13488', '17427,33', '18725', '3599', '14152', '7357', '38000', '7602', '17701', '7759', '21771', '78934', '21038', '7101', '22453', '19950', '13104', '18232', '43682', '3528', '7160', '82170', '16561', '92600', '6951', '32593', '9639', '5840,94', '14618', '74700', '26084', '37235', '14645', '14385', '4840,65', '3390,2', '26800', '22761', '11460', '72896', '7074', '44225', '31224', '51000', '13160', '4768', '23391', '5840', '34891', '22090', '9580', '16716', '18580', '13489,91', '13734', '7129', '15488', '24247', '20863', '15216,06', '8180', '3746', '17098,2', '12347', '3715', '16792,8', '17446', '6868,2', '19080', '4470', '14196', '6240', '42820', '39250', '15075', '31100', '36263,1', '7632,92', '13990,92', '27260', '10591', '16879', '47900', '8789', '4413', '12598,2', '8453', '4527', '12612,17', '10330', '18582', '13399', '20592', '11500', '16648', '12862', '66680', '28898', '28790', '81000', '8543', '8530', '5170', '5439', '23715', '11665', '12285', '15100', '14856', '14481', '13010,94', '20646', '3659', '30996', '11429', '14644', '44290', '13690', '24780', '24344', '16298,1', '18280', '9910', '9470', '24752', '35775', '17448', '10999,9', '9567', '10103,2', '15248', '65000', '17193', '25980', '8346', '8160', '11231', '12490,9', '15856', '6379', '11498', '5219', '17999', '22352', '18304', '10361', '26300', '10470', '19380', '19046', '23124', '15034', '8872', '7584', '10267', '9317', '18978', '2961', '94495', '20443', '9360', '4091,4', '6510', '24682', '16005', '45000', '35340', '11362', '27298', '23519', '25855', '17911', '11840', '12896', '6068', '22635', '11565', '6600', '34650', '7493', '10454', '5822', '22170', '20054', '10130', '13848', '16995', '4450', '14280', '12380', '27016', '11997,2', '22616', '7620', '5834,52', '33800', '3744', '13063', '10302', '12856', '7390', '14611', '9393', '9764', '10938', '4117,5', '29900', '6659', '19278', '17558', '5270', '6449', '8806', '20409', '23511', '8519', '4456', '16364', '26935,28', '17600', '12810,94', '18370', '22645', '4890,2', '16260', '27986', '17490', '31398', '9681', '5719', '6263', '19997', '20877', '23478', '17825', '26174', '4126', '30300', '18423', '17670,6', '21494', '35140', '17432', '9120', '51370', '10441', '17981,9', '17702', '23546', '8058,5', '2260', '15247', '8239', '17089', '24298', '25180', '8006,1', '19570', '82643', '34187', '5089', '9622,77', '6662', '33850', '12209,5', '18130', '3239', '4008', '17624', '6579', '26874', '13428', '16045,2', '5664,74', '9457,2', '25490', '5276', '30230', '40500', '8639', '17505', '5665', '7893', '3040', '5988', '5496', '4322', '29100', '24145', '27208,78', '19525', '8666', '11752', '73000', '3973', '31180', '19613', '14820', '5911', '16595', '10910,6', '5265', '11698', '4880', '14866', '15789', '34804', '82700,9', '10528', '32220', '47789', '27877', '6496,1', '22790', '9396', '55809', '11727', '19280', '6708', '19711', '13680', '30590', '24220', '6647', '25540', '3959', '25480', '9447', '15780', '5135', '25362', '6150', '10704', '24600', '35897', '26700', '3393', '20069', '12429', '23500', '3645', '8651', '14209', '5581', '7298', '16976', '11439', '16720', '6669', '9629', '14664', '2974,15', '9405', '18850', '17541', '16575', '3735', '28610', '28215', '21999', '10169', '11723,2', '28080', '25897,4', '2964', '18845,91', '6348', '9040', '20129', '32041', '19269', '23730', '21187', '8877', '3417', '25792', '11530', '17723', '23677', '11352', '8108', '17075', '10540', '93890', '12434', '23760', '5456', '79500', '12395', '17380', '70500', '76360', '21237', '27980', '15460', '8070', '23106', '15615', '23259', '3047', '50970', '3085', '16489,9', '6648', '32320', '23238,79', '16450', '12490,91', '24090', '10815,1', '12991,91', '6166', '3006', '2460', '5177', '19254', '7616', '42400', '21140', '5053', '27665', '40200', '4699', '7980', '9793', '5076', '26380', '16219,81', '11619,84', '5594', '17592', '16107', '17162', '13479', '20989', '29677', '6261', '10191', '3894,2', '18996', '28535', '12599', '7250', '17810,82', '15826', '3919', '16498', '30999', '12111', '17422', '2457', '25271', '75478', '4257', '12060', '16510', '9395', '3929', '35450', '32200', '14744', '3856', '25038', '14632', '4310', '27045', '5280,91', '8981', '99350', '19844', '21880', '12846', '15822', '24777', '7725', '17712', '5830', '8379', '14743', '17623', '21525', '6681', '19550', '81600', '65520', '3787', '56964,6', '22180', '6783', '5239', '24569', '11159', '5515', '18350', '15148', '30490', '9646', '13078', '34557,1', '8799', '11906', '39388', '8906', '6329', '17810', '5554', '4041,9', '31221', '9200', '7920', '39000', '23949', '22395', '5479', '14348', '18260', '2070', '27110', '15181', '10699', '32955', '48150', '34341,2', '18497', '23219,85', '10287', '9002', '41829', '15363', '3016', '32100', '4569', '8285', '46649', '26363', '19626', '33862', '4615', '19500', '8846', '10841', '2688', '10080', '20751', '2804', '22740', '15346', '11065', '6255', '12895', '13952,73', '6760', '39003', '81900', '78300', '24941', '14696', '5469', '4942', '19457', '11277', '9430,38', '9189', '10299', '17839,92', '10020', '2650', '17329,92', '6921', '50940', '29595', '21210', '34168', '9690', '7066', '14659,2', '19404', '20218', '27249', '24223', '14665', '13641,3', '47600', '5640', '24948', '22469', '9901', '6719', '7178', '11250', '23498', '8341', '20845', '15429', '22798', '5995', '14120', '23593', '25148', '13492', '18906', '15115', '8154', '36308', '17932', '13355', '17180', '75581', '23940', '8652', '16169', '4828', '14669', '8888', '29660', '3187', '4010', '7740', '27536,65', '5290', '4050', '38200', '6454,8', '6651', '7407', '17425', '7615', '24030', '21589,9', '2450', '9973', '25606,3', '21484', '10248,2', '19055', '4738', '23220', '47021', '11980', '17129', '5846', '27234', '19819', '9655', '5029', '21040', '24995', '28060', '2390', '8887', '22394', '116360', '14904', '14436', '3495', '5596', '21891', '18145', '12344,4', '35326', '6696', '7478', '16479', '10290', '24850', '20298', '4690,92', '20205', '15099', '25440', '8609,92', '23795', '12559', '3739', '23998', '12959', '6503', '5197', '39720', '45034', '7977', '97000', '5379', '17670', '37881', '15180', '18567', '22819', '27640', '8771', '22265', '5909', '14436,1', '20102', '26780', '23350', '14775,71', '21800', '18135', '9720', '29085,9', '10434,5', '18471', '11650', '15040', '7285', '9179,92', '30980', '75090', '26461', '21698', '8389', '22990', '16482', '65241', '10099', '13294', '4533', '7677', '33250', '10088', '4220', '7950', '11990,2', '6113', '90000', '8590', '3668', '19998', '29791', '9248', '5220', '36750', '24131', '22741', '9176', '20679', '11876', '2075', '29858', '22282', '4952', '9169', '13989', '10492', '5839', '5357', '21025', '4347', '13843', '14337', '12056', '14651', '16042,7', '6514', '14378', '37100', '27289', '10778', '2873', '40455', '13089', '10672', '20903,5', '23485', '12050', '16199', '22570', '33143', '11900', '10635', '2788', '14148', '18296', '16814', '17298', '17150', '11598', '6181,09', '7797,6', '8950', '3444', '15117', '7898', '3943', '30702', '65400', '15078', '18100', '30350', '21298', '24059,83', '12106', '14500', '22050', '23460', '4785', '17360', '21338', '3900', '16662', '28551', '12189', '3628', '6867', '23620', '16817', '8286', '8390', '9498', '7488', '36323', '17560', '42408', '8560', '37150', '7624', '19923', '20833', '3275', '14091', '12548', '13059', '45280', '8303', '12284', '19220', '16690', '12423', '12515', '10917', '21896', '13376', '12440', '16844', '25225', '24283', '12506', '22061', '14189', '7068', '14595', '38244', '4595', '9457', '2490', '10348,2', '9838', '19440', '19048', '10804', '5110', '57593', '19141', '33010', '12490,2', '3413', '7918', '9412', '34555', '9672', '34313,4', '26369', '17775', '10844', '7947', '3732', '26837', '4022', '27369', '24778', '25460', '14850', '6358', '12290', '27370', '19835', '6108', '10180,8', '9230', '21915', '8603', '21370', '3231', '94720', '12151', '91500', '3988', '26431', '41170', '5279', '13176', '4605', '5277', '4031', '3074', '22286', '2799', '12872', '11710', '6102,19', '9972', '15936', '33450', '22150,95', '34162', '13671', '6193', '7870', '37490', '16449', '22158', '22910', '23331', '20086', '18456,2', '19388', '17170', '11396', '30765', '12527', '16448', '3701', '14141', '5304', '7860', '10953', '74466', '34618', '6360', '14494', '13463', '6855', '15026', '29898', '14781', '6209', '33460', '20052', '16634,5', '13490,2', '7525', '4180', '4963', '19324', '3069,9', '26138', '5569', '20768', '28197,84', '2819', '9520', '7269', '8003', '7438', '5666', '10256,1', '4032', '28280', '14996', '6320', '11356', '34980', '5585', '29742', '24071,3', '6058,1', '26022', '13774', '9530', '25783', '35000', '32449', '22520', '21984,55', '12914', '24480', '30250', '7236', '9180', '39023', '32494,48', '16791', '19047', '2200', '4852', '7919', '7230', '4878', '12947,2', '9559,8', '11666', '13607', '17185', '32680', '28999', '17996,1', '7747', '15523', '4545', '85100', '28050', '4692', '13888', '46750', '8762', '15596', '5432', '9300', '18650', '12748', '16064', '19966', '13989,94', '32765', '22390', '3545', '5544', '24160', '18430', '38401', '20046', '25464', '12906', '75360', '25680', '17570', '21286', '20660', '21447', '35557', '26641', '3836', '14717', '10498', '9480', '23973', '12928', '3176', '19687,5', '38877', '17323', '11805', '33996', '6532', '9677', '6578', '20179,3', '24528', '89196', '6181', '16357', '14993', '15665', '19187', '22672', '6839', '2500', '11982', '7169', '8785', '14092', '19497', '21286,1', '14548', '9443', '10275', '10140', '37437,66', '83106', '3821', '17909', '15570', '17093', '31538', '28425', '7769', '24920', '22515', '22756', '16474', '79380', '5614', '11972', '9550', '6520', '13318', '21594', '7985', '35992', '12420', '45274', '30820', '66980', '5423', '15350', '9173,88', '37576', '21381,12', '24263', '43995,3', '33300', '53400', '6409', '23480,92', '2360', '23406', '11842', '10803,84', '27965', '3168', '19496', '18698', '59661', '45900', '20360', '150000', '12599,9', '25315', '12935', '15500', '15533', '19015', '30340', '20315', '6024', '5077', '6962', '42601', '13992', '27259', '3099,9', '18782,2', '15850', '47529,91', '14991', '16745', '4579', '17740', '24605', '4689,94', '6639', '9546', '16999', '17716', '28565', '18094', '12191', '16380', '29480', '4786', '9938', '2240', '20421', '22890', '9664,5', '21648', '3059', '5299', '23358', '18545,5', '5985', '2045', '7057', '5832', '41000', '3327', '5827', '2724', '5287', '3626', '23784', '25683', '31140', '23450', '14610', '3491', '7433', '8314', '5847', '37710', '10374', '20928', '24239', '7201', '10134', '30826', '23798', '34466,4', '6502', '9414', '12124', '13978,11', '20147,92', '3407', '6205', '7838', '4900', '5715', '6077,7', '3899,2', '5489', '4153', '10451', '31850', '12435', '21778', '8076', '49798,1', '11471', '31091', '3240', '11635', '10775', '14446', '5312', '20601', '7340', '8830', '3415', '12345', '11138', '5634', '21066,1', '41700', '13138', '18510', '4944', '35990,92', '15520', '2785', '8755', '7755', '66780', '15496', '13769,2', '15085', '5345', '20720', '19340', '29001', '13975', '7289', '16865', '13140,88', '18119', '2489', '16119', '16838', '15806,5', '15221', '5681', '3505', '24790', '21240', '4645', '3046', '20779', '23530', '2797', '16760', '42699', '6540', '2190,2', '11672', '10539', '11753', '24914,84', '7507', '8442', '3659,5', '18204', '6130', '27790', '8398', '31991', '25014', '15518,2', '3790', '21347', '15600', '11453', '7291,85', '4945', '48120', '17184', '35550', '9207', '7319', '5808', '20063', '3739,2', '12290,94', '9098', '4461', '23197', '14960', '9371', '6323', '17548', '8557', '15784', '5524', '66000', '14861', '24362', '40248', '26370', '12557', '15999', '6709,5', '26690', '10660', '27769', '3112', '64670', '18447', '5897', '17335', '7829', '15446', '9514', '4319', '50898', '21496', '13254', '10866', '41399', '17540', '17593', '17594', '7394', '7084', '13332', '3569', '13550', '16362', '10360', '28580', '16786', '14913', '41929', '16495', '11260', '18990', '7317', '31509', '25810', '8025', '8001', '9963', '29999', '20277', '23121', '21927', '13997', '3616', '20326', '3865', '27971', '3885', '9420', '19945,35', '17556', '23137', '19699', '24868', '4088', '22097', '10529', '3978', '30299', '24470', '10190', '15962', '9260', '6820,33', '21355', '11371', '6530', '21935', '14239', '6990,91', '16649', '10751', '28386', '17730', '32421,5', '11529,91', '14750', '24399', '41171', '10717', '24260', '15590', '6311', '12493', '5997', '2415,04', '16532', '3353', '10050', '17756', '15125', '93060', '9459,9', '22020', '26790', '5841', '23058', '4856', '29300', '5243', '15942', '42930', '6495', '41211', '5931,8', '10480', '38250', '11796', '8670', '8190', '12342', '11423', '3737', '2499', '8483', '4248', '4767', '17428', '9823', '4958', '29600', '24000', '23792', '32844', '9746', '10993', '10001', '70936,32', '21021,9', '4628', '20706', '34500', '2435', '12650', '11674', '4378', '15501', '16194', '5305', '11938', '17999,9', '36840', '28472', '6985', '19897,1', '5635', '11893,5', '4842', '38223,86', '7745', '28011', '12725', '56340', '32850', '35980', '74482', '11373', '9869', '3882', '18750', '24740', '19235', '13087', '29230', '34199', '10930,52', '12784', '2992', '30360', '28998', '29345', '12088,12', '24170', '3398', '8425', '8197,89', '10767', '21051', '13165', '8355', '29460', '25133', '26770', '16840', '11363,99', '8230', '27199', '23897', '18099', '28955', '9595', '21704', '35600', '22483', '4982,4', '9499', '4077', '73230', '14204', '39276', '12992', '20174', '14787', '6873', '18762', '10990,94', '25730', '15650', '23437', '3274,2', '7486', '7031', '5221', '26430', '11212,06', '37456', '22154', '12427', '24996', '24493', '3372', '15314', '4755', '23544', '3717,9', '25599', '26988', '19780', '29285', '10883', '31759,28', '27850', '5504', '24910,6', '4911', '7290,9', '12893', '21369', '3777', '11325', '29817', '51570', '10271', '15530', '3793', '81445', '69000', '21362', '8690', '80440', '35320', '17215', '93820', '27124', '6705', '11433', '12698', '20050', '10032', '28360', '36498', '5445', '5250', '18027', '2996', '5890', '31014', '13193', '25539', '14072', '20170', '5764', '16923', '14195', '3093', '24358', '9695', '5699,9', '27634', '9302,92', '9990,92', '26936', '6351', '29782', '27408', '17173', '8149', '27898', '16418', '4705', '11899,15', '26642', '15899', '13948', '4463', '8597', '18899', '44179', '3979', '13835', '17497', '99313', '8978,2', '19249', '12390', '15252', '6998', '20305', '25748,2', '29487', '15750,91', '5146', '42180', '11330', '13115', '2899', '21950', '5965', '3010', '25158', '2538', '8912', '18689', '4754', '9495', '15860', '25775', '11212', '19377', '11239', '11120', '27270', '35360', '47090', '5559', '3205', '17860', '21802', '49750', '3743', '16198', '9410', '2189', '36952', '14766', '13995', '20113', '20860', '10927', '10463', '12818', '10338', '31484,1', '3725', '29944', '26928', '4650', '4099', '26390', '6725', '15380', '7810', '12228', '16191', '19587,63', '4380', '8798', '9614', '16320', '70300', '5960', '6947', '10151', '18623', '13507', '79959', '10188', '9789', '19885', '37818', '24721', '26479', '3450', '5938', '35522', '10076', '7645', '21728', '20789', '6806', '3375', '13480', '72890', '29880', '15079,91', '7897', '17648', '13100', '22198,1', '9991', '15750', '23943', '3418,5', '21380', '12500', '3109', '23695', '13205', '15021', '5987', '97500', '21688', '11296', '18224', '14520', '8550', '6301', '19853', '60600', '4548', '2800', '19382', '15984', '6142', '18184', '2877,9', '12695', '13220', '26250', '21999,2', '19021', '21810', '11063', '7911', '10448,9', '29012', '18230', '14397', '5384', '14133', '28661', '24063', '59000', '5185', '18900', '16899', '14770', '22789', '23109', '40470', '13785', '9263', '43059,8', '19085', '11426', '17058', '9631', '48580', '8620', '16600', '10899,6', '44697', '84000', '20263', '24914', '9259', '5155', '14147,1', '26315', '11220', '14662', '8929', '30370', '51651,1', '20507', '76300', '2030', '14672', '15815', '24565', '11560', '20320', '22600', '45500', '7136', '12399', '4709', '100500', '22540', '13455,4', '45730', '7680,91', '8330', '8860', '4297', '19538', '26560', '12148', '12822', '51426', '8047', '6757', '17599', '18670', '4115', '27468', '24835', '6690', '20461', '13652', '8280', '30545', '7277,1', '24386', '3827', '90645', '3016,8', '5460', '17854', '5852', '5530', '31793', '56700', '9182', '4383', '13255', '3474', '8360,92', '2820', '28948', '11055', '20979', '31792', '7441', '8995', '8228', '17111', '39100', '14755', '20792', '6786', '3360', '16999,82', '34981', '4610', '19968,92', '12023', '9804', '15788', '71500', '16428', '9971,89', '23110', '14198', '41845', '6298,6', '7114', '8605', '10212', '17220', '12566', '9735', '18807', '7490', '11048', '17885', '9842', '4986', '21519', '4284', '8299', '12354', '23790', '13016', '15398', '22962', '6116', '17097', '11136', '19044', '18429', '20999', '2043', '7132', '11830', '8198', '38340', '4056', '16214', '25992', '11115', '14231', '31580', '24389', '25558', '5991', '42881', '27125', '13336', '12206', '4703', '5388', '22627', '10611', '4035,2', '6393', '3026', '14027', '21746', '5225', '17355', '8581', '2400', '13265', '28482', '29599', '22460', '9529', '20079', '15029,9', '20477', '20304', '25630', '9389,1', '6916', '9574', '28475', '10114', '4379', '55174', '5488', '13994', '9790', '9240', '15128,1', '13749', '43515', '4499,2', '58567', '12330', '14230,6', '15487', '24524', '3995', '18090', '7996', '9477', '4512', '5343', '29205', '22070', '7895', '22525', '48370', '18875', '13390', '3730', '55846', '16166', '4099,9', '4262', '33653', '36490', '3330', '7515', '4823', '15127,38', '14180', '20488', '13438,3', '6060', '6324', '13792', '17100', '28800', '6515', '24745', '3895', '37500', '15024', '14497', '2889', '16675', '11691', '4021,92', '18367,21', '7754', '20589', '9779', '5508', '13375', '20575', '23660', '17361,76', '37415', '85697', '14885', '17671,2', '9490,92', '6672', '2732,63', '4410', '3815', '8694', '2888', '15599', '3314', '10801', '12502', '25211', '9947', '35024', '5652', '11496', '37930', '13541', '3850,85', '8548', '11545', '9739', '13240', '8600', '21660', '16455', '16695', '8406', '3442', '3035', '56899', '13269', '5376', '26999', '9349,92', '10128,8', '7059', '19224', '10465', '16145', '5742', '2250', '26010', '18459', '13779,81', '17272', '14495,35', '93800', '16379,3', '92000', '4904', '27372', '4607', '2775', '23510', '22372', '15518', '3303', '7999', '2268', '18413', '4462', '7516', '16868', '17263', '36086', '14875', '14413', '6287', '17815', '21989', '6239', '31415', '5129', '17363', '27780', '61320', '49498', '6377', '6668', '23268', '15647', '17875', '9153', '16100', '3454', '16436', '10523,7', '9707,4', '8394', '12989', '21865', '22464', '30064,83', '20020', '21858', '4420', '23505,1', '21076', '4187', '11370', '17186', '29770', '14631', '16948', '6518', '19877', '17729', '22547', '14420', '10500,72', '29722', '6894', '3898,1', '22040', '5724,2', '8640', '36527', '26555', '15237,1', '3598', '27678', '12317', '19610', '24800', '63271', '16796', '17530', '3193', '20530', '18691,5', '6558', '16189,4', '18880', '22495', '16859', '21717,92', '6065', '30813', '5616,15', '30954', '27343', '29475', '6045', '34325', '7320', '5763', '10000', '46729', '6670', '32290,6', '16072', '27040', '33920', '19980', '17838', '8156', '5598', '4592', '4190,9', '10019,07', '7123', '49000', '7655', '4752', '9917', '41010', '11765', '39200', '82800', '4630', '14910', '12270', '5978', '13141', '28717', '4479', '10818', '18148', '5481', '48100', '13644', '4775', '10836', '13321', '75408,47', '21218', '15499', '12589', '10812', '16980', '15140', '67160', '20106', '6908,4', '17897,1', '5175', '9888', '16752', '9665', '16657', '14994,6', '11781', '19477', '10100', '5335', '61250', '27621', '3070', '16499', '8499', '29612', '18895', '23923', '12096,2', '7083,05', '14388,3', '14340', '7544', '10213', '30799', '13765', '4849', '14201', '3925', '5202,9', '26353', '45297', '3799', '8077', '6590', '19572,1', '22763', '5160', '5870', '8702', '10025', '10759', '5253', '8387', '26049', '30372', '3580,9', '16476', '11034', '8941', '19810', '8858,8', '10740', '15890,9', '9905', '11298', '10945', '9586', '26340', '17710', '28059,81', '2579', '13181,81', '21062', '18789', '12580', '23735', '43631', '3947', '32090', '29260', '29206', '7150', '7022,7', '4648', '14055', '11010', '4661,84', '91536', '24771', '41837', '31966', '13137', '25254,1', '6230', '11510', '84570', '2619', '22329,67', '22969', '46156', '73996', '25936', '12750', '93947', '6376,5', '6370', '10618', '15900,5', '13780,82', '23140', '13599', '2224,9', '15069', '32970', '3395,1', '11780', '20644', '4446', '12099,1', '31815', '21166', '39900', '4934', '19709,1', '9540', '9461,26', '12705', '23161', '15638', '34629', '22864', '24844', '20536', '6744', '13435', '13940', '6426', '15186', '5989', '7742', '17086', '11302', '9846', '6490,5', '20701', '9998', '12898', '29810', '6407,5', '26034', '6210', '4758', '21345', '25898', '17258', '3108', '7790', '38800', '2700', '4697', '4290,92', '4888', '24458', '7054', '35995', '10413', '4040,1', '13009', '5440', '21069,8', '40392', '13190', '11640', '3610', '4982', '15790', '3520', '10773,9', '5796', '2152', '21180', '29851', '8997', '8951', '5670', '21726', '4708', '26693', '13383', '25115', '27796', '9770', '16425', '3810', '5055', '8405', '7370', '9290', '4491', '9855', '32576,5', '4707', '18460', '17117', '3874', '3000,91', '30500', '26989', '6999', '20727', '3647', '34449', '12146', '5017,3', '8883', '6380', '6517', '8994', '7730', '28534,5', '4452,91', '10792', '22191', '21646', '60280', '3270', '4208', '9349', '6968', '19189', '16966', '4983', '4678', '7120', '13895', '50560', '9504', '24502', '7330', '27290', '22745', '4130', '14175', '33434', '27736', '16880,91', '9989,92', '20196', '10009', '2848', '4395', '33881', '85223', '5507', '6498', '8744', '10657', '13516', '9592', '8999', '8253', '8490,92', '27602', '26998', '14450', '8169', '25150', '23697', '4371', '27180', '24697', '4495', '12213', '19502', '23711', '84300', '18123', '9568', '21239', '4357,1', '31604', '4837', '33550,35', '65747', '11895', '2599,2', '4890', '21814', '43732,8', '25491,5', '25167', '4169', '5351', '29060', '24408', '5906', '6928', '2790', '22072', '28760', '44970', '3595', '6940,25', '5679', '19984', '13748,5', '3539', '22150', '6105', '3840', '72000', '12770', '4218', '3774', '22369', '63600', '7365,6', '25738', '5571', '10445', '27925', '4403', '3990,92', '8797', '21430', '17208', '13130', '99308', '9986', '17646', '15475', '18734', '8699', '10478', '24127', '18696', '7417,5', '7189', '12662', '4534', '14222', '19940', '12799', '10320', '45495', '3860', '10948', '10231', '36667', '26970,6', '15943', '19949', '4820', '21398', '8943', '43984', '25756', '15260', '9560', '9994', '4536', '7179', '27063', '26597,91', '2518', '6211', '13999,92', '15065', '4732', '8604', '10687', '2829', '11249', '27320', '12608', '67500', '12373', '9496', '3337', '5039', '9576', '8007', '13985', '9363', '23104', '4215', '5031', '5428', '3741,34', '21505', '9025', '14570', '23150', '20440', '17493', '20771,7', '8329', '14530', '7392', '10216,1', '26775', '19999', '31587', '6763', '23094', '3996,9', '6167', '7224', '31700', '17568', '21889,92', '10939', '33107,4', '31960', '97026', '23399', '3672', '7042', '7498,9', '75500', '10423', '25145,79', '16841', '6856', '50757', '5738', '7300', '33598', '19528', '14990', '14035', '16670', '9059,92', '13301', '48920', '5168', '21524', '8813', '3441', '12488,25', '13289', '20883', '39240', '9985', '15090', '17141', '13136', '28464', '22906', '7190', '26125', '28055', '7788', '12970', '26400', '21124', '16400', '37857,2', '6255,15', '4671', '20850', '30280', '10898', '9630', '27300', '35500', '19446', '28242', '18206', '99540', '5533', '8038', '21739', '76160', '19975', '11489,45', '28745', '8857', '31090', '6269', '27170', '6654', '87810', '18730', '8386', '7089', '9919', '2489,4', '7440', '27962', '4040', '11520', '20599', '13290', '16140', '8360', '8065', '12077', '14254', '31833', '6537', '10075', '15525', '30060', '32600', '12780', '5910', '5794', '3354', '8496', '3294', '17966', '6625', '21473', '3390', '19608', '9081', '12655', '22850', '4185', '11160', '12640', '25198,2', '4539', '7949', '11268', '22280', '6086', '16789,98', '15119', '3606', '3145', '22560', '16605', '2158', '11202,3', '10373', '4427', '9425', '21836', '13949', '20786', '22558', '10525', '26468', '7709', '22561', '15917', '4586,92', '6288', '17080', '13674', '37996', '6925', '25098', '9044', '21079', '22848', '82650', '31560', '7115', '17920', '2919', '23910', '3924', '14854', '5143,5', '10069', '23740', '7138', '8110', '11996', '9928', '7549,89', '20072,2', '2970', '18631', '7770', '2270', '20001', '19330', '13750', '24660', '9448', '20510', '15857', '5798', '11470', '37855,6', '8054', '10490', '11926', '23550', '68430', '26621', '10889', '14758', '14880', '16590', '10112,8', '10175', '13040', '14440', '8435', '13752', '29046,1', '4134,4', '16897', '27500', '28151', '9718', '34396', '24675,85', '26660,2', '2853', '14620', '7589', '32240', '5586', '9876', '3323', '13088', '15503', '10471', '12010', '20456', '17573', '78572', '12246', '37280,9', '18557', '12396', '9270', '16776', '2965', '14082', '29297', '17851', '8700', '5786', '14151', '22803', '5337', '27740', '22733', '4300', '6781', '18239', '4973', '3817', '19061', '8055', '2490,92', '11502', '15160', '5098', '21090', '3689', '17191', '9458', '10531', '35316', '3892', '23050', '22711,21', '2759', '38058', '34958', '3496', '12227', '9237', '17561,8', '8960', '19270', '18481', '13771', '11135', '16110', '21670', '34154', '7580', '22660', '8278', '14326', '11604,74', '27598', '4750', '4239', '23912', '45790', '16396', '10089', '2047,5', '24880', '4865', '11148', '29160', '44495', '22356', '36350', '4759', '23040', '28790,94', '9048', '21041', '17503', '3033', '19799'}\n",
      "\n",
      "FST_PAYMENT\n",
      "{'411', '5547', '21912', '523', '2166', '7249', '6972', '1615', '4589', '1999,94', '6200', '2985', '677,25', '2218', '13650', '160', '3660', '1197', '7205', '3400', '36222', '2716', '9907', '2155', '1100', '4925', '3340', '5920,65', '2419', '3264', '2610', '571', '5000,92', '51364', '823', '9116', '14100', '795', '9900', '2836', '546', '2029', '45309', '800', '3492', '437', '48000', '1359', '5036', '5296', '2651', '3745', '2892', '1344', '2078', '8734', '3556,4', '1400', '29860', '1504', '3078', '500,39', '21500', '850', '1270', '10599', '2368', '1225', '1366,05', '63213', '702', '1120', '575,2', '5002', '20645', '3763', '527', '1874,7', '6300', '874', '4690', '1179,6', '2293', '1791', '2885', '3411', '804', '3215', '2352', '1697', '1588', '6857', '3518', '2150', '16000', '299,92', '1153,5', '4175', '712', '3136', '4504', '11288', '804,5', '3740', '1035', '11600', '669,2', '1275', '1220', '1696', '2799,8', '4142', '114', '3022', '42906', '772,3', '4343', '34492', '46200', '60635', '2470', '2605', '76157', '4910', '23691', '7553', '1800,1', '11522', '28000', '2520', '9398', '2145', '41774', '6641', '3110', '7816', '5116', '2689', '1300', '4455', '754', '985', '51127', '3711', '213', '7518', '11850', '5001,9', '30660', '1715', '4110', '2754', '696', '2487', '1564', '3075,87', '1009', '2616', '236', '4198', '1632', '12562', '1155', '4346', '588', '1880', '24900', '6169,98', '7020', '2989', '1303', '1674', '457', '1740', '12251', '3245,95', '2599', '9800', '956', '1008', '958', '8800', '2784', '2439', '7850', '2999', '2060', '772', '677', '299,1', '1258', '2000,1', '3510', '7795', '507', '1556,8', '935', '1905', '577', '4256', '2022', '4370', '1328', '5708', '313', '812', '1418', '1695', '4521', '6290', '1812', '644', '15606', '458', '14190', '6100', '446,88', '1363', '1606', '10397', '4387', '449', '10234', '1252,05', '1818', '30791', '1872', '10550', '2999,9', '1920', '1486', '3335', '63219', '3403', '1708,5', '1266', '1244,7', '1571', '1241,2', '9257,3', '4460', '8940', '4546,8', '8120', '2041', '10152', '2160', '49356', '1640', '1060', '376,21', '1399,7', '7990', '636', '2340', '1619', '937', '7125', '14760', '401', '3235', '15000,4', '54910', '4800', '5070', '1095', '11300', '1182', '3666,2', '2160,6', '1051,1', '3081', '6675', '1570', '11080', '4210', '8274', '4060', '138', '21839', '2187,5', '7431', '7360', '2237', '709,6', '7630', '39804', '1854', '2769,27', '5373', '2440', '1256', '14582', '3071,52', '3199', '3584', '2321', '4632', '40000', '4937', '1248', '2326', '463,2', '7352', '36330', '10706', '12700', '4363', '1005', '2062', '6837', '3798,18', '1336', '10090', '2682', '1500,2', '9555', '6820', '298', '6848', '57280', '940', '7604', '498,6', '8495', '1726', '2478', '698', '2640', '3049', '3392', '2545', '1459', '8596', '4590', '2880', '753', '2000,91', '9539,91', '1149,5', '2663', '20000', '476', '601', '756', '535', '2592', '9923', '818,4', '2433', '3903,31', '971', '2988', '2305', '10750', '1173', '17669', '5375', '965', '3285', '3547', '9130', '1051', '3540', '1675', '5396', '525', '1866,6', '1577', '2499,8', '6789', '3223', '2429', '3776', '7964', '1814', '2660', '1462', '1319', '628', '2753', '2923,35', '2100', '7116', '4177', '41580', '4304', '2310', '11190', '9996', '584', '4850', '1399', '99', '3490', '4815', '2495', '475,1', '2643,88', '9570', '50642', '3538', '9721', '7744', '4702', '273', '1050', '5502', '1830', '3249', '8900', '54929', '1918', '1937', '832', '6541', '1046', '4978', '3890,92', '3069', '8250', '6450', '9990', '9602', '5383,85', '1778', '451', '30303', '514', '5190', '1685', '1432', '2826,6', '8396', '3414', '1897', '3133', '3015', '3000,5', '3060', '15701', '9833', '2954', '425', '10766', '1395', '2665', '2214', '14300', '2850', '1831', '3346', '3200', '2999,6', '2016', '10950', '1991', '5000,1', '1309', '2323', '15672', '3543', '2845', '1500', '7421', '26000', '7395', '9467', '14000', '4000,91', '4280', '2328', '378', '4830', '1000,2', '728', '2034', '2032', '1379', '4720', '557', '697', '8350', '340', '24140', '7889', '4202', '1555', '1497', '5620', '2245', '5574', '1514', '1356,4', '1200,8', '1622', '1825', '3000,85', '1312', '898', '534,1', '1596', '549', '13488', '386,1', '1653', '400,2', '3599', '3183', '22710', '38000', '2830', '2319', '6813', '1276', '780,3', '1950', '1260,9', '1081', '316', '19950', '13536', '5060', '652', '7160', '878,2', '10160', '873', '9639', '4916', '539,09', '7547,8', '975', '1877', '14385', '1351', '363,8', '3213', '5735', '2926,4', '1107', '185', '1855', '3000,55', '2825,5', '6703', '256,2', '145', '5472', '50132', '3105', '6785', '19730', '3522', '1078', '45600', '4768', '1261', '6700', '2870', '2916', '299', '55000', '283', '749,95', '4507,34', '345,3', '943', '2659', '1529', '5283', '1152', '3299', '2185', '505,4', '2621,78', '26922', '515,85', '5817', '2553', '6835', '7140', '368', '8180', '2630', '2199,95', '3209', '2755', '11768', '3037', '1040', '598', '6240', '1666', '1333', '26090', '2067', '1343', '2062,5', '495', '1729', '3270,82', '7794,92', '8540', '1949', '2547', '1989', '5317', '3622', '650,95', '1147,9', '3255', '4527', '10330', '659', '10807', '3371', '1286', '1000', '1413', '508,79', '337', '8036', '11500', '1310', '855', '1977', '1870', '3500,6', '4045', '8530', '5170', '2958', '5134', '61151', '604', '4757', '565', '7811', '2698', '1049', '4995', '16200', '2899,9', '50120', '276,6', '4488', '2710', '3720', '6399,9', '510', '3310', '1181', '46169,2', '1610', '2879', '13177', '3311', '9910', '2403', '8945', '4131', '8361', '676,8', '9975', '4398', '1300,92', '1384', '3870', '7165', '55982', '2532', '2290', '9754', '45200', '1210', '645', '1721', '65000', '2635', '5662', '314,5', '547', '2365,13', '695,2', '6610', '2593', '2399', '8916', '599', '7082', '844', '990', '704', '2238', '3120', '2857', '5650', '11498', '3644', '1293', '2364', '790', '3095', '10723', '29032', '4457,5', '1999,92', '18590', '5078', '3700', '11233', '1067', '12460', '2482,84', '2335', '508', '5999,85', '969,8', '5280', '650', '500,91', '1082', '7541', '20460', '7584', '10267', '3028', '1213', '2189,9', '1535', '48696', '34698,2', '2426', '6357', '8261', '2880,1', '888', '18500', '12000', '3250', '485', '45000', '3713', '53530', '11362', '9824', '5120', '1478', '2609', '44004', '2188', '1601', '688,86', '839', '18080', '3534', '3130', '3000,94', '6068', '11275', '14779', '6600', '3435', '4680', '449,1', '2999,92', '5959', '5998', '678,2', '1178,18', '730', '15680', '3795', '4450', '2670', '5100', '3126', '12380', '2925', '2350', '11860', '1841', '3009,25', '727', '4597', '10227,2', '2222', '49200', '8998', '2934', '3916', '2125', '1331', '3620', '2647', '15670', '54080', '1955', '582', '770', '3677,98', '2210', '11689', '7633', '4070', '6860', '3233,55', '1130', '973', '9663', '7270', '3351', '3477,91', '4817', '23800', '1948,92', '1135', '8000,91', '1999', '2500,2', '1043', '708', '3064', '7238,86', '1246', '917', '3387', '1704', '2685', '9400', '4743', '1511', '2562', '3960', '1908,9', '13700', '1498,5', '1231', '792', '48052,1', '578,1', '638,7', '2256', '793', '1638', '4000,5', '3408,8', '10981', '2690', '3158', '1282', '10725', '11044', '1672', '3298,92', '4739', '754,2', '14940', '2859', '6777', '1705,5', '3877,51', '14753', '3502', '6598', '2260', '6151', '2901', '10300', '5703', '12088', '2758', '8923', '5382', '2316', '2348,8', '1958', '5461,11', '972', '1370', '5143', '197', '1737', '15091', '8879,48', '1648,5', '2129', '625', '3609', '3600', '416', '2137', '1360', '5655', '2132', '2920', '13398', '3308', '13126', '911', '1708', '6900', '1002', '1017', '895', '2708', '1940', '365', '16086', '3040', '2084', '2324', '309', '388', '614', '600', '1099', '7124', '1639', '977', '60530', '878', '2715', '3980', '12144,42', '8082', '320', '13510', '6957', '5928', '3304', '9890', '5611', '10007', '4959', '3094', '4880', '710', '1838', '5562', '643,7', '1421', '43480', '1533', '2998', '2140', '6882', '1959', '251,1', '21900', '681,2', '39487', '553', '1410', '342', '2379', '9108', '1192', '395', '2405,69', '1091', '2223', '68500', '875', '9750', '1146', '1549', '11673', '6400', '4510', '1965', '1512', '3902', '6629', '6950,8', '4725', '9955', '846', '2406', '10482', '272', '635,2', '3324', '870', '734', '323,1', '745', '10497', '688,3', '2625', '3645', '1295', '4633', '3494', '478', '296,8', '953', '5140', '1122,3', '7298', '5000,91', '1284', '20516', '1665', '6990', '2860', '1309,65', '3107', '4715', '245,6', '679', '5812', '8263', '1320', '3090', '2530', '2090', '2980,5', '18850', '6326', '769', '7019', '3735', '1520', '7420', '5560', '752', '288', '4464', '4608', '853', '489', '6454', '1731', '965,92', '4139,36', '54000', '5398,1', '362', '5275', '1190', '849', '9040', '12520', '6526', '4935', '1731,9', '537', '5146,52', '1337', '10515', '7578', '3417', '17814,4', '371', '3687,5', '4640', '51929', '53900', '1631', '2315', '2325', '419', '3328', '2015', '4482', '1772,7', '12834', '446,05', '8320', '4913', '2409', '1559', '26565', '1930,94', '15460', '3460', '499', '1136', '480,9', '11320', '2703', '1200', '2964', '250', '2233', '5980', '810', '787', '1200,84', '4567', '19212', '1880,2', '3063', '332', '1010', '2024', '9472', '75492', '318', '17000', '2050', '3290', '622', '7707', '3006', '518', '1195', '2692', '2460', '5177', '7000,5', '3999', '891,4', '9898', '4007', '3253', '50500', '8113', '9793', '1089,5', '20608', '445', '60245', '11090', '2350,3', '1978', '5594', '1292', '5600', '7019,7', '3280', '775', '385,3', '748', '1345', '10516', '11548', '4515', '10270', '739', '13790', '2723', '3469', '4000,22', '1228', '1159', '1162', '7250', '10120', '10696', '3000,92', '6958', '54470', '5361', '6832', '2493', '1079', '9050', '448', '2457', '346', '1899,1', '954', '3855', '845,5', '5112', '2092,94', '2500,25', '3511', '2280', '269,1', '2086', '30000', '1254', '1380', '691', '439', '3170', '687,7', '2346', '6196', '554', '1151', '3230', '3315', '905', '1289', '4310', '5609', '2080', '292,2', '750', '1174', '5598,92', '13681', '3054', '3099', '2413', '2734', '290', '17235', '9664', '3445', '5082', '941', '3252,72', '320,5', '2570', '423', '1834', '900,2', '630,5', '27350', '678', '3678', '21650', '2674', '765', '3568', '686', '2281,1', '4710', '3251', '2704', '6458', '714', '20235', '4195', '5000,8', '3787', '1510', '799,5', '356,1', '3516', '696,1', '459', '4500', '50190', '13203', '481', '2702', '473', '11116', '860', '2574', '6945', '2000,4', '2731', '2699', '1634', '760', '5722,21', '867', '5714', '1189', '4087', '1101,1', '11999', '22399', '3898', '763', '7764', '5554', '3585', '2835', '3560', '413,95', '18152', '6340', '3717', '4675', '9200', '7118', '20595', '9600', '375,2', '39000', '3596', '3334', '1123', '2950', '585', '879', '1661', '472,68', '2070', '12335', '2482', '1449', '1347', '3089', '840', '1992', '7243', '268', '4080', '1990,91', '4444', '2410', '8903', '3219', '644,6', '3639,5', '443', '837', '6599,8', '6033', '3016', '783', '20000,02', '2119', '4569', '1235', '2198', '2620', '1717', '3175', '1338', '5234', '1849', '2167', '6075', '6800', '11200', '1484', '2688', '1679,67', '6295', '1169,3', '9960', '4919', '2804', '513', '1573', '5192', '3202', '34776', '782,8', '5010', '2915', '8064', '7200', '700', '11065', '8115', '1522', '1389,8', '5320', '3951', '11400', '2044', '100,91', '1922', '433', '9105', '1560', '9391', '9100', '646', '5380', '2118', '2528', '2007', '10299', '2000,22', '4522', '450', '9979', '405', '2650', '10512', '335,2', '1641', '936', '522,4', '1802', '13613', '7100', '1304', '820', '280', '363', '11230', '71999', '5198', '2027,7', '1800,9', '4523', '1223', '851', '3369', '3995,98', '2183', '682', '3318', '2465', '930,91', '3165', '16300', '5640', '4870', '3036', '4162', '3135', '6719', '1513', '1860,9', '4364', '3400,1', '1516', '6575', '3619', '1089', '890,92', '0,94', '2348', '2356', '10008', '3997', '240', '5979', '2278', '2587', '3864', '3910', '1269', '640,32', '305', '729', '15120', '3014', '995', '4950', '10729', '4828', '5207', '3930', '446,4', '1136,44', '1938', '4188', '1250', '626', '7586', '5873', '7740', '4197', '5290', '336', '17500', '4050', '2697', '38200', '3570', '1429', '903', '532', '1290', '2450', '2201', '5610', '19556', '568', '12438,4', '4517', '7133', '5131', '725', '745,5', '4593', '1267', '3800,2', '438', '2390', '2257', '1294', '944', '1574,1', '60488', '385', '10489,92', '6098', '1199', '1400,95', '3495', '5596', '1229', '5425', '11292', '7110', '9350,95', '2098', '8423', '5387', '8861', '4000,2', '2437,5', '7240', '10394,5', '2962,1', '1480', '2192', '3739', '2604', '2966,2', '768', '1021', '14674', '4600', '12468', '3186', '3225', '2590', '315', '402', '1419', '10', '1584', '3605', '3246', '1020', '7280', '1386', '1072', '5700', '5400', '4629', '634,2', '16668,82', '2425', '3140', '2912,15', '3500', '7567', '1069', '3052', '2559', '5630', '3538,92', '609', '10899', '8389', '479', '4453', '8328', '1957', '4393', '1677', '1143', '7950', '1567', '9784', '929,1', '90000', '6000,81', '4220', '494', '4233', '830', '2500,8', '523,4', '3604', '1585', '1158', '2564', '9248', '44216', '1324', '2705', '1441', '303', '3260', '19521', '3703', '8820', '2075', '15320', '6534', '11790', '2772', '10637,7', '942', '1108', '2476', '10176', '5300', '9169', '8986', '522', '4706', '2678', '59066', '10980', '1948', '1048', '2095', '3210', '2600', '9068', '8990', '10900', '8259,55', '1216,85', '1096', '9000', '868,83', '2949,7', '3320', '2459', '980', '2955', '3448', '11425,8', '1028', '3117', '3891', '3385', '7095', '7887', '60000', '12050', '1042', '1148', '2244', '1786', '12150', '1175', '11900', '2863', '6646', '794', '4335', '2887', '514,6', '2832', '10434', '542', '1460', '3444', '16350', '3943', '1487', '247', '9490', '2110', '1422,6', '6480', '7464', '370', '675', '560', '1810', '2365', '6138', '5838', '4360', '7669', '5038', '1837', '14500', '8331', '1491', '3597', '31800', '5203', '3002', '3900', '1757', '383,2', '1047', '5767', '4850,8', '12367', '5517', '5506', '8390', '3043', '2248', '5240', '1257', '3195', '9498', '6010,3', '2010', '1093', '1557', '242', '1078,6', '15240', '1455', '3087', '4348', '29640', '2193', '14448', '4005', '835', '1680,82', '3899', '11104', '863', '3275', '10560', '3756', '8099', '11221,5', '7149', '2448', '1322', '1045', '1271,1', '1609', '1648', '435,4', '8210', '425,6', '5445,92', '1630', '14740', '2000,9', '550', '50872', '2320', '9445,95', '7880', '1329', '655', '6109', '7450', '1628,5', '9245', '3295', '1000,3', '2490', '9457', '9838', '2568', '673,5', '718', '2690,92', '959,3', '483', '7590', '500,41', '3976,32', '751', '830,6', '5110', '4082', '3977', '1875', '22000', '3413', '2861', '5902', '3131', '2014', '5345,64', '1171', '2142', '1528', '2504', '1625,2', '8100', '666', '229', '10046', '457,5', '4749', '1894', '90', '7398', '28257', '6250', '2498', '2179', '1064', '7107', '3374', '5534', '7534', '62250', '2632', '4100', '648,28', '2935', '5248,91', '1719', '504', '1238', '1803', '1883', '4990', '26410', '14281', '5279', '534', '852,2', '21094', '2404', '5277', '1590', '5740', '3418', '919', '48910', '12800', '2531', '2799', '609,6', '2358', '838', '25791', '3098,9', '7128', '2454', '7350', '2000,8', '1930', '10097', '7272', '1202', '50442', '5874,6', '329', '2220', '578', '3072,03', '1239,95', '2980', '1649', '3580', '11646', '3198', '1689', '1393', '1534', '7860', '3261', '4476', '780,1', '1569', '1850', '487', '8445', '1515,7', '6217', '7796', '785,9', '2717', '12110', '328', '12030,65', '677,3', '16757,97', '33665', '4194,3', '986', '300', '16070', '4434', '6780', '3114', '1500,5', '2819', '1124', '9520', '2973', '1907', '16824,39', '1253,7', '988', '2911', '8125', '3020', '2942', '11990', '1724', '2595', '444', '6320', '1390', '1005,75', '3901', '276', '9746', '1554', '1659', '6792', '1141', '612', '2131', '44980', '397,7', '18719', '9530', '159', '5521', '35000', '7207', '2211', '1145', '2234', '9411', '1245', '778,72', '2209,5', '5341', '1797', '2091', '1000,1', '275,4', '7049', '11490', '2182', '3157', '7261', '6143', '6050', '9103', '2369', '2578,8', '5825', '7244', '2200', '2615', '14855', '13840', '651', '7230', '3363', '1190,9', '4030', '1140', '1694', '8868', '1888', '2219', '982', '7747', '3794', '176', '2394', '524,85', '55600', '1355', '5210', '505', '4692', '2940', '25000', '1523', '934', '4000,9', '16484', '1469', '2207', '1477', '1420', '3105,06', '10410', '9300', '6160', '2680', '3433', '7700', '2420,1', '18800', '10095', '5923', '18650', '410,4', '2286', '3410', '1121', '1119', '8751', '8450', '387,6', '35269,21', '992', '2294', '2468', '5030', '825', '2608', '2712', '1621', '54870', '4235', '1110', '2772,13', '3545', '34236,65', '2081', '12250', '2375', '1062,5', '19356', '18256', '2123', '5005', '6991', '10719', '3555', '2968', '1892', '4186,59', '3141', '45451', '600,9', '3838', '3836', '3003,3', '2957,79', '1973', '2011', '9480', '5436', '594', '3050', '3148', '2046', '1201', '11762,27', '10147', '1029', '1939', '2279', '147', '1669', '4472', '2778', '1365', '1215', '7883', '516', '2302', '6532', '4700,6', '57254', '1633', '747', '834', '847', '326', '6975', '3277', '10619', '5667', '3000,68', '1990', '311', '5730', '955', '27600', '1670,69', '10001,11', '5268', '2500', '3134', '2000,6', '3669,6', '7756', '349', '733', '1210,51', '11924', '533', '61827', '12999', '2488', '3394', '824', '11597', '2865', '6901', '10140', '1619,95', '658', '862', '2661', '1578', '1004,2', '595', '574', '1066', '4851', '2013', '5899', '9550', '234', '1378', '3073,8', '7631', '2979', '19584,4', '1809', '359', '12420', '1431', '2918', '5200', '2047', '6016', '2269', '5499', '2424', '2780', '573', '1679', '2656,4', '13776', '1373', '724', '880', '2360', '5125', '54800', '1163', '1651', '933', '33694', '668,71', '8200', '1180', '19150', '9254', '2205', '2331', '351', '1456,5', '11859', '418', '1693', '764', '3810,44', '1626,5', '2263', '568,7', '6980', '4580', '259', '15500', '964', '837,91', '4320', '5555', '5747', '2373', '8010', '1138', '9909', '1765', '602', '4245', '5752', '15850', '3505,4', '989', '6844', '4579', '2157', '10695', '2811', '5690', '1230', '9096', '2572', '14220', '1244', '1472,75', '4968', '915', '1204', '1392,4', '20810', '3172', '6543', '7519', '1595', '2240', '1056', '1322,9', '3482', '1928', '15383', '21648', '3104', '510,9', '5790', '3059', '53310', '2760', '10177', '5985', '19000', '2045', '2952', '6820,45', '8078', '952', '950,92', '60432', '2400,1', '13395', '1565', '690', '3577,5', '5273', '41000', '5820', '3498', '3685', '2414', '9700', '1059', '352', '3656,49', '978', '22400', '7480', '1485', '1575', '3679', '910', '945', '23430,69', '4325', '5847', '4283', '22097,99', '511', '10796', '1011', '1773', '2923', '1219', '369', '2930', '6228', '4900', '3800', '205', '3358', '1515', '2500,4', '1159,9', '4710,4', '1000,92', '657', '13170', '3752', '3489', '1353', '3451', '1099,1', '1200,2', '2816', '2475', '5334', '3240', '1779', '4447', '407', '1901', '416,3', '3415', '9267', '4091', '2444', '10469', '1053', '12948', '53577', '10777', '260,1', '6406', '1265', '3969', '432', '9871', '4944', '1598,91', '1481', '10041', '2785', '4490', '3030', '12600', '34000', '413,5', '1115', '2206', '293', '39490', '1271', '1255', '2508', '2265', '4000,94', '2126', '2730', '387', '41300', '619', '65481', '4520', '1650', '2826', '1561', '455', '1839', '961', '6390', '1763', '2415', '3890', '389,94', '1682', '713', '1381', '8688,09', '14200', '920', '7967', '5950', '3505', '389', '3252', '12211', '537,85', '492', '5845', '996', '4645', '3046', '5999,2', '3100', '5999', '2797', '16740', '2503', '2549', '3688', '4948', '2634', '6297', '2338', '1887', '774', '2028', '5420', '1507', '4240', '886', '1290,6', '3212', '1790', '7507', '3241', '1113', '1438', '889', '2898', '16515', '8442', '2812', '714,85', '6952', '1218', '6130', '868,42', '16020', '7836', '6491', '3790', '15600', '5705', '2878', '279', '4430', '1899', '25820', '3749,74', '2781', '744', '413,1', '13360', '1437', '5760', '4991,92', '452,1', '893', '10030', '1299', '9047', '1745', '4636,37', '7447', '2517', '7623,3', '856', '496', '1288', '7495', '10600', '1166', '1198', '6323', '6398', '2614', '2430', '3765', '1655', '6080', '2099,85', '3169', '3180', '3656', '7750', '842', '66000', '586', '2900,5', '7822', '25405', '955,4', '4342', '1800', '439,95', '3724', '5550', '12400', '7555', '1776', '2000,2', '777', '7945', '9330', '1100,9', '2178', '4986,5', '1815', '1600', '1798', '18840', '1105', '10467', '260', '4565', '1517', '14640', '2535', '1268', '4319', '2130', '5792', '22940', '5038,1', '1869', '5061', '2810', '7394', '3569', '8150', '2100,91', '629', '3278,9', '5247', '1579', '2052', '1885', '1047,82', '18000', '868', '1835', '1139', '4230', '2485', '6782', '4653', '929', '48155', '3616', '217,5', '637,4', '2004', '14390', '4498', '426', '50', '3885', '46832', '1092', '1747', '6156', '310', '2645', '8235', '1406', '3640', '1109', '368,95', '3948', '10162', '1411', '2187', '638', '3380', '14990,94', '11474', '767', '4666', '435', '3820', '228', '1752', '3920', '373', '23900', '2900', '12130', '3298', '3164', '9599', '4270', '4700', '938', '3658', '1703', '869', '4184', '1871,75', '1371', '694', '5246,5', '1701', '988,9', '2000,95', '4858,99', '364', '3463', '1823', '921', '4898', '1800,28', '465', '2686', '372', '4145', '7098,5', '545', '4260', '13400', '3000,2', '4020', '3353', '2909', '10050', '6005,5', '1749', '5653', '8790', '209', '1842', '289', '1463', '6933', '3018', '4856', '7520', '2480', '2668', '1551', '6495', '6730', '1458,8', '1927', '1331,78', '1470', '6599', '9288', '7185', '2299,9', '2000,92', '2910', '1935', '7280,83', '250,6', '1376', '5500', '2684', '8190', '9661,66', '52182', '2102', '384', '5028', '8656', '2499', '880,2', '4767', '6712', '2984', '24000', '542,2', '3194', '3449', '13772,82', '22500', '16481', '1799,9', '1104', '8188', '7535', '2737', '723', '1956', '999,4', '10133', '2975', '797', '4378', '2585', '29080,92', '71000', '421', '800,1', '3364', '5305', '454,6', '3175,73', '1873', '1727', '2937', '4027', '753,23', '1394', '1301', '3426', '3025', '660', '2700,75', '757', '5971', '3537', '4515,82', '7745', '615,4', '3370', '1179', '3000,95', '1492', '1902', '3760', '25370', '5095', '1953', '412,1', '297', '2136', '1434', '10685', '2372', '12910', '2216', '2550', '5081', '3907', '1247', '5580', '9995', '8920', '675,5', '1566', '1760', '3398', '5990', '3159', '4570', '1031', '1125', '1611', '1572', '4399', '10015', '1982', '1889', '649', '2392', '5490', '854', '1423', '1400,1', '470', '13350', '2739', '579', '630', '1291', '3000', '1738', '1396', '4502', '1278', '1947', '2345', '11528', '894', '1197,1', '1671', '1508', '43500', '3288', '1264', '1433', '4289', '3743,37', '1077,86', '1379,4', '654', '460', '124', '7953', '4077', '3319,7', '2387', '2403,98', '7660', '42518', '25400', '1101', '9500', '40664', '6890', '1670', '468,1', '16000,1', '2546', '9533', '517', '1799', '1050,4', '627', '1735', '2197', '562', '33590', '2314', '2805', '324', '1424', '1546', '3430', '1383', '2999,91', '1368', '8111', '1149', '4438,2', '2400,5', '1895', '1771', '2353', '2215', '485,2', '2282', '2349,6', '40758', '553,6', '5548,4', '223,2', '14168', '805', '4999', '43000', '4480', '11024', '1125,3', '3023', '11027', '12012', '31350', '1020,9', '1374', '2698,93', '5245', '25599', '6448', '345', '13818', '6794', '1499', '8688', '1987', '5504', '2127', '759', '2858', '3236', '3702', '2457,9', '716', '1488', '10460', '3759', '1678', '1968', '932', '608', '11382', '9845', '1805', '14970', '2186', '12244', '110', '684', '9788', '10240', '1629', '2696', '3677', '2231', '2655', '53598', '58800', '1775', '48210', '24500', '1703,2', '5250', '912', '742', '5890', '5850', '1884', '1137', '9375', '962', '567', '3779', '4498,91', '8205', '1408', '5994', '2000,7', '9695', '918', '1591', '3100,1', '1795', '5074', '1425', '8342,38', '6000,95', '925', '17408', '2064,91', '4081', '5000', '3274,02', '8', '1399,3', '1330', '2333', '12673', '623,42', '10230', '2285', '2561', '1136,8', '4705', '1287', '1274', '738', '2329', '4244', '5437', '9190', '2115', '10527', '720,2', '541', '13079', '1310,62', '1000,95', '6910', '2510', '13200', '29500', '3190', '3425', '8608', '4359', '47000', '5360', '663', '4085', '1340,92', '1252', '2395', '610', '2899', '4160', '3397', '1860', '225', '1908', '3680', '3010', '3499', '480', '2538', '544', '1249,95', '306', '3846', '2484', '1900', '430', '845', '344,8', '5023', '1018', '6519', '524', '3154', '8522,2', '4876', '1767', '5145', '833', '1279,9', '19470', '1556', '2701,27', '14614', '1001,7', '3205', '606', '1781,83', '48156,13', '3097,8', '440', '10098', '1829,43', '355', '2458', '18375', '1358', '3159,86', '5124', '2189', '13580', '3100,3', '1970', '1628', '967', '2746,92', '1999,6', '1132', '258', '9037', '555,2', '11800', '10557', '15490', '4225,44', '1620', '1890,5', '1280', '4650', '49038', '5710', '2499,86', '1732', '4106', '721', '1022', '15800', '1240', '7810', '6875', '4380', '3088', '2247', '280,5', '1249', '4341', '1258,85', '10000,92', '1710', '618', '1798,82', '3704', '1785', '1178', '1819', '3450', '6920', '230', '551', '7359', '1185', '6000,1', '2073', '729,1', '1600,4', '2649', '2874', '870,4', '1279', '5130', '422', '519', '1326', '2496', '1116', '2039', '13100', '375', '9991', '8710', '623', '968', '12015', '7481,98', '2949', '1058', '10051', '390', '999,2', '949', '12500', '4550', '3829,6', '1160', '40100', '1996', '2800,2', '999', '887', '4206,8', '354', '1018,5', '1103,85', '2289', '10000,2', '2584', '49337', '3357', '394', '8964', '2868', '2339', '811', '843', '100', '3718,2', '4575', '230,3', '1453', '3173', '2800', '12815', '1910', '1272', '1129', '1828', '49582', '1239', '2221', '19650', '1730', '552', '6387', '15000,92', '130', '3830', '828', '406', '7776', '14133', '799,92', '18900', '15795', '3603', '1610,4', '2540', '2491', '6407', '2469', '3124', '5984', '36500', '44303', '20879', '6396', '4390', '2442', '4181', '31000', '592', '16600', '1994', '3484', '1423,89', '5155', '12220', '24500,03', '6294', '377', '4647', '4809', '709', '3332', '2271', '319', '1550', '2112', '2030', '5000,87', '10400', '360', '1597', '5352', '9362,28', '37400', '302', '1545', '11560', '4000,1', '1743', '4709', '1712', '6510,2', '3305', '1692', '1926', '8330', '409', '800,82', '12148', '5477', '4620', '960', '21010', '14010', '1050,33', '2571', '1025', '3206,83', '966', '813', '1000,88', '13519', '3524', '1122', '53541', '3086', '484,5', '799', '1770', '1364', '1327', '641', '1233', '5285', '5460', '19999,2', '1172', '5530', '19990', '1849,8', '554,4', '1717,92', '1062,2', '5040', '424', '39600', '1503', '2204', '10031', '5925', '2820', '490', '1751', '979,5', '2134,6', '1302', '1603', '3080', '6646,5', '56670', '13710', '1099,9', '4440', '3360', '48800', '667', '4108', '1530', '339', '32000', '1969', '1041', '6923', '2833', '2384', '1296', '8500', '1339,9', '1739,69', '2795', '15521', '301', '678,03', '2667', '2643', '3220', '3926', '3490,82', '605', '14322', '379', '6222,48', '7490', '311,73', '1000,89', '1962', '3149', '5532,66', '4992', '2688,69', '1493', '3657', '281', '5860', '2500,95', '10934', '1414', '8458', '2955,03', '715', '2133', '6500', '1228,2', '9619', '49500', '7882', '6289', '852', '7443', '15000', '1445', '8164', '2370', '642', '8618', '1165', '16750', '634', '386', '248', '13336', '2168', '3007', '1036', '4983,2', '481,8', '637,3', '5844', '429', '16800', '6550', '1085', '2040', '3162,71', '6127', '6679', '2400', '1055', '699', '3284', '1822', '2728,91', '8480', '3899,95', '1398', '3935', '900', '700,83', '9760', '3650', '329,2', '15886', '4076', '9574', '1142', '1014', '1690', '6257', '4358', '180', '1768', '7500', '1864', '383', '11337', '4660', '247,2', '9790', '779', '3621', '3995', '1635', '7345', '1452', '500', '21750', '3061,6', '7812', '909', '168', '6445,86', '3000,05', '10350', '14806', '23489', '596', '3730', '2398', '5350', '7913', '561', '1821', '1656', '2555', '3185', '1451', '6402', '3945', '674', '3330', '1681', '589', '4823', '3391', '10431', '119', '1625', '8934', '808', '1841,91', '559', '2750', '780', '1102', '13792', '195', '381', '28800', '420', '984', '17110', '3822', '2814', '3298,5', '9749', '1322,42', '3055', '1501', '3698', '2363', '3443', '1094', '1003', '1720', '3499,8', '1543', '0', '304', '1112', '4250', '12358', '3211', '2849', '771', '6349,2', '11020', '3031', '200', '4410', '3815', '2888', '3670', '447', '341,1', '2653', '14400', '1700,92', '1972', '32348', '6960', '2375,68', '2190', '3265', '2580', '19151', '665', '1898', '2009', '4577', '1700,91', '8600', '1313', '1098', '2960', '3442', '9699,69', '20561', '1348', '353', '5784', '2116,57', '5047', '494,5', '9325', '1349', '555', '1495', '10465', '1524', '6603', '2250', '4860', '3597,4', '3804', '782', '1356', '2000', '8000,2', '25089', '6625,16', '400', '927', '48500', '1111', '20000,91', '9000,6', '29327', '2347', '7698', '7034', '1936', '16250', '2763', '12100', '1361', '1103', '1323', '2775', '4607', '7858', '1829', '13950', '7758', '1430', '3303', '2437', '240,6', '2268', '1840', '425,4', '7999', '10325', '1753', '422,1', '2698,89', '2834', '52000', '7900', '2481', '6239', '571,3', '1890', '2514', '14786', '1100,2', '35800', '4190', '2105', '3762', '6257,7', '5811', '981', '3454', '567,3', '16100', '2464', '431', '23700', '11050', '5056', '4498,5', '35100', '4712', '41830', '2099', '2330', '3750', '11440', '876', '2063', '4150', '3710', '323', '3812,6', '1007', '1845', '4420', '3359', '11150', '576', '1686', '1784,81', '4401', '1440', '998', '1276,8', '3416', '2846', '4746', '29000', '1039', '456', '1490', '10507', '827', '676', '948', '3602', '10795', '1399,8', '14420', '1260', '54230', '18290', '1500,92', '1899,8', '1382', '8640', '2649,3', '2725,68', '4274', '7845', '6350', '2008', '3984', '1498', '1786,9', '798', '3598', '7800', '16293', '5800', '24800', '6174', '5540', '26358', '1979', '746', '9835', '19958', '736', '1924', '489,86', '4980,91', '1188', '261', '2843', '9114,9', '19400', '8300', '7659,01', '1999,8', '4887', '241', '10650', '7259', '7600', '705', '285', '1896', '2019', '1253', '3096', '3216', '2079', '23000', '1126', '4770', '1482', '2036', '4095', '675,3', '2239', '1029,41', '10000', '1080', '1013', '223', '6670', '9110', '859', '9650', '523,83', '1820,94', '44000', '23950', '4893', '1161', '0,92', '7137', '19980', '317', '7989', '4013', '1489', '4104', '3420', '4752', '508,5', '6499', '10486', '3970', '334', '1975', '4630', '11170', '635', '9964', '1392', '5978', '8400', '12334', '1224,75', '404', '1318', '1075', '7514', '4993', '2796', '327', '6919,2', '1385', '7569', '4268,72', '4775', '1876', '646,5', '21696', '643', '9020', '5753', '1439', '41760', '1169', '1190,95', '3245', '15140', '1600,92', '25131,59', '2412', '6995,92', '2077', '1233,2', '1374,88', '6948', '599,95', '3160', '5718', '890', '877', '16657', '10673', '3562,94', '776', '5814', '8870', '2815', '1150', '5022', '10100', '2230', '2828', '4018', '8499', '2578', '6470', '1677,1', '1015', '2307', '1999,2', '1980', '448,5', '17930', '2094', '3544', '883', '2598', '639', '26550', '11754', '1956,37', '7519,6', '6365', '10136', '858', '15200', '3297', '3084', '627,4', '2288', '2467', '7506', '1777,91', '5108', '15009', '5576', '1154', '249', '331', '3799', '902', '855,9', '997', '9922', '5160', '1574', '1281', '6002', '5870', '448,9', '1273', '7271', '2079,02', '393', '10759', '5894', '680', '690,95', '2380', '4340', '0,95', '4033,93', '2997', '399', '404,1', '3503', '8941', '413', '1064,2', '755', '1966', '338', '5340', '2180', '18588', '670', '1608', '930', '5940', '872', '2397', '2998,5', '1509', '1788', '3000,4', '4475', '749', '1306', '6699', '2505', '2938', '2895', '970', '3650,1', '8059', '2076', '5750', '15939', '899', '1813', '4318', '6555', '2355', '2995', '2257,11', '673,91', '13660', '2490,95', '9874', '906', '6230', '282', '210', '6410', '9058', '1203', '471', '758', '3119', '4989,92', '1176', '231', '3575', '1475', '2287', '10425', '5631', '558', '32750', '7531', '14600', '11700', '1068', '2596', '1952', '6554', '0,9', '6370', '1216', '987', '2121', '2200,91', '3116', '5050', '11199', '56680', '9444', '4328', '5194', '20644', '57300', '3699', '950', '1598', '529', '70940', '1807', '520', '434', '2228', '8130', '1500,95', '4052', '1415', '367', '5780', '4798', '8680', '1030', '5244', '2904,2', '2769', '2177', '1207', '4214', '1026', '7325', '2840', '963', '1899,9', '415', '2990', '485,8', '3440', '4742', '1314', '5942', '1297', '9272', '1034', '928', '13060', '2173', '2068', '9264', '500,95', '1553', '363,5', '5989', '1657', '2506', '814,2', '1700,95', '1000,4', '14427', '6092', '677,5', '120', '177', '2151', '6950', '229,5', '740', '913', '1023', '10200', '503', '4869', '3108', '4167', '947', '6000,47', '6000,92', '38800', '10752', '1084', '3224', '12300', '2700', '10347', '4697', '11660', '2172', '3470', '18400', '5440', '1914', '5330', '720', '6509', '3137,9', '479,8', '3610', '254', '3520', '10630', '620', '11898', '2152', '631', '1876,25', '3485', '5670', '4806', '4708', '8491', '1759', '9770', '16425', '4138', '3810', '695', '6307', '8695', '2241', '140', '564', '2343', '5055', '4619', '3874', '3000,91', '5480', '6999', '640', '1070', '1065', '665,5', '673', '3880', '9250', '781', '1196', '75570', '14221', '5744,5', '4003', '3115', '3228', '1995', '6437', '6380', '366', '440,1', '12044', '39400', '3550', '5385', '3270', '10000,1', '1827', '633', '1547', '6907', '4014', '1444', '8244', '1076', '2175', '488', '885', '2486', '7120', '16050', '2135', '5306', '4767,2', '60360', '2497', '597', '1925', '1466', '4000', '669,3', '3138', '2745', '10933', '1369', '6499,2', '2650,92', '3293', '1921', '1543,5', '4846,96', '2798', '6310', '20196', '2051', '4071', '2848', '9730', '4395', '1131', '4587', '8750', '4157', '444,1', '13807', '1796,94', '1680', '9592', '2232', '1168', '2055', '1780', '3339', '2000,79', '469', '2522', '2803', '3155', '7312', '1362', '4155', '1512,1', '818', '717,1', '1450', '515', '3433,2', '2890', '2259', '685', '10500', '681', '1808', '9568', '3142', '1000,5', '43359', '1321,5', '1350', '20890', '11890', '305,1', '2516', '692', '13184', '13539', '974', '611', '13670', '4551', '56328', '648', '5260', '1472', '3333', '464', '1691,6', '2790', '3595', '28500', '9418', '3350', '1335', '1405', '2088', '583', '5148', '1226', '2327', '7477', '3840', '669', '3774', '1563', '5571', '540', '788', '2852', '4403', '857', '2235', '7174,56', '2560', '4287', '556,2', '735', '528,5', '1654', '4275,2', '30412', '4200', '2200,4', '8201', '8731,48', '10026', '98,1', '6486', '3277,5', '8421', '19355', '6157', '708,5', '2248,1', '4559', '4996', '36220', '1824', '6115', '653', '1540,84', '11078', '10205,5', '6371', '28495', '7170', '1436', '1242', '7040,2', '392', '7148,1', '16500', '10502', '1016', '2466', '1616,47', '4820', '1435', '39910', '6544', '1243', '2275', '7080', '4536', '688', '2720', '1360,92', '4263', '2031', '538', '1548', '3282', '4166', '5025', '3270,7', '1725', '1964', '500,3', '3630', '1397', '848', '2518', '19430', '539', '4098', '5900', '7524', '762', '1285', '8040', '2855', '1800,2', '4439', '732', '531', '726', '606,2', '1660', '3337', '9576', '427', '2765', '2020', '786', '140000', '10603', '9904', '265', '1706', '2026', '5031', '5745', '3187,74', '613', '8117', '4330', '7550', '1177', '2981', '10239', '901', '4882', '1702', '2170', '323,25', '4352,37', '3621,7', '3950', '1539', '3208', '10255', '3480', '2472,5', '3318,4', '3', '1960', '436', '5021', '5578', '1375', '891', '13140', '2588', '2597', '9532', '4055', '26802', '357,8', '75500', '1847', '7820', '672', '7300', '4113', '2149', '1071', '6750', '4000,92', '44963', '44305', '6840', '1700', '2200,05', '5168', '2770', '1568', '11076', '13526', '47350', '5463', '46300', '337,1', '6317', '2567', '3500,03', '1789', '59400', '29590', '1699', '570', '2751', '14935', '10960', '20865', '468', '26400', '19924', '16400', '2059', '3690', '2729', '227,5', '1961', '4949', '1422', '737', '1255,41', '2515', '9528', '6325', '4759,6', '1769', '1948,2', '4199', '2299,8', '9630', '35500', '13000', '34923', '5366', '10800', '1000,67', '5033', '575', '3559', '53370', '3039', '47355', '38650', '4499', '1698', '5045', '1224', '3590', '758,3', '2455', '7582', '1057', '1806', '7670', '3670,2', '1340', '9992', '2947', '1900,94', '10850', '861', '1645', '1912', '3850', '4040', '1324,96', '3045', '4267', '5660', '9685', '2477', '13290', '34676,51', '8065', '1398,9', '1710,1', '1341', '475', '358', '2006', '5761', '1300,4', '1781', '1738,2', '3462', '17610', '1342', '6680', '100000', '1403', '6650', '18589', '530', '1915', '3294', '22799,2', '1519', '757,7', '509', '615', '5393', '3390', '37000', '1580', '7805', '3266', '4185', '1544', '1866', '50000', '3872', '350', '6748', '3957', '11580', '7995', '3675', '1457', '4617', '4694', '1997', '7400', '2199', '580', '3145', '20550', '3439', '3606', '3990', '13300', '687', '8650,48', '7385', '9425', '7180', '75606', '2114', '269', '2017', '2253', '2042', '10525', '1479', '6929', '8816', '810,1', '1605', '5974,22', '238', '27000', '5075,84', '6717', '773', '14455', '4686', '2901,6', '6000', '4917', '590', '2877', '728,92', '1540', '5704', '477,5', '4011', '2053', '6795', '5097', '9039', '3924', '1170', '528', '7720', '1050,92', '5000,95', '2749', '5802', '5746', '8110', '1465', '2106', '512', '1750', '2970', '4086', '2270', '11000', '8349', '1442', '8008', '13750', '2869,9', '2159', '2383', '10340', '249,3', '1093,4', '2818', '1090', '2586', '4400', '9016', '4788', '15675', '2420', '3780', '4931,6', '18447,2', '3092', '44500', '7780', '5342,94', '9235', '46500', '1454', '2776', '6094', '2001', '2357', '7902', '738,8', '14440', '2728', '10700', '7749', '239', '4828,2', '2617', '1259', '36730', '380', '10260', '6481,31', '3300', '4560', '1865', '4053', '3098,88', '7589', '2473', '6570', '2807', '4132', '1722', '3257,04', '2740', '3214', '2569', '2283', '18735', '347,6', '509,3', '502', '7000', '7961,49', '2025', '1147', '21000', '3975', '410', '11962', '3530', '1222', '571,5', '9270', '656', '2000,85', '4353', '1863', '706', '2096', '4000,61', '816', '358,1', '5226,9', '5450', '5786', '8700', '1688', '4315', '458,4', '979', '1933', '815', '4300', '778', '2176,49', '3946', '4350', '3782', '7174,87', '4953', '12189,9', '1820', '1167', '1224,15', '5044', '1755', '10060', '2613', '6513', '1599', '1087', '5150', '1077', '56638', '1004', '43200', '8222', '722', '2864', '1305', '2299', '9419', '5000,2', '1650,3', '789', '2602,3', '2156', '391,2', '1443', '14179', '3636', '2019,95', '150', '2300', '5451', '1647', '8000', '3171', '1458', '1063', '694,2', '616', '13500', '7528', '20300', '741', '4750', '4239', '1881', '5726,3', '4090', '8650', '1474,3', '330', '2575', '1581', '6007', '717,2', '1843', '1106', '10089', '1236', '4865', '1012', '711', '1417', '1251', '3150', '2213', '7142', '25300', '4048', '3356', '1525', '1636', '3033', '15900'}\n",
      "\n",
      "LOAN_AVG_DLQ_AMT\n",
      "{'1052,63', '2549,52', '1615', '1909,16', '1987,565', '2296,35', '1279,91', '6200', '1798,49', '2112,17', '3660', '3400', '1100', '3340', '1875,70333333333', '2610', '2128,74', '95,09', '2189,99', '917,651666666667', '2991,39', '779,415', '1544,95', '800', '837,48', '789,23', '1259,39', '1758,25', '1253,34', '1986,35', '1589,92333333333', '600,93', '2659,95', '1400', '829,393333333333', '2627,58666666667', '2619,25', '850', '1270', '2186,585', '3716,35', '1309,89', '2002,45', '1120', '816,3', '2701,5', '4690', '997,13', '2569,05', '588,13', '1408,73', '991,79', '2150', '1108,574', '942,17', '2499,775', '1850,24', '5048,19', '1220', '2547,85', '2386,505', '2470', '2605', '2816,25', '1068,32', '2520', '3110', '1300', '2755,21', '4635', '1321,59', '1241,32428571429', '949,89', '2853,18333333333', '2563,29', '1506,39', '1880', '1788,46', '1498,2', '509,52', '1740', '763,185', '1739,88', '1093,75', '2060', '755,063333333333', '1885,265', '3011,18', '3510', '4370', '950,888', '2151,50333333333', '837,74', '1639,94', '1601,63', '673,6825', '3940', '1071,75', '683,9975', '1920', '7840', '3237,94', '801,8', '3018,275', '1686,92', '2160', '1054,5', '804,32', '3358,58', '1640', '1060', '1970,52', '2429,09', '1098,8', '2340', '1112,57', '1587,06', '366,58', '1259,71333333333', '1188,46', '5070', '1747,33', '1168,63', '1570', '5075,99', '4210', '1147,5', '630,8', '4060', '1283,89', '49,35', '2158,72', '2440', '1829,73', '1942,72', '964,516666666667', '1068,47', '2409,01', '2940,81', '1072,752', '4834,28', '988,44', '1330,41', '940', '1175,57', '84,07', '2750,86', '698', '2640', '6647,97', '1514,45833333333', '2880', '753', '868,01', '957,46', '1263', '842,15', '71,71', '3540', '2554,005', '1289,105', '2108,71', '859,84', '1661,74666666667', '812,693333333333', '1780,28', '2660', '5149,95', '2510,2', '2120', '5180', '2100', '1211,17', '2310', '855,675', '2368,84', '4956,4', '3490', '1258,585', '1429,97', '904,08', '1697,22', '1050', '1830', '59,68', '1145,85', '1179,89', '1098,1', '918,55', '3060', '674,263333333333', '859,9325', '451,06', '3889,696', '3762,5', '2850', '3200', '1130,63', '1736,4', '1500', '502,2', '1949,8', '1317,06', '891,95', '4884,95', '1221,8', '4830', '2379,46', '1532,04', '340', '2670,02', '2232,28333333333', '1113,74', '526,43', '1595,575', '1088,05', '2493,97', '1352,85714285714', '1317,32', '1896,34', '2830', '145,92', '641,04', '1950', '1111,4', '886,26', '5872,64', '2051,5', '812,11', '455,59', '975', '871,07', '1922,69', '6133,41', '1418,86', '782,21', '966,53', '821,45', '11460', '370,77', '1441,57', '2247,51', '1094,09', '567,16', '2870', '1781,225', '1120,93', '848,45', '2282,89', '2185', '1954,4', '2262,73', '3075,82', '411,43', '2630', '6689,82', '1339,99', '1040', '619,73', '1832,91', '716,33', '1776,96666666667', '1268,44', '198,88', '3255', '3202,2', '1000', '1310', '855', '1870', '5170', '1165,25', '457,71', '1391,47', '970,155', '367,35', '1252,67', '2710', '3720', '3310', '510', '1610', '1477,37', '1804,9', '1581,82', '3870', '2290', '1288,7', '753,68', '2702,4', '1210', '1097,62', '1591,94', '3279,56', '1139,49', '990', '3120', '5650', '4158,85', '790', '1233,33', '3201,95', '1098,64', '3223,09', '650', '2157,32', '697,72', '2961', '1055,71', '3250', '1107,5', '38,32', '596,16', '28012,2', '3130', '986,606666666667', '1206,745', '314,76', '7510', '4680', '4055,03', '678,2', '730', '510,136666666667', '4450', '2670', '5100', '2925', '2350', '7620', '3620', '896,1', '770', '2210', '4070', '705,6', '1130', '1144,98', '603,55', '1965,32', '2466,8625', '1135', '2217,22333333333', '1168,565', '1077,605', '1659,576', '1439,815', '407,8', '3960', '849,085', '726,57', '472,11', '664,94', '1389,63', '1234,7375', '212,25', '1237,24', '2690', '2769,82', '1006,59', '2864,92', '2707,64', '2260', '4159,78', '4840', '2758', '1033,905', '1817,57', '1600,26', '1370', '1159,18', '625', '486,895', '3600', '657,95', '1360', '1878,86', '2920', '874,31', '1020,7725', '612,524', '860,22', '1940', '3040', '3387,85', '600', '1296,4', '310,126', '824,02', '4112,53', '1552,325', '320', '598,5', '2910,25', '4508,2', '710', '1063,17', '1359,6', '1248,56', '3339,71', '2140', '4893,17', '1312,44', '553', '1410', '94,89', '482,28', '4510', '1549', '3959', '1512', '1311,85', '1175,566', '1007,8', '1313,33333333333', '462,915', '4660,495', '870', '1325', '2088,64', '43,3', '769,43', '947,285', '2579,43', '1615,22', '5140', '2860', '2323,025', '1320', '2293,65', '3316,8675', '3090', '2530', '2090', '1520', '5560', '1826,86', '963,12', '1426,72', '1190', '1563,45', '1258,69', '1789,04', '1373,87', '9280', '1002,22', '3668,79333333333', '2706,39', '4640', '630,49', '1993,59', '1256,635', '2015', '3155,89333333333', '2081,36', '3460', '818,81', '2575,71428571429', '1594,914', '1439,9', '1200', '2751,25', '810', '715,54', '1519,72', '1769,1975', '2258,3', '14870', '2184,66', '1716,52', '1010', '2361,22', '342,02', '2050', '979,63', '1683,49', '2460', '2477,64', '780,75', '912,41', '3659,0625', '549,88', '980,25', '3280', '2739,76', '580,49', '3539,82', '2781,08', '5430', '962,655', '1636,04', '1881,26', '1095,61', '1899,1', '794,5', '1892,238', '2280', '670,085', '1380', '3170', '3315', '3230', '4310', '2080', '750', '2704,02', '440,63625', '1004,8', '682,56', '739,93', '5830', '2570', '543,33', '3089,155', '2809,87', '3283,1', '4710', '714', '1510', '2082,47857142857', '1065,62', '658,84', '2135,75', '860', '1238,855', '224,59', '3086,66666666667', '760', '1101,1', '2388,505', '727,79', '1423,33333333333', '898,77', '1498,26', '879', '2950', '2219,93571428571', '2070', '1606,5', '2656,68', '1042,41', '840', '1915,35', '2410', '2066,905', '1136,86', '2620', '988,85', '567,51', '1022,67', '1073,54', '3111,3', '1966,99', '1832,78', '1127,63', '477', '1067,73', '532,24', '700', '5320', '3355,19', '1542,42', '1560', '3769,3625', '4290', '1102,7', '1145,21', '870,69', '816,83', '804,89', '450', '2262,12', '2858,6', '2650', '859,1', '7100', '3860,18', '820', '280', '1414,34', '2127,1', '481,506', '717,9', '682', '1033', '524,6', '2088,86', '1180,87', '240', '2237,245', '95,79', '3910', '3172,83', '187,35', '5974,67', '4758,14', '1007,36', '819,3', '1250', '215,55', '284,02', '4050', '856,64', '1344,33', '3570', '1290', '1413,765', '2450', '880,74', '110,91', '811,49', '5698,46', '2390', '1119,93', '1317,88333333333', '979,89', '1307,99', '2349,51', '1957,21', '524,82', '1010,43', '2852,74', '1480', '908,78', '762,93', '3509,805', '4600', '857,956666666667', '2590', '998,968', '1768,07', '1020', '7280', '289,02', '1681,62666666667', '2425', '1810,155', '3140', '653,293333333333', '1247,92', '3500', '1259,1', '5047,5', '859,73', '750,175', '658,42', '757,75', '1097,86', '1209,47', '3099,42', '1731,06', '517,51', '2265,01', '4220', '3191,75', '7763,74', '1171,65', '1616', '2391,38', '1022,204', '830', '658,18', '1814,93', '1134,525', '4376,4', '702,565', '3821,44', '3260', '5752,98', '2240,34', '5300', '1574,25', '550,83', '719,25', '951,12', '1155,02142857143', '1063,58666666667', '3210', '2600', '7530', '1880,59', '1599,9', '3320', '980', '869,45', '1179,394', '2409,2', '1849,496', '1817,76', '586,501428571429', '579,94', '1274,99', '1460', '542', '1894,04', '2110', '1671,7', '370', '1630,344', '560', '1810', '2365', '1287,35', '1535,89', '1286,73', '4119,97', '799,16', '2006,83', '3900', '758,68', '1142,83', '619,4', '1319,56', '988,5025', '976,68', '2010', '2101,256', '1508,79', '669,12', '2144,77', '749,82', '951', '1342,58', '1373,99333333333', '2146,66666666667', '732,62', '1233,309', '861,56', '840,7', '3024', '2157,89', '903,66', '1459,99', '1045', '569,121428571429', '1113,335', '1415,2', '2044,155', '1630', '1861,6', '918,7', '550', '2320', '1402,43', '1456,85', '7450', '1240,46', '177,34', '2490', '1869,795', '2217,25', '5110', '1197,38333333333', '796,59', '1314,58666666667', '1433,4', '3768,7', '2142,2', '1645,64', '929,51', '1403,64', '4850,2', '911,793333333333', '1774,5175', '3875', '1459,385', '1260,55', '2188,21', '863,68', '2792,33', '1119,27', '3102,49333333333', '7010', '4056,11', '4100', '1582,435', '724,38', '1388,83769230769', '647,42', '534', '554,36', '3231,88', '1590', '2140,36', '1017,28', '1930', '1239,08', '2220', '429,11', '2980', '752,923076923077', '3580', '1731,7', '1539,13', '758,95', '2250,56', '6360', '1850', '991,19', '1507,48', '2939,536', '806,19', '2168,26', '300', '4180', '604,353333333333', '1243,83', '3020', '1193,9675', '535,53', '761,74', '444', '1390', '1299,55', '1164,99666666667', '727,63', '969,59', '1674,3', '983,28', '2315,64857142857', '1833,77', '1478,49', '1314,11', '0,71', '1439,94', '1208,09', '4729,07', '2200', '1608,255', '799,09', '1382,67', '4030', '1140', '2273,72', '1509,44', '695,39', '2464,55', '1070,05', '3119,99', '2940', '1091,55', '666,41', '2679,82', '1420', '1145,38', '6160', '1200,99', '2680', '830,53', '3410', '1959,42', '1154,34', '5030', '1199,54', '1176,82', '651,16', '1021,13', '1110', '2786,89', '91,27', '1132,64', '777,84', '87,39', '1244,53', '866', '543,17', '1993,245', '3050', '4530', '2359,898', '894,29', '1215', '2608,17142857143', '1103,19', '1365', '2272,5', '2247,08', '768,97', '836,6', '702,23', '1990', '846,55', '1991,725', '2500', '533', '582,386666666667', '1197,24875', '1600,0925', '2323,55', '776,3', '920,175', '437,26', '813,335', '2340,06777777778', '2780', '1020,63', '880', '2360', '1848,05', '2081,78', '1180', '425,97', '1045,89', '1986,88', '433,306666666667', '5510', '1662,1', '568,7', '1159,06', '1173,46', '1217,36', '8020', '4320', '1010,27', '3589,09', '981,71', '1230', '1007,63', '564,93', '779,82', '15110', '1375,39', '1792,71', '455,32', '2240', '1093,22', '1116,49', '1386,115', '1606,38', '909,424285714286', '2760', '978,13', '1724,15333333333', '690', '917,57', '3103,84', '756,453333333333', '1304,722', '1626', '1985,3', '2794,22333333333', '910', '1492,404', '1269,16', '1573,30428571429', '2394,45', '1099,54', '1324,41285714286', '2930', '518,9', '3800', '1169,82', '1528,832', '2031,34333333333', '1181,51', '3240', '7340', '1875,75', '2779,4', '862,43', '1053', '1570,46', '2119,5625', '1775,46', '1980,6', '270', '1719,72', '866,59', '3030', '578,06', '1953,6', '3651,445', '2265', '1167,98', '2730', '4115,33333333333', '183,48', '1650', '6390', '1920,9575', '3890', '948,58', '1398,58', '920', '1068,76', '721,151428571429', '1049,42666666667', '3100', '1264,23', '1793,66', '896,31', '1029,75', '4164,34', '6540', '4240', '5420', '1347,12', '6260', '9840', '1790', '2068,56', '6130', '1537,71', '1088,48', '1120,19', '598,396666666667', '2598,9', '1287,132', '5760', '586,646666666667', '2959', '1138,2', '6080', '2430', '677,474', '3180', '1154,905', '1149,395', '865,05', '586', '849,91', '1800', '5550', '1269,372', '1269,82', '1867,66166666667', '1706,318', '2178', '1600', '2201,11', '4565', '2441,4', '2130', '5603,82', '2796,66', '642,31', '2810', '1195,3', '1924,4', '581,15', '664,42', '1739,33', '233,335', '1235,4', '1831,51333333333', '1740,19', '3303,2', '310', '769,915', '775,86', '660,6', '966,07', '5410', '1040,5', '2509,38', '3640', '1127,76', '1678,99', '678,18', '3820', '3920', '2900', '526,563333333333', '2992,64', '1684,42', '3770', '4700', '1187,565', '9530,91', '766,26', '4136,07', '5428,62', '1002,60333333333', '4260', '782,705', '1677,48', '3309,87', '5090', '5401,67', '2060,782', '4020', '930,4', '4084,07', '13920', '324,16', '1913,31', '984,79', '821,93', '2480', '2568,45', '1149,495', '1470', '290,82', '2910', '666,86', '669,48', '5500', '1555,00090909091', '1340,16', '818,74', '880,2', '918,255', '2629,87', '1300,386', '639,11', '599,485', '831,2', '1258,95', '6041,86', '3377,57', '1108,96333333333', '2585', '1839,85', '1059,47', '451,495', '376,08', '660', '767,7', '882,01', '3760', '1297,36333333333', '6490', '413,145', '947,57', '568,75', '665,57', '1222,06', '1094,85', '1036,336', '2550', '1675,345', '2094,3', '1760', '4570', '2473,45', '4399', '1255,21', '3235,24', '2005,15', '1077,03', '1206,51', '470', '630', '3000', '4515,81', '101,52', '1412,55', '1082,9', '805,73', '3768,74', '2119,77', '460', '516,18', '2647,9', '1684,04', '695,59', '1670', '758,15', '5545,0225', '3637,43', '2013,19', '3828,09666666667', '3430', '3231,2', '3433,42', '1553,31625', '1209,27', '978,56', '1830,2', '433,3425', '1771,33', '699,99', '3626,91', '1411,31', '1427,295', '989,15', '826,64', '1634,81', '1896,24', '3755,32', '1335,47', '14970', '2406,8', '1309,43', '778,07', '1369,755', '6938,27', '446,31', '4269,94', '1751,37', '1647,97888888889', '656,705', '2352,78', '5850', '1371,86', '6591,48', '662,13', '2590,15', '1270,16', '1230,63', '1795', '588,9', '560,86', '1605,95', '1355,12', '3376,515', '1056,95', '3506,07', '1191,604', '2252,24', '1330', '1205,4725', '954,65', '965,1', '1296,74', '1191,65', '1892,28', '1245,94', '1476,6', '887,79', '1006,29666666667', '1649,37', '3749,07', '3190', '2510', '610,986666666667', '1707,5', '1629,58', '1639,99', '610', '768,11', '4160', '709,96', '1860', '731,72', '3680', '3010', '865,1', '480', '2538', '1900', '3279,705', '430', '1209,5', '2599,29', '845', '859,92', '1424,26', '1443,3', '3382,31333333333', '854,47', '2028,702', '265,55', '440', '1329,54', '4827,666', '2957,71', '1970', '4001,34', '1881,83', '339,83', '613,25', '1141,06', '1620', '1529,06', '1280', '791,98', '4650', '1240', '2441,465', '4380', '3127,19', '1879,28', '673,02', '1710', '1317,4', '548,523333333333', '860,505', '1109,855', '2597,78', '2166,82', '1561,95333333333', '1845,5', '2573,8', '2154,02', '390', '4550', '1160', '502,1', '1961,35', '5397,15', '1276,66666666667', '1266,34', '1069,6', '963,96', '767,566', '100', '798,53', '2800', '1910', '560,36', '1730', '2122,45', '1113,17', '1583,15', '1136,6', '11310', '1930,595', '2699,88', '6070', '748,93', '2540', '1377,5275', '2149,94', '1598,01', '4390', '1717,47333333333', '3782,39', '1626,75', '1671,33', '1550', '2030', '360', '652,36', '10640', '429,24', '1283,93', '1251,35', '2326,81', '5269,78', '1288,898', '1181,13', '605,496', '4620', '960', '478,13', '1405,53', '699,78', '1778,635', '2084,32', '3365,305', '4920', '1733,88', '1692,49', '1770', '1639,24571428571', '2725', '1399,25', '1158,1', '1889,43', '5040', '2820', '490', '3080', '2419,9', '1039,36', '761,866666666667', '1408,87', '3360', '355,04', '4610', '1530', '1232,78', '327,98', '758,82', '1402,2', '2559,89666666667', '2343,41', '3702,8', '3220', '806,93', '3691,2675', '1155,125', '7490', '3635,77', '839,79', '1275,785', '901,64', '746,57', '6500', '1405,09', '552,57', '3248,28', '892,18', '2139,63375', '2370', '949,15', '1504,79', '1766,2', '6550', '2040', '1160,96', '2400', '2423,54', '797,135', '900', '1325,63', '1690', '1844,885', '980,42', '4660', '3415,66666666667', '509,533333333333', '802,36', '695,06', '1410,53333333333', '9060', '2524,28', '500', '327,675', '997,65', '760,65', '2462,1', '1304,0625', '3730', '3594,45', '3330', '4940', '5370', '651,625', '2750', '780', '668,53', '1066,005', '1094', '1720', '18307,16', '0', '846,74', '1112', '4250', '921,58', '2112,57', '2070,52', '1144,03', '2979,31', '3670', '3501,45', '2192,0875', '2445,93', '2190', '2580', '2009', '1355,87', '1374,28', '2960', '2354,29', '663,05', '1495', '3209,5', '2250', '2000', '1525,885', '400', '3055,72', '684,89', '1430', '1074,52', '1407,725', '1387,15', '958,76', '1840', '988,62', '1196,17', '978,55', '1338,69', '929,39', '1890', '1851,55', '4190', '2370,01', '2105', '1180,48', '740,575', '2259,35', '1838,56428571429', '2592,5', '1985,528', '2330', '3750', '717,87', '1939,61', '4420', '676,85', '3964,85', '2676,2125', '1440', '910,13', '115,65', '1490', '2059,46', '1095,89', '1199,27', '2418,306', '134,78', '1260', '913,4975', '1479,11', '1918,79', '2974,37666666667', '712,179', '2202,69', '1085,53', '1459,34', '1429,99', '2989,98', '1658,42', '4120', '631,68', '701,32', '1655,63', '1068,72', '1742,41', '3037,58', '1128,64', '4810', '2979,57', '1367,735', '4770', '4026,63', '438,19', '1080', '1130,785', '3420', '315,796666666667', '3970', '1899,7', '756,84', '778,32', '4630', '1258,49', '1932,5', '3783,78', '51,8', '1489,13', '849,19', '3106,29', '1198,15', '3160', '890', '1040,78666666667', '591,935', '410,39', '1516,872', '1150', '6740', '2230', '3070', '2178,925', '1015', '1152,15', '1980', '820,124', '937,405', '5757,9', '997,89', '661,46', '1563,61', '2497,09', '1047,32', '1675,75', '861,03', '5160', '813,305', '5870', '4472,91333333333', '3752,455', '680', '2380', '4340', '2365,47', '336,9925', '2180', '670', '1538,69', '930', '1155,06', '791,56', '2289,48', '1010,55', '1666,28', '4617,935', '5526,72666666667', '2018,255', '970', '1496,3275', '1663,27', '1070,52', '3870,25', '3777,93333333333', '63,31', '839,88', '2446,5', '2090,53', '746,74', '828,64', '5394,29', '1248,27', '1386,96', '1152,89', '5050', '776,59', '1547,02', '950', '520', '604,43', '1411,835', '367', '1447,67333333333', '5780', '872,065', '1030', '823,54', '1573,35', '2840', '715,3', '2990', '1023,66', '2070,42', '3440', '944,93', '3914,24', '576,324', '763,3', '183,13', '2467,33', '1085,5', '740', '2008,01', '2097,97333333333', '7790', '2935,02', '2700', '2010,03', '578,3', '3470', '720', '869,26', '54,58', '2429,5', '2276,54666666667', '3610', '1402,92', '3520', '620', '1097,55', '2252,3', '1706,3', '631', '910,826666666667', '879,74', '3810', '4559,26', '758,96', '606,55', '5108,38', '3101,73', '1597,92', '640', '1070', '3880', '4296,29333333333', '1995', '599,19', '1321,68833333333', '3550', '2447,225', '37,5', '9239,69', '1999,19', '2175', '1305,97', '628,94', '4000', '528,15', '3138', '2668,07', '2261,19', '6310', '136,76', '1467,05', '62,46', '2268,41857142857', '2840,62', '1680', '1780', '1215,45777777778', '1999,73', '2079,37', '1450', '704,93', '2890', '4760', '526,94', '1072,34', '1350', '1593,76', '68,77', '4890', '957,4', '2473,645', '2492,54', '1727,62', '2790', '824,581428571429', '1574,6', '3350', '3971,6', '1437,01', '4445,6', '3840', '540', '3509,22', '2263,18', '2560', '735', '497,62', '2732,2', '4200', '3033,41', '990,85', '2476,77', '1468,38', '756,1', '722,59', '1288,63', '1905,8', '1004,225', '1931,44', '2287,02', '728,49', '1272,81', '3860', '1140,2', '2163,94', '4820', '892,95', '1679,2', '2720', '957,59', '3630', '2451,54333333333', '7369,77', '5900', '959,955', '4140', '2707,25', '964,69', '3013,9', '1660', '2020', '1713,74', '831,23', '1182,23', '706,48', '809,42', '1226,25', '1179,86', '3072,475', '1745,7', '2651,68', '875,09', '605,32', '1272,72', '767,53', '2877,745', '596,29', '2158,2775', '2399,55', '2170', '3950', '820,87', '1026,8175', '613,21', '3480', '1114,57', '648,68', '1960', '2235,225', '3165,46', '1459,54666666667', '6750', '14990', '830,7', '1700', '3863,72', '2770', '7060', '2132,88', '570', '1614,36', '4574,85', '531,65', '2701,26', '2916,18', '2269,565', '1409,965', '845,55', '1012,02', '3428,56', '872,81', '1180,16666666667', '1032,06', '772,73', '3590', '4230,185', '1749,69', '7670', '1259,43', '825,10875', '1340', '2372,77', '1003,255', '2676,24', '827,57', '690,99', '1348,68', '216,59', '2690,33333333333', '989,39', '3850', '865,03', '1948,62', '2503,19', '558,06625', '1424,9175', '1196,43', '1221,92', '620,75', '1609,47', '6650', '530', '3464,88', '1616,1825', '3390', '1580', '2518,18', '762,16', '613,12', '5076,65', '350', '2303,11666666667', '580', '3990', '1171,686', '616,06', '2779,29', '2923,96', '1095,88', '2239,37', '1761,03', '946,49', '590', '1540', '2736,28', '1170', '1160,21', '499,69', '386,666666666667', '2742,25', '559,94', '2263,2', '2970', '1750', '410,6', '2270', '1457,52', '1090,8', '1066,605', '2083', '1090', '4400', '3780', '1549,18', '983,45', '1180,53', '7780', '1091,2', '1134,58', '687,11', '2482,72', '380', '957,63', '6532,49', '696,97', '862,5', '1292,59', '3300', '4560', '0,98', '2043,665', '2740', '501,305', '1539,2', '4387,48', '2025', '2782,89', '1628,45', '966,953333333333', '3530', '2920,45', '6660', '574,21', '1221,24', '4300', '0,04', '4350', '1820', '3639,91', '635,53', '2269,735', '1883,04', '9453,33333333333', '836,79', '1546,55', '2685,68', '6180', '2300', '1841,9', '5577,92', '2804,46', '3322,7775', '1276,7', '698,26', '4090', '42,52', '5570', '330', '2575', '2712,72', '609,4925', '269,51', '1274,59', '3150', '3752,02', '1959,99', '1670,18', '2430,38', '673,89', '1303,04', '875,2', '805,86'}\n",
      "\n",
      "LOAN_MAX_DLQ_AMT\n",
      "{'1052,63', '852,48', '2549,52', '1615', '1909,16', '1527,19', '2296,35', '6200', '1798,49', '2112,17', '3660', '3400', '489,13', '1100', '3340', '2131,91', '2610', '95,09', '2189,99', '2991,39', '3018,62', '1544,95', '800', '837,48', '918,28', '1259,39', '789,23', '1253,34', '600,93', '2659,95', '1400', '2619,25', '850', '1270', '3716,35', '1309,89', '1241,71', '2693,8', '2002,45', '1120', '816,3', '4690', '997,13', '2569,05', '588,13', '1619,63', '1408,73', '7890', '623,69', '2150', '1850,24', '5048,19', '1220', '2547,85', '2470', '2605', '2816,25', '1068,32', '2520', '3110', '1300', '2755,21', '2539,91', '1321,59', '2902,89', '949,89', '2563,29', '1506,39', '1930,47', '1880', '1788,46', '1498,2', '1740', '2319,2', '1739,88', '1093,75', '2060', '3011,18', '3510', '4370', '837,74', '1639,94', '1601,63', '1177,84', '3940', '1071,75', '1920', '7840', '3237,94', '801,8', '1686,92', '1054,5', '2160', '804,32', '1046,01', '1640', '1060', '1970,52', '2429,09', '1098,8', '2340', '1112,57', '366,58', '5070', '1747,33', '943,56', '1168,63', '2890,47', '1570', '5075,99', '4210', '630,8', '4060', '49,35', '2158,72', '2440', '1942,72', '1068,47', '2409,01', '1363,79', '2940,81', '4834,28', '988,44', '1330,41', '940', '1175,57', '84,07', '2750,86', '698', '755,76', '2640', '1177,52', '6647,97', '2880', '868,01', '1263', '842,15', '71,71', '3540', '910,63', '1780,28', '2660', '18310', '5149,95', '2510,2', '2120', '5180', '2100', '2310', '2368,84', '4956,4', '3490', '1429,97', '904,08', '1697,22', '1050', '1830', '59,68', '1145,85', '1179,89', '1098,1', '918,55', '776,6', '1819,09', '3060', '826,77', '451,06', '3762,5', '2850', '3200', '1130,63', '1736,4', '2969,75', '1500', '502,2', '1949,8', '1317,06', '891,95', '4884,95', '1221,8', '4830', '2379,46', '1532,04', '340', '2670,02', '1113,74', '1860,72', '526,43', '1088,05', '2493,97', '1317,32', '1896,34', '2830', '145,92', '641,04', '1950', '1111,4', '886,26', '5872,64', '1721,35', '2051,5', '812,11', '652', '455,59', '1320,85', '975', '871,07', '6133,41', '1418,86', '966,53', '11460', '370,77', '3783,76', '2247,51', '1094,09', '567,16', '2870', '1120,93', '848,45', '2282,89', '1954,4', '2262,73', '3075,82', '411,43', '2630', '2935,52', '6689,82', '1339,99', '1040', '1873,19', '619,73', '1832,91', '1268,44', '3202,2', '1000', '1310', '1870', '5170', '1165,25', '457,71', '1391,47', '367,35', '1252,67', '2710', '3720', '3310', '510', '1610', '1477,37', '1804,9', '9470', '1581,82', '3870', '2290', '1288,7', '753,68', '2702,4', '1210', '1097,62', '1591,94', '1387,47', '2064,08', '1139,49', '990', '3120', '5650', '4158,85', '790', '4406,5', '1233,33', '3201,95', '3700', '1098,64', '650', '2157,32', '697,72', '1055,71', '3250', '38,32', '596,16', '28012,2', '3130', '314,76', '7510', '4680', '4055,03', '678,2', '1192,75', '730', '4450', '2670', '5100', '2350', '7620', '3620', '896,1', '2879,3', '770', '2193,63', '2210', '4070', '705,6', '1130', '1144,98', '603,55', '1965,32', '1870,69', '407,8', '3960', '706,5', '472,11', '726,57', '664,94', '1389,63', '212,25', '2690', '1006,59', '2864,92', '2707,64', '2260', '4159,78', '4840', '2758', '1817,57', '1370', '1159,18', '3600', '657,95', '1360', '2920', '860,22', '1940', '3040', '600', '1296,4', '824,02', '4112,53', '320', '598,5', '1000,38', '4508,2', '4880', '710', '1063,17', '1359,6', '1745,19', '3339,71', '2140', '4893,17', '1312,44', '553', '1410', '2474,45', '94,89', '482,28', '4510', '1549', '3959', '1311,85', '1007,8', '870', '2088,64', '43,3', '769,43', '2579,43', '5980,18', '5140', '903,48', '2860', '1320', '2293,65', '3090', '2530', '2090', '1479,51', '1520', '5560', '4446,3', '1826,86', '963,12', '1426,72', '1190', '1563,45', '3422,28', '1789,04', '1373,87', '9280', '1002,22', '2706,39', '4640', '630,49', '1993,59', '2081,36', '3460', '1439,9', '1200', '2751,25', '810', '715,54', '2258,3', '14870', '2184,66', '1716,52', '1010', '2361,22', '342,02', '2050', '3290', '979,63', '1683,49', '2460', '2477,64', '1519,64', '937,79', '549,88', '980,25', '3280', '2739,76', '580,49', '3539,82', '2016,7', '5430', '1636,04', '1881,26', '1095,61', '1899,1', '794,5', '2280', '1380', '3170', '3230', '1012,9', '4310', '2080', '750', '2704,02', '572,22', '1004,8', '739,93', '5830', '2570', '543,33', '2809,87', '2281,1', '3283,1', '4710', '2220,72', '714', '1626,16', '1510', '1065,62', '658,84', '860', '224,59', '760', '1101,1', '727,79', '898,77', '1498,26', '3560', '879', '2375,59', '2950', '1828,89', '2070', '1606,5', '2656,68', '1042,41', '840', '1915,35', '1105,07', '2410', '1136,86', '749,05', '783', '1302,38', '2620', '988,85', '567,51', '1022,67', '1073,54', '1966,99', '1832,78', '620,18', '1127,63', '477', '700', '5320', '3111,86', '3355,19', '1542,42', '1560', '605,59', '4290', '1102,7', '1145,21', '816,83', '804,89', '450', '2262,12', '2858,6', '2650', '859,1', '7100', '3860,18', '820', '280', '1414,34', '2127,1', '717,9', '682', '1033', '524,6', '2088,86', '1180,87', '1991,71', '240', '95,79', '3910', '3172,83', '4263,14', '187,35', '5974,67', '4758,14', '1136,44', '840,4', '819,3', '1250', '284,02', '4050', '918,83', '856,64', '1344,33', '3570', '1290', '2450', '880,74', '110,91', '811,49', '5698,46', '2390', '1119,93', '849,07', '979,89', '1307,99', '2349,51', '1957,21', '524,82', '2852,74', '1086,57', '1480', '908,78', '762,93', '4600', '665,11', '2590', '1768,07', '1020', '289,02', '2425', '3140', '2641,33', '1247,92', '3500', '1259,1', '5047,5', '859,73', '658,42', '757,75', '1097,86', '1209,47', '3099,42', '1731,06', '517,51', '2265,01', '4220', '7763,74', '1171,65', '2391,38', '830', '658,18', '1814,93', '1090,01', '2309,46', '1071,44', '3260', '5752,98', '2153,67', '5300', '1574,25', '550,83', '719,25', '951,12', '3210', '2600', '1249,61', '1880,59', '7530', '1599,9', '3320', '980', '869,45', '2409,2', '958,5', '1817,76', '2173,43', '1274,99', '1460', '542', '1894,04', '2110', '956,1', '1671,7', '370', '560', '1810', '1287,35', '4119,97', '799,16', '2006,83', '3900', '1142,83', '1319,56', '2618,78', '976,68', '2010', '1110,39', '1508,79', '669,12', '2144,77', '749,82', '732,62', '861,56', '2157,89', '903,66', '1459,99', '1415,2', '1630', '1861,6', '918,7', '550', '2320', '1402,43', '2289,89', '1456,85', '7450', '1169,69', '1240,46', '177,34', '2490', '2217,25', '5110', '796,59', '1433,4', '3768,7', '2142,2', '1645,64', '1403,64', '4850,2', '1260,55', '2188,21', '1850,5', '863,68', '2792,33', '1119,27', '7010', '4056,11', '4100', '1489,45', '724,38', '647,42', '554,36', '3231,88', '1590', '1517,51', '1017,28', '1586,61', '1930', '1239,08', '2220', '429,11', '2980', '3580', '1731,7', '1539,13', '2499,82', '758,95', '2250,56', '6360', '1850', '991,19', '1507,48', '1672,88', '806,19', '2168,26', '300', '4180', '586,5', '1243,83', '956,67', '3020', '535,53', '761,74', '444', '1390', '1299,55', '969,59', '1674,3', '1030,63', '983,28', '1833,77', '1478,49', '0,71', '1439,94', '1208,09', '4729,07', '2200', '1382,67', '799,09', '4030', '1140', '1509,44', '472,8', '1070,05', '2940', '1091,55', '666,41', '2679,82', '1420', '1145,38', '6160', '1200,99', '2680', '830,53', '3410', '1959,42', '1154,34', '5030', '1199,54', '1176,82', '651,16', '1021,13', '1110', '2786,89', '91,27', '1132,64', '1324,5', '777,84', '87,39', '1244,53', '446,3', '866', '543,17', '1317,12', '3050', '4530', '1819,26', '1365', '894,29', '2575,19', '2247,08', '768,97', '836,6', '702,23', '1990', '846,55', '2500', '533', '589,45', '2323,55', '1066', '776,3', '437,26', '2780', '3089,5', '880', '2360', '1848,05', '2081,78', '1180', '1045,89', '1986,88', '1662,1', '568,7', '1159,06', '1173,46', '1336,38', '1217,36', '8020', '4320', '1010,27', '620,22', '3589,09', '981,71', '1230', '1007,63', '1562,12', '564,93', '779,82', '15110', '1375,39', '1792,71', '2240', '1093,22', '1116,49', '735,3', '1293,09', '1606,38', '2760', '978,13', '2064,82', '690', '917,57', '3103,84', '5975,04', '1985,3', '910', '1099,54', '2930', '518,9', '3800', '1169,82', '1181,51', '3240', '7340', '2176,36', '2779,4', '862,43', '604,76', '1053', '1775,46', '1980,6', '270', '1242,57', '1719,72', '4490', '3030', '833,55', '578,06', '1953,6', '2265', '1167,98', '2730', '8570', '4520', '1650', '6390', '3890', '948,58', '1398,58', '920', '954,34', '3299,1', '3100', '1793,66', '896,31', '1029,75', '4164,34', '6540', '4240', '5420', '1347,12', '6260', '9840', '1790', '2347,51', '2068,56', '6130', '1537,71', '1120,19', '1485,15', '2598,9', '5760', '2959', '1138,2', '6080', '2430', '3180', '586', '849,91', '1800', '5550', '2178', '1600', '2201,11', '581,67', '4565', '1268', '2441,4', '2130', '5603,82', '1395,7', '2796,66', '642,31', '2810', '1195,3', '1924,4', '581,15', '664,42', '1739,33', '1235,4', '1740,19', '3303,2', '310', '775,86', '660,6', '966,07', '5410', '1040,5', '2509,38', '3640', '1127,76', '1678,99', '678,18', '3820', '3920', '2900', '2992,64', '1684,42', '3770', '4700', '9530,91', '766,26', '4136,07', '5428,62', '4260', '1677,48', '3309,87', '5090', '5401,67', '4020', '930,4', '4084,07', '13920', '324,16', '821,93', '2480', '2568,45', '1470', '290,82', '2910', '669,48', '5500', '1340,16', '818,74', '880,2', '2944,54', '2629,87', '831,2', '6041,86', '3377,57', '1839,85', '1059,47', '376,08', '712,12', '660', '767,7', '3760', '6490', '947,57', '568,75', '665,57', '1222,06', '1094,85', '2550', '5580', '2094,3', '1760', '4570', '1255,21', '3235,24', '2005,15', '1077,03', '1206,51', '3357,52', '470', '630', '3000', '101,52', '1082,9', '805,73', '3768,74', '911,49', '2119,77', '460', '516,18', '2647,9', '1670', '3637,43', '2013,19', '3430', '1286,14', '3231,2', '3433,42', '1408,53', '978,56', '1031,76', '1624,72', '1771,33', '3626,91', '1411,31', '540,39', '989,15', '826,64', '1896,24', '1199,15', '3755,32', '1335,47', '14970', '2406,8', '1309,43', '6938,27', '446,31', '4269,94', '1751,37', '2352,78', '5850', '1371,86', '6591,48', '662,13', '2590,15', '1230,63', '1355,12', '1056,95', '3506,07', '2252,24', '1330', '954,65', '1446,55', '965,1', '1427,4', '1296,74', '1191,65', '1892,28', '1245,94', '1476,6', '887,79', '1649,37', '3749,07', '3190', '2510', '1707,5', '1629,58', '1639,99', '610', '768,11', '4160', '1860', '731,72', '3680', '3010', '865,1', '480', '1900', '1209,5', '430', '2599,29', '859,92', '883,33', '1443,3', '1231,72', '854,47', '265,55', '440', '1185,5', '2957,71', '1970', '4001,34', '1881,83', '339,83', '950,33', '1141,06', '1620', '1529,06', '1280', '791,98', '4650', '1240', '4380', '3127,19', '5470', '673,02', '1710', '1317,4', '3450', '1840,14', '2597,78', '2166,82', '1845,5', '2573,8', '2154,02', '390', '4550', '1715,7', '1160', '502,1', '1961,35', '5397,15', '1266,34', '1069,6', '963,96', '100', '798,53', '2800', '1910', '560,36', '1730', '2122,45', '1113,17', '1583,15', '3830', '1136,6', '11310', '2699,88', '6070', '2540', '797,16', '2149,94', '1598,01', '4390', '3782,39', '1626,75', '1550', '2030', '360', '652,36', '10640', '1283,93', '429,24', '1251,35', '5269,78', '1181,13', '4620', '960', '478,13', '1405,53', '699,78', '2084,32', '4920', '1733,88', '1692,49', '1770', '2725', '1889,43', '5040', '1729,66', '2820', '490', '3080', '2419,9', '1039,36', '3360', '1408,87', '355,04', '4610', '1530', '1232,78', '327,98', '1402,2', '2343,41', '3702,8', '3220', '806,93', '7490', '961,94', '924,08', '3635,77', '839,79', '901,64', '2979,13', '746,57', '6500', '1405,09', '552,57', '892,18', '2370', '1504,79', '1766,2', '1650,53', '6550', '2040', '1160,96', '2400', '625,23', '900', '1325,63', '1690', '980,42', '4660', '802,36', '695,06', '9060', '2524,28', '1452', '500', '997,65', '760,65', '2462,1', '3730', '3594,45', '3330', '4940', '481,51', '724,93', '5370', '2750', '780', '668,53', '2044,32', '1154,9', '1408,32', '1094', '1720', '937,6', '0', '846,74', '1112', '4250', '921,58', '2112,57', '1144,03', '3670', '3501,45', '2445,93', '2190', '2580', '2013,45', '2009', '1374,28', '2960', '2354,29', '663,05', '2250', '2000', '473,16', '400', '684,89', '1430', '1074,52', '1370,25', '1387,15', '958,76', '1840', '988,62', '2589,2', '1053,67', '1338,69', '978,55', '929,39', '1890', '3388,62', '1851,55', '4190', '3780,1', '1180,48', '1255,29', '2330', '3750', '717,87', '1939,61', '4420', '676,85', '3964,85', '919,88', '1440', '910,13', '115,65', '1490', '2059,46', '1095,89', '1199,27', '134,78', '1260', '1479,11', '1918,79', '802,29', '2202,69', '1085,53', '1459,34', '1429,99', '2989,98', '1658,42', '4120', '631,68', '701,32', '1655,63', '1068,72', '1742,41', '1128,64', '2979,57', '4770', '4026,63', '438,19', '2595,06', '1080', '3420', '3970', '756,84', '778,32', '1258,49', '3783,78', '51,8', '1489,13', '849,19', '1056,64', '1210,94', '3106,29', '1198,15', '1186,31', '3160', '890', '410,39', '1150', '6740', '2230', '3070', '1015', '1387,3', '1980', '997,89', '2539,12', '668,36', '661,46', '1563,61', '1351,06', '2695,38', '331', '2497,09', '1047,32', '861,03', '5160', '5870', '680', '2380', '4340', '2365,47', '2180', '5340', '670', '1538,69', '930', '1155,06', '791,56', '2289,48', '1010,55', '1666,28', '609,52', '970', '359,3', '1663,27', '1070,52', '3870,25', '63,31', '839,88', '2446,5', '2090,53', '828,64', '5394,29', '1248,27', '5050', '776,59', '1547,02', '950', '520', '604,43', '9540', '367', '5780', '1030', '823,54', '2840', '2990', '1023,66', '2070,42', '2661,68', '3440', '944,93', '3914,24', '183,13', '2467,33', '1085,5', '740', '2008,01', '7790', '716,44', '2700', '2010,03', '578,3', '3470', '720', '869,26', '54,58', '2429,5', '3610', '3520', '620', '1097,55', '2252,3', '1706,3', '631', '838,09', '3771,24', '490,88', '879,74', '3810', '4559,26', '758,96', '5108,38', '3101,73', '1597,92', '640', '1070', '3880', '599,19', '3550', '37,5', '3270', '9239,69', '1999,19', '1450,22', '2497', '628,94', '4000', '528,15', '3138', '2668,07', '2261,19', '6310', '136,76', '1467,05', '62,46', '1837,31', '1680', '1780', '1999,73', '4960', '1450', '704,93', '2890', '4760', '526,94', '2064,03', '1434,4', '1350', '1593,76', '68,77', '4890', '2102,75', '957,4', '3285,74', '2492,54', '5260', '1727,62', '2790', '3350', '3971,6', '1437,01', '3840', '540', '3509,22', '2263,18', '2560', '497,62', '2732,2', '4200', '3033,41', '990,85', '1468,38', '756,1', '2233,65', '722,59', '1288,63', '1905,8', '2858,62', '1931,44', '2287,02', '728,49', '1272,81', '3860', '1140,2', '2163,94', '4820', '892,95', '1679,2', '2720', '957,59', '3630', '2979,35', '7369,77', '5900', '660,86', '4140', '2707,25', '964,69', '3013,9', '1660', '869,37', '2020', '831,23', '706,48', '809,42', '1226,25', '1179,86', '1745,7', '2651,68', '875,09', '605,32', '1272,72', '596,29', '2124,5', '2399,55', '2170', '3950', '820,87', '613,21', '3480', '1114,57', '648,68', '1960', '2588', '3165,46', '6750', '14990', '830,7', '1700', '3863,72', '1381,12', '2770', '7060', '2132,88', '570', '1614,36', '4574,85', '531,65', '3690', '2701,26', '2916,18', '355,55', '856,3', '3428,56', '872,81', '1032,06', '772,73', '3590', '1749,69', '7670', '1259,43', '2372,77', '1340', '1386,14', '2676,24', '827,57', '690,99', '1348,68', '216,59', '989,39', '3850', '865,03', '1948,62', '2503,19', '1196,43', '1221,92', '620,75', '2782,93', '1609,47', '5910', '6650', '530', '3464,88', '1901,3', '3390', '1580', '2518,18', '762,16', '5076,65', '350', '1311,53', '580', '3718,64', '3990', '616,06', '2779,29', '997,66', '2923,96', '1095,88', '2239,37', '1761,03', '946,49', '590', '1540', '2736,28', '1170', '1160,21', '499,69', '2742,25', '559,94', '2263,2', '2970', '1750', '410,6', '2270', '1457,52', '1090,8', '2083', '1090', '717,01', '4400', '3780', '1300,16', '1549,18', '1180,53', '1134,58', '2058,71', '687,11', '2482,72', '380', '957,63', '6532,49', '862,5', '1292,59', '3300', '4560', '0,98', '736,3', '2740', '1539,2', '4387,48', '1628,45', '3530', '2920,45', '6660', '574,21', '4300', '0,04', '4350', '1820', '3639,91', '635,53', '2398,8', '1883,04', '836,79', '1546,55', '2642,83', '2685,68', '6180', '2300', '1841,9', '5577,92', '2804,46', '698,26', '828,51', '1276,7', '790,77', '4090', '42,52', '5570', '330', '2712,72', '979,94', '269,51', '3150', '3752,02', '1959,99', '1783,55', '1670,18', '2430,38', '673,89', '1303,04', '875,2'}\n",
      "\n"
     ]
    }
   ],
   "source": [
    "for i in all_data.columns: # перебираем все столбцы\n",
    "    if str(all_data[i].dtype) == 'object': # если тип столбца - object\n",
    "        print(i) # выводим название столбца\n",
    "        print(set(all_data[i])) # выводим все его значения (но делаем set - чтоб значения не повторялись)\n",
    "        print() # выводим пустую строку"
   ]
  },
  {
   "cell_type": "code",
   "execution_count": 802,
   "metadata": {
    "collapsed": true
   },
   "outputs": [],
   "source": [
    "# можно заметить что некоторые переменные, \n",
    "# которые обозначены как строки (например PERSONAL_INCOME) на самом деле числа,\n",
    "# но по какой-то (ниже увидим) причине были распознаны как строки"
   ]
  },
  {
   "cell_type": "code",
   "execution_count": 803,
   "metadata": {
    "collapsed": true
   },
   "outputs": [],
   "source": [
    "all_data['PERSONAL_INCOME'] = all_data['PERSONAL_INCOME'].map(lambda x: x.replace(',', '.')).astype('float')"
   ]
  },
  {
   "cell_type": "code",
   "execution_count": 804,
   "metadata": {
    "collapsed": true
   },
   "outputs": [],
   "source": [
    "# причина же что использовалась запятая для разделения не целой части числа"
   ]
  },
  {
   "cell_type": "code",
   "execution_count": 805,
   "metadata": {
    "collapsed": true
   },
   "outputs": [],
   "source": [
    "all_data['CREDIT'] = all_data['CREDIT'].map(lambda x: x.replace(',', '.')).astype('float')\n",
    "all_data['FST_PAYMENT'] = all_data['FST_PAYMENT'].map(lambda x: x.replace(',', '.')).astype('float')\n",
    "all_data['LOAN_AVG_DLQ_AMT'] = all_data['LOAN_AVG_DLQ_AMT'].map(lambda x: x.replace(',', '.')).astype('float')\n",
    "all_data['LOAN_MAX_DLQ_AMT'] = all_data['LOAN_MAX_DLQ_AMT'].map(lambda x: x.replace(',', '.')).astype('float')"
   ]
  },
  {
   "cell_type": "code",
   "execution_count": 806,
   "metadata": {
    "collapsed": true
   },
   "outputs": [],
   "source": [
    "# запускаем повторно код и смотрим, какие столбцы с какими строковыми значениями остались\n"
   ]
  },
  {
   "cell_type": "code",
   "execution_count": 807,
   "metadata": {},
   "outputs": [
    {
     "name": "stdout",
     "output_type": "stream",
     "text": [
      "EDUCATION\n",
      "{'Ученая степень', 'Неоконченное высшее', 'Два и более высших образования', 'Среднее специальное', 'Высшее', 'Неполное среднее', 'Среднее'}\n",
      "\n",
      "MARITAL_STATUS\n",
      "{'Вдовец/Вдова', 'Разведен(а)', 'Состою в браке', 'Гражданский брак', 'Не состоял в браке'}\n",
      "\n",
      "GEN_INDUSTRY\n",
      "{nan, 'Строительство', 'Информационные технологии', 'ЧОП/Детективная д-ть', 'Управляющая компания', 'Салоны красоты и здоровья', 'Другие сферы', 'Недвижимость', 'Наука', 'Нефтегазовая промышленность', 'Образование', 'Ресторанный бизнес/Общественное питание', 'Подбор персонала', 'Туризм', 'Государственная служба', 'Сборочные производства', 'Информационные услуги', 'Страхование', 'СМИ/Реклама/PR-агенства', 'Банк/Финансы', 'Сельское хозяйство', 'Транспорт', 'Маркетинг', 'Коммунальное хоз-во/Дорожные службы', 'Энергетика', 'Юридические услуги/нотариальные услуги', 'Здравоохранение', 'Металлургия/Промышленность/Машиностроение', 'Развлечения/Искусство', 'Химия/Парфюмерия/Фармацевтика', 'Логистика', 'Торговля'}\n",
      "\n",
      "GEN_TITLE\n",
      "{nan, 'Партнер', 'Специалист', 'Другое', 'Руководитель высшего звена', 'Служащий', 'Рабочий', 'Военнослужащий по контракту', 'Индивидуальный предприниматель', 'Высококвалифиц. специалист', 'Руководитель низшего звена', 'Работник сферы услуг', 'Руководитель среднего звена'}\n",
      "\n",
      "ORG_TP_STATE\n",
      "{nan, 'Частная ком. с инос. капиталом', 'Частная компания', 'Государственная комп./учреж.', 'Индивидуальный предприниматель', 'Некоммерческая организация'}\n",
      "\n",
      "ORG_TP_FCAPITAL\n",
      "{nan, 'Без участия', 'С участием'}\n",
      "\n",
      "JOB_DIR\n",
      "{'Служба безопасности', nan, 'Адм-хоз. и трансп. службы', 'Юридическая служба', 'Пр-техн. обесп. и телеком.', 'Бухгалтерия, финансы, планир.', 'Кадровая служба и секретариат', 'Участие в основ. деятельности', 'Снабжение и сбыт', 'Реклама и маркетинг', 'Вспомогательный техперсонал'}\n",
      "\n",
      "FAMILY_INCOME\n",
      "{'от 5000 до 10000 руб.', 'от 20000 до 50000 руб.', 'от 10000 до 20000 руб.', 'свыше 50000 руб.', 'до 5000 руб.'}\n",
      "\n",
      "REG_ADDRESS_PROVINCE\n",
      "{'Воронежская область', 'Вологодская область', 'Ханты-Мансийский АО', 'Читинская область', 'Нижегородская область', 'Марийская республика', 'Калужская область', 'Белгородская область', 'Ярославская область', 'Челябинская область', 'Тульская область', 'Омская область', 'Смоленская область', 'Горный Алтай', 'Брянская область', 'Агинский Бурятский АО', 'Татарстан', 'Хакасия', 'Ульяновская область', 'Кабардино-Балкария', 'Самарская область', 'Орловская область', 'Тюменская область', 'Пензенская область', 'Московская область', 'Северная Осетия', 'Ленинградская область', 'Ставропольский край', 'Бурятия', 'Рязанская область', 'Коми-Пермяцкий АО', 'Санкт-Петербург', 'Якутия', 'Краснодарский край', 'Чувашия', 'Хабаровский край', 'Владимирская область', 'Липецкая область', 'Тверская область', 'Мордовская республика', 'Ивановская область', 'Удмуртия', 'Адыгея', 'Москва', 'Кемеровская область', 'Кировская область', 'Алтайский край', 'Карелия', 'Еврейская АО', 'Башкирия', 'Костромская область', 'Карачаево-Черкесия', 'Архангельская область', 'Ростовская область', 'Камчатская область', 'Пермская область', 'Оренбургская область', 'Саратовская область', 'Коми', 'Калининградская область', 'Сахалинская область', 'Эвенкийский АО', 'Иркутская область', 'Астраханская область', 'Усть-Ордынский Бурятский АО', 'Курганская область', 'Новосибирская область', 'Ямало-Ненецкий АО', 'Амурская область', 'Красноярский край', 'Тамбовская область', 'Дагестан', 'Магаданская область', 'Новгородская область', 'Свердловская область', 'Калмыкия', 'Волгоградская область', 'Томская область', 'Курская область', 'Мурманская область', 'Приморский край', 'Псковская область'}\n",
      "\n",
      "FACT_ADDRESS_PROVINCE\n",
      "{'Воронежская область', 'Вологодская область', 'Ханты-Мансийский АО', 'Читинская область', 'Нижегородская область', 'Марийская республика', 'Калужская область', 'Белгородская область', 'Ярославская область', 'Челябинская область', 'Тульская область', 'Омская область', 'Смоленская область', 'Горный Алтай', 'Брянская область', 'Агинский Бурятский АО', 'Татарстан', 'Хакасия', 'Ульяновская область', 'Кабардино-Балкария', 'Самарская область', 'Орловская область', 'Тюменская область', 'Московская область', 'Пензенская область', 'Северная Осетия', 'Ленинградская область', 'Ставропольский край', 'Бурятия', 'Рязанская область', 'Коми-Пермяцкий АО', 'Санкт-Петербург', 'Якутия', 'Краснодарский край', 'Чувашия', 'Хабаровский край', 'Владимирская область', 'Липецкая область', 'Тверская область', 'Мордовская республика', 'Ивановская область', 'Удмуртия', 'Адыгея', 'Москва', 'Кемеровская область', 'Кировская область', 'Алтайский край', 'Карелия', 'Еврейская АО', 'Башкирия', 'Костромская область', 'Карачаево-Черкесия', 'Архангельская область', 'Ростовская область', 'Камчатская область', 'Пермская область', 'Оренбургская область', 'Саратовская область', 'Коми', 'Калининградская область', 'Сахалинская область', 'Эвенкийский АО', 'Иркутская область', 'Астраханская область', 'Усть-Ордынский Бурятский АО', 'Курганская область', 'Новосибирская область', 'Ямало-Ненецкий АО', 'Амурская область', 'Красноярский край', 'Тамбовская область', 'Дагестан', 'Магаданская область', 'Новгородская область', 'Свердловская область', 'Калмыкия', 'Волгоградская область', 'Томская область', 'Чечня', 'Курская область', 'Мурманская область', 'Приморский край', 'Псковская область'}\n",
      "\n",
      "POSTAL_ADDRESS_PROVINCE\n",
      "{'Воронежская область', 'Вологодская область', 'Ханты-Мансийский АО', 'Читинская область', 'Нижегородская область', 'Марийская республика', 'Калужская область', 'Белгородская область', 'Ярославская область', 'Челябинская область', 'Тульская область', 'Омская область', 'Смоленская область', 'Горный Алтай', 'Брянская область', 'Агинский Бурятский АО', 'Татарстан', 'Хакасия', 'Ульяновская область', 'Кабардино-Балкария', 'Самарская область', 'Орловская область', 'Тюменская область', 'Московская область', 'Пензенская область', 'Северная Осетия', 'Ленинградская область', 'Ставропольский край', 'Бурятия', 'Рязанская область', 'Коми-Пермяцкий АО', 'Санкт-Петербург', 'Якутия', 'Краснодарский край', 'Чувашия', 'Хабаровский край', 'Владимирская область', 'Липецкая область', 'Тверская область', 'Мордовская республика', 'Ивановская область', 'Удмуртия', 'Адыгея', 'Москва', 'Кемеровская область', 'Кировская область', 'Алтайский край', 'Карелия', 'Еврейская АО', 'Башкирия', 'Костромская область', 'Карачаево-Черкесия', 'Архангельская область', 'Ростовская область', 'Камчатская область', 'Пермская область', 'Оренбургская область', 'Саратовская область', 'Коми', 'Калининградская область', 'Сахалинская область', 'Эвенкийский АО', 'Иркутская область', 'Астраханская область', 'Усть-Ордынский Бурятский АО', 'Курганская область', 'Новосибирская область', 'Ямало-Ненецкий АО', 'Амурская область', 'Красноярский край', 'Тамбовская область', 'Дагестан', 'Магаданская область', 'Новгородская область', 'Свердловская область', 'Калмыкия', 'Волгоградская область', 'Томская область', 'Курская область', 'Мурманская область', 'Приморский край', 'Псковская область'}\n",
      "\n",
      "TP_PROVINCE\n",
      "{nan, 'Воронежская область', 'Вологодская область', 'Ханты-Мансийский АО', 'Читинская область', 'Нижегородская область', 'Марийская республика', 'Калужская область', 'Белгородская область', 'Ярославская область', 'Челябинская область', 'Тульская область', 'Омская область', 'Смоленская область', 'Горный Алтай', 'Брянская область', 'Татарстан', 'Ульяновская область', 'Самарская область', 'Кабардино-Балкария', 'Орловская область', 'Тюменская область', 'Пензенская область', 'Ставропольский край', 'Бурятия', 'Рязанская область', 'Санкт-Петербург', 'Якутия', 'Краснодарский край', 'Чувашия', 'Хабаровский край', 'Владимирская область', 'Липецкая область', 'Тверская область', 'Мордовская республика', 'Ивановская область', 'Удмуртия', 'Адыгея', 'Москва', 'Кемеровская область', 'Кировская область', 'Алтайский край', 'Карелия', 'Еврейская АО', 'Башкирия', 'Костромская область', 'Архангельская область', 'Ростовская область', 'Камчатская область', 'Пермская область', 'Оренбургская область', 'Саратовская область', 'Коми', 'Калининградская область', 'Сахалинская область', 'Иркутская область', 'Астраханская область', 'Курганская область', 'Новосибирская область', 'Амурская область', 'Красноярский край', 'Тамбовская область', 'Магаданская область', 'Новгородская область', 'Свердловская область', 'Волгоградская область', 'Томская область', 'Курская область', 'Мурманская область', 'Приморский край', 'Псковская область'}\n",
      "\n",
      "REGION_NM\n",
      "{'ПРИВОЛЖСКИЙ', nan, 'ЮЖНЫЙ', 'ЦЕНТРАЛЬНЫЙ ОФИС', 'ВОСТОЧНО-СИБИРСКИЙ', 'ДАЛЬНЕВОСТОЧНЫЙ', 'ЗАПАДНО-СИБИРСКИЙ', 'ЦЕНТРАЛЬНЫЙ 2', 'СЕВЕРО-ЗАПАДНЫЙ', 'ПОВОЛЖСКИЙ', 'ЦЕНТРАЛЬНЫЙ 1', 'УРАЛЬСКИЙ'}\n",
      "\n"
     ]
    }
   ],
   "source": [
    "for i in all_data.columns:\n",
    "    if str(all_data[i].dtype) == 'object':\n",
    "        print(i)\n",
    "        print(set(all_data[i]))\n",
    "        print()"
   ]
  },
  {
   "cell_type": "markdown",
   "metadata": {},
   "source": [
    "# Данные готовы, теперь вам предлагается начать решать задачу"
   ]
  },
  {
   "cell_type": "code",
   "execution_count": 808,
   "metadata": {},
   "outputs": [
    {
     "name": "stderr",
     "output_type": "stream",
     "text": [
      "C:\\Users\\Maksim\\Anaconda3\\lib\\site-packages\\ipykernel_launcher.py:8: SettingWithCopyWarning: \n",
      "A value is trying to be set on a copy of a slice from a DataFrame\n",
      "\n",
      "See the caveats in the documentation: http://pandas.pydata.org/pandas-docs/stable/indexing.html#indexing-view-versus-copy\n",
      "  \n"
     ]
    }
   ],
   "source": [
    "# Есть ли пропуски в данных? что с ними сделать?\n",
    "# Пропуски есть GEN_INDUSTRY, GEN_TITLE, ORG_TP_STATE, ORG_TP_FCAPITAL, TP_PROVINCE, WORK_TIME, PREVIOUS_CARD_NUM_UTILIZED\n",
    "#Ваш код :-)\n",
    "# \n",
    "# print(set(all_data['WORK_TIME']))\n",
    "\n",
    "#удалим столбец \n",
    "all_data.WORK_TIME[all_data.WORK_TIME.isnull()] = all_data.WORK_TIME.fillna(0)"
   ]
  },
  {
   "cell_type": "code",
   "execution_count": 809,
   "metadata": {
    "collapsed": true
   },
   "outputs": [],
   "source": [
    "all_data.WORK_TIME = all_data.WORK_TIME.astype('int')"
   ]
  },
  {
   "cell_type": "code",
   "execution_count": 810,
   "metadata": {},
   "outputs": [
    {
     "data": {
      "text/plain": [
       "['EDUCATION',\n",
       " 'MARITAL_STATUS',\n",
       " 'GEN_INDUSTRY',\n",
       " 'GEN_TITLE',\n",
       " 'ORG_TP_STATE',\n",
       " 'ORG_TP_FCAPITAL',\n",
       " 'JOB_DIR',\n",
       " 'FAMILY_INCOME',\n",
       " 'REG_ADDRESS_PROVINCE',\n",
       " 'FACT_ADDRESS_PROVINCE',\n",
       " 'POSTAL_ADDRESS_PROVINCE',\n",
       " 'TP_PROVINCE',\n",
       " 'REGION_NM']"
      ]
     },
     "execution_count": 810,
     "metadata": {},
     "output_type": "execute_result"
    }
   ],
   "source": [
    "[x for x in all_data.columns if str(all_data[x].dtype) == 'object']"
   ]
  },
  {
   "cell_type": "code",
   "execution_count": 811,
   "metadata": {
    "collapsed": true
   },
   "outputs": [],
   "source": [
    "from sklearn.preprocessing import LabelEncoder, OneHotEncoder"
   ]
  },
  {
   "cell_type": "code",
   "execution_count": 812,
   "metadata": {},
   "outputs": [],
   "source": [
    "label_encoder = LabelEncoder()\n",
    "\n",
    "all_data['EDUCATION'] = label_encoder.fit_transform(all_data['EDUCATION'])"
   ]
  },
  {
   "cell_type": "code",
   "execution_count": 813,
   "metadata": {},
   "outputs": [
    {
     "data": {
      "text/plain": [
       "array([23, 23,  4, ..., 23,  9, 20], dtype=int64)"
      ]
     },
     "execution_count": 813,
     "metadata": {},
     "output_type": "execute_result"
    }
   ],
   "source": [
    "label_encoder.fit_transform(all_data['GEN_INDUSTRY'][~all_data.JOB_DIR.isnull()])"
   ]
  },
  {
   "cell_type": "code",
   "execution_count": 814,
   "metadata": {},
   "outputs": [
    {
     "name": "stderr",
     "output_type": "stream",
     "text": [
      "C:\\Users\\Maksim\\Anaconda3\\lib\\site-packages\\ipykernel_launcher.py:1: SettingWithCopyWarning: \n",
      "A value is trying to be set on a copy of a slice from a DataFrame\n",
      "\n",
      "See the caveats in the documentation: http://pandas.pydata.org/pandas-docs/stable/indexing.html#indexing-view-versus-copy\n",
      "  \"\"\"Entry point for launching an IPython kernel.\n"
     ]
    }
   ],
   "source": [
    "all_data['GEN_INDUSTRY'][~all_data.GEN_INDUSTRY.isnull()] = label_encoder.fit_transform(all_data['GEN_INDUSTRY'][~all_data.GEN_INDUSTRY.isnull()])"
   ]
  },
  {
   "cell_type": "code",
   "execution_count": null,
   "metadata": {},
   "outputs": [],
   "source": []
  },
  {
   "cell_type": "code",
   "execution_count": 815,
   "metadata": {},
   "outputs": [
    {
     "name": "stderr",
     "output_type": "stream",
     "text": [
      "C:\\Users\\Maksim\\Anaconda3\\lib\\site-packages\\ipykernel_launcher.py:1: SettingWithCopyWarning: \n",
      "A value is trying to be set on a copy of a slice from a DataFrame\n",
      "\n",
      "See the caveats in the documentation: http://pandas.pydata.org/pandas-docs/stable/indexing.html#indexing-view-versus-copy\n",
      "  \"\"\"Entry point for launching an IPython kernel.\n"
     ]
    }
   ],
   "source": [
    "all_data.GEN_INDUSTRY[all_data.GEN_INDUSTRY.isnull()] = 0 # заполнение GEN_INDUSTRY NULL также можно отнести к классификации. или хотя бы заполнить для сочетания AGE + EDUCATION. Зполнить значение не получилось "
   ]
  },
  {
   "cell_type": "code",
   "execution_count": 816,
   "metadata": {},
   "outputs": [],
   "source": [
    "all_data.GEN_INDUSTRY = all_data.GEN_INDUSTRY.astype('int') "
   ]
  },
  {
   "cell_type": "code",
   "execution_count": 828,
   "metadata": {},
   "outputs": [
    {
     "data": {
      "text/plain": [
       "0        23\n",
       "1        23\n",
       "2         4\n",
       "3        13\n",
       "4         1\n",
       "5        23\n",
       "6         2\n",
       "7        20\n",
       "8         3\n",
       "9        13\n",
       "10       13\n",
       "11        2\n",
       "12        9\n",
       "13        1\n",
       "14        1\n",
       "15       23\n",
       "16        0\n",
       "17        6\n",
       "18       22\n",
       "19        9\n",
       "20       13\n",
       "21       23\n",
       "22       24\n",
       "23        3\n",
       "24        9\n",
       "25       23\n",
       "26       23\n",
       "27        2\n",
       "28        2\n",
       "29        0\n",
       "         ..\n",
       "30103    19\n",
       "30104    13\n",
       "30105    23\n",
       "30106     0\n",
       "30107     2\n",
       "30108    16\n",
       "30109     6\n",
       "30110     3\n",
       "30111    20\n",
       "30112     2\n",
       "30113    13\n",
       "30114     2\n",
       "30115    13\n",
       "30116    10\n",
       "30117    28\n",
       "30118     0\n",
       "30119    20\n",
       "30120    13\n",
       "30121     2\n",
       "30122    16\n",
       "30123     2\n",
       "30124     6\n",
       "30125    23\n",
       "30126     2\n",
       "30127     0\n",
       "30128    24\n",
       "30129    23\n",
       "30130     9\n",
       "30131     0\n",
       "30132    20\n",
       "Name: GEN_INDUSTRY, Length: 30133, dtype: int32"
      ]
     },
     "execution_count": 828,
     "metadata": {},
     "output_type": "execute_result"
    }
   ],
   "source": [
    "all_data.GEN_INDUSTRY"
   ]
  },
  {
   "cell_type": "code",
   "execution_count": null,
   "metadata": {},
   "outputs": [],
   "source": []
  },
  {
   "cell_type": "code",
   "execution_count": null,
   "metadata": {},
   "outputs": [],
   "source": []
  },
  {
   "cell_type": "code",
   "execution_count": null,
   "metadata": {},
   "outputs": [],
   "source": []
  },
  {
   "cell_type": "code",
   "execution_count": 829,
   "metadata": {},
   "outputs": [
    {
     "name": "stderr",
     "output_type": "stream",
     "text": [
      "C:\\Users\\Maksim\\Anaconda3\\lib\\site-packages\\ipykernel_launcher.py:1: SettingWithCopyWarning: \n",
      "A value is trying to be set on a copy of a slice from a DataFrame\n",
      "\n",
      "See the caveats in the documentation: http://pandas.pydata.org/pandas-docs/stable/indexing.html#indexing-view-versus-copy\n",
      "  \"\"\"Entry point for launching an IPython kernel.\n"
     ]
    }
   ],
   "source": [
    "all_data['JOB_DIR'][~all_data.JOB_DIR.isnull()] = label_encoder.fit_transform(all_data['JOB_DIR'][~all_data.JOB_DIR.isnull()])"
   ]
  },
  {
   "cell_type": "code",
   "execution_count": 830,
   "metadata": {},
   "outputs": [
    {
     "name": "stderr",
     "output_type": "stream",
     "text": [
      "C:\\Users\\Maksim\\Anaconda3\\lib\\site-packages\\ipykernel_launcher.py:1: SettingWithCopyWarning: \n",
      "A value is trying to be set on a copy of a slice from a DataFrame\n",
      "\n",
      "See the caveats in the documentation: http://pandas.pydata.org/pandas-docs/stable/indexing.html#indexing-view-versus-copy\n",
      "  \"\"\"Entry point for launching an IPython kernel.\n"
     ]
    }
   ],
   "source": [
    "all_data.JOB_DIR[all_data.JOB_DIR.isnull()] = 0"
   ]
  },
  {
   "cell_type": "code",
   "execution_count": 831,
   "metadata": {},
   "outputs": [],
   "source": [
    "all_data.JOB_DIR = all_data.JOB_DIR.astype('int') "
   ]
  },
  {
   "cell_type": "code",
   "execution_count": 833,
   "metadata": {},
   "outputs": [
    {
     "data": {
      "text/plain": [
       "0        2\n",
       "1        8\n",
       "2        8\n",
       "3        8\n",
       "4        8\n",
       "5        0\n",
       "6        8\n",
       "7        8\n",
       "8        8\n",
       "9        8\n",
       "10       4\n",
       "11       8\n",
       "12       8\n",
       "13       6\n",
       "14       8\n",
       "15       8\n",
       "16       0\n",
       "17       8\n",
       "18       8\n",
       "19       8\n",
       "20       8\n",
       "21       8\n",
       "22       8\n",
       "23       8\n",
       "24       8\n",
       "25       8\n",
       "26       8\n",
       "27       8\n",
       "28       8\n",
       "29       0\n",
       "        ..\n",
       "30103    8\n",
       "30104    8\n",
       "30105    2\n",
       "30106    0\n",
       "30107    8\n",
       "30108    8\n",
       "30109    2\n",
       "30110    6\n",
       "30111    8\n",
       "30112    8\n",
       "30113    8\n",
       "30114    8\n",
       "30115    8\n",
       "30116    8\n",
       "30117    8\n",
       "30118    0\n",
       "30119    8\n",
       "30120    8\n",
       "30121    8\n",
       "30122    8\n",
       "30123    8\n",
       "30124    8\n",
       "30125    8\n",
       "30126    8\n",
       "30127    0\n",
       "30128    8\n",
       "30129    8\n",
       "30130    8\n",
       "30131    0\n",
       "30132    8\n",
       "Name: JOB_DIR, Length: 30133, dtype: int32"
      ]
     },
     "execution_count": 833,
     "metadata": {},
     "output_type": "execute_result"
    }
   ],
   "source": []
  },
  {
   "cell_type": "code",
   "execution_count": null,
   "metadata": {},
   "outputs": [],
   "source": []
  },
  {
   "cell_type": "code",
   "execution_count": 834,
   "metadata": {
    "collapsed": true
   },
   "outputs": [],
   "source": [
    "# Как поступить со строковыми переменными?\n",
    "\n",
    "# Ваш код :-)\n",
    "#удаляем строковые + PREVIOUS_CARD_NUM_UTILIZED(т.к. особо роли играет и пропусков много) и AGREEMENT_RK(уникальный идентификатор)\n",
    "all_data_clean = all_data.drop([x for x in all_data.columns if str(all_data[x].dtype) == 'object'] + ['PREVIOUS_CARD_NUM_UTILIZED', 'AGREEMENT_RK'],axis=1)"
   ]
  },
  {
   "cell_type": "code",
   "execution_count": 835,
   "metadata": {
    "collapsed": true
   },
   "outputs": [],
   "source": [
    "# В итоге должны получиться данные без пропусков и только числовые\n",
    "train_1 = all_data_clean.iloc[:15223]"
   ]
  },
  {
   "cell_type": "code",
   "execution_count": 836,
   "metadata": {},
   "outputs": [
    {
     "data": {
      "text/plain": [
       "(15223, 39)"
      ]
     },
     "execution_count": 836,
     "metadata": {},
     "output_type": "execute_result"
    }
   ],
   "source": [
    "# Вновь разделите на train и test (не мешая)\n",
    "\n",
    "# Ваш код :-)\n",
    "train_1.shape\n"
   ]
  },
  {
   "cell_type": "code",
   "execution_count": null,
   "metadata": {},
   "outputs": [],
   "source": []
  },
  {
   "cell_type": "code",
   "execution_count": 837,
   "metadata": {},
   "outputs": [],
   "source": [
    "f = 1-y #перевернем и будем считать 1 - не откликнулся, потом обратно перевернем"
   ]
  },
  {
   "cell_type": "code",
   "execution_count": 853,
   "metadata": {},
   "outputs": [
    {
     "data": {
      "text/plain": [
       "0        1\n",
       "1        1\n",
       "2        1\n",
       "3        1\n",
       "4        1\n",
       "5        1\n",
       "6        1\n",
       "7        1\n",
       "8        1\n",
       "9        1\n",
       "10       1\n",
       "11       0\n",
       "12       0\n",
       "13       1\n",
       "14       1\n",
       "15       0\n",
       "16       1\n",
       "17       1\n",
       "18       0\n",
       "19       1\n",
       "20       1\n",
       "21       1\n",
       "22       1\n",
       "23       1\n",
       "24       1\n",
       "25       1\n",
       "26       1\n",
       "27       0\n",
       "28       1\n",
       "29       1\n",
       "        ..\n",
       "15193    1\n",
       "15194    1\n",
       "15195    1\n",
       "15196    1\n",
       "15197    1\n",
       "15198    1\n",
       "15199    1\n",
       "15200    0\n",
       "15201    1\n",
       "15202    1\n",
       "15203    1\n",
       "15204    0\n",
       "15205    1\n",
       "15206    1\n",
       "15207    1\n",
       "15208    1\n",
       "15209    0\n",
       "15210    1\n",
       "15211    1\n",
       "15212    1\n",
       "15213    0\n",
       "15214    1\n",
       "15215    1\n",
       "15216    1\n",
       "15217    1\n",
       "15218    1\n",
       "15219    1\n",
       "15220    1\n",
       "15221    1\n",
       "15222    1\n",
       "Name: TARGET, Length: 15223, dtype: int64"
      ]
     },
     "execution_count": 853,
     "metadata": {},
     "output_type": "execute_result"
    }
   ],
   "source": []
  },
  {
   "cell_type": "code",
   "execution_count": 869,
   "metadata": {
    "collapsed": true
   },
   "outputs": [],
   "source": [
    "# Сделать hold-out sampling на train выборке\n",
    "from sklearn.cross_validation import train_test_split\n",
    "\n",
    "# test_size=0.3, random_state=42\n",
    "\n",
    "# Ваш код :-)\n",
    "X_train, X_test, y_train, y_test = train_test_split(train_1, f, test_size=0.3, random_state=42)\n",
    "\n",
    "c = 1 - y_test\n",
    "\n"
   ]
  },
  {
   "cell_type": "code",
   "execution_count": 870,
   "metadata": {},
   "outputs": [
    {
     "data": {
      "text/plain": [
       "6319     0\n",
       "4252     0\n",
       "2323     0\n",
       "6896     1\n",
       "3299     0\n",
       "11752    0\n",
       "8139     0\n",
       "4983     0\n",
       "15163    0\n",
       "14049    0\n",
       "6348     0\n",
       "6507     0\n",
       "12694    1\n",
       "8380     1\n",
       "13480    0\n",
       "3941     0\n",
       "6912     0\n",
       "3070     0\n",
       "3706     0\n",
       "9193     0\n",
       "12841    0\n",
       "4176     1\n",
       "14123    0\n",
       "3111     0\n",
       "10696    0\n",
       "8689     0\n",
       "5357     0\n",
       "11278    0\n",
       "15088    1\n",
       "1056     1\n",
       "        ..\n",
       "12627    0\n",
       "7516     0\n",
       "15205    0\n",
       "10042    0\n",
       "7573     0\n",
       "4708     0\n",
       "11849    0\n",
       "6395     1\n",
       "500      0\n",
       "10539    1\n",
       "11347    0\n",
       "9272     0\n",
       "1046     0\n",
       "12229    0\n",
       "2633     0\n",
       "15160    0\n",
       "10760    1\n",
       "10255    0\n",
       "11034    0\n",
       "12705    0\n",
       "7567     0\n",
       "12526    0\n",
       "5923     0\n",
       "777      0\n",
       "6595     0\n",
       "8565     0\n",
       "6088     0\n",
       "4019     0\n",
       "1194     0\n",
       "10369    0\n",
       "Name: TARGET, Length: 4567, dtype: int64"
      ]
     },
     "execution_count": 870,
     "metadata": {},
     "output_type": "execute_result"
    }
   ],
   "source": [
    "c"
   ]
  },
  {
   "cell_type": "code",
   "execution_count": 905,
   "metadata": {
    "collapsed": true
   },
   "outputs": [],
   "source": [
    "# Попробовать следующие \"черные ящики\": интерфейс одинаковый \n",
    "#     fit, \n",
    "#     predict, \n",
    "#     predict_proba\n",
    "\n",
    "from sklearn.tree import DecisionTreeClassifier\n",
    "from sklearn.ensemble import RandomForestClassifier\n",
    "from sklearn.linear_model import LogisticRegression\n",
    "dtc = DecisionTreeClassifier()\n",
    "rfc = RandomForestClassifier()\n",
    "lr = LogisticRegression()\n",
    "rfc.fit(X_train, y_train)\n",
    "dtc.fit(X_train, y_train)\n",
    "lr.fit(X_train, y_train)\n",
    "predict_dtc = dtc.predict(X_test)\n",
    "predict_rfc = rfc.predict(X_test)\n",
    "predict_lr = lr.predict(X_test)\n",
    "# Ваш код :-)\n"
   ]
  },
  {
   "cell_type": "code",
   "execution_count": null,
   "metadata": {},
   "outputs": [],
   "source": []
  },
  {
   "cell_type": "code",
   "execution_count": 906,
   "metadata": {},
   "outputs": [
    {
     "name": "stdout",
     "output_type": "stream",
     "text": [
      "0.885291868468 0.865653040877 0.783446463762\n",
      "0.881064162754 0.982303090728 0.867965841909\n",
      "0.878701469621 0.99850448654 0.87760017517\n"
     ]
    }
   ],
   "source": [
    "from sklearn.metrics import precision_score, recall_score, accuracy_score\n",
    "\n",
    "\n",
    "def metrics (y_test, predict):\n",
    "    return precision_score(y_test, predict), recall_score(y_test, predict), accuracy_score(y_test, predict)\n",
    "\n",
    "# Посчитать метрики стандартные\n",
    "# accuracy, precision, recall\n",
    "yy_test = 1-0\n",
    "precision_dtc, recall_dtc, accuracy_dtc = metrics(y_test, predict_dtc)\n",
    "precision_rfc, recall_rfc, accuracy_rfc = metrics(y_test, predict_rfc)\n",
    "precision_lr, recall_lr, accuracy_lr = metrics(y_test, predict_lr)\n",
    "\n",
    "print(precision_dtc, recall_dtc, accuracy_dtc)\n",
    "print(precision_rfc, recall_rfc, accuracy_rfc)\n",
    "print(precision_lr, recall_lr, accuracy_lr)\n",
    "# Ваш код :-)\n"
   ]
  },
  {
   "cell_type": "code",
   "execution_count": 907,
   "metadata": {
    "collapsed": true
   },
   "outputs": [],
   "source": [
    "%matplotlib inline\n",
    "from matplotlib import pyplot as plt\n",
    "from sklearn.metrics import roc_auc_score, roc_curve"
   ]
  },
  {
   "cell_type": "code",
   "execution_count": 908,
   "metadata": {
    "collapsed": true
   },
   "outputs": [],
   "source": [
    "# Визуалиpировать эти метрики всех моделей на одном графике (чтоб визуально посмотреть)\n",
    "\n",
    "# Ваш код :-)\n",
    "\n"
   ]
  },
  {
   "cell_type": "code",
   "execution_count": 909,
   "metadata": {},
   "outputs": [
    {
     "data": {
      "image/png": "[encoded data removed]",
      "text/plain": [
       "<matplotlib.figure.Figure at 0x24e0ac510f0>"
      ]
     },
     "metadata": {},
     "output_type": "display_data"
    }
   ],
   "source": [
    "# Потроить roc-кривые всех можелей на одном графике\n",
    "# Вывести roc_auc каждой моделе\n",
    "from sklearn.metrics import roc_auc_score, roc_curve\n",
    "predict_dtc = dtc.predict_proba(X_test)\n",
    "predict_rfc = rfc.predict_proba(X_test)\n",
    "predict_lr = lr.predict_proba(X_test)\n",
    "# Ваш код :-)\n",
    "fpr_dtc, tpr_dtc, thresholds_dtc = roc_curve(y_test, predict_dtc[:,1])\n",
    "fpr_rfc, tpr_rfc, thresholds_rfc = roc_curve(y_test, predict_dtc[:,1])\n",
    "fpr_lr, tpr_lr, thresholds_lr = roc_curve(y_test, predict_lr[:,1])\n",
    "plt.figure(figsize=(5, 5))\n",
    "plt.plot(fpr_dtc, tpr_dtc)\n",
    "plt.plot(fpr_rfc, tpr_rfc)\n",
    "plt.plot(fpr_lr, tpr_lr)\n",
    "plt.ylabel('tpr')\n",
    "plt.xlabel('fpr')\n",
    "plt.grid(True)\n",
    "plt.title('ROC curve')\n",
    "plt.xlim((-0.01, 1.01))\n",
    "plt.ylim((-0.01, 1.01))\n",
    "plt.legend()"
   ]
  },
  {
   "cell_type": "code",
   "execution_count": 910,
   "metadata": {},
   "outputs": [],
   "source": [
    "lr_pr = 1 - predict_lr[:,1]\n",
    "dtc_pr = 1 - predict_dtc[:,1]\n",
    "rfc_pr = 1 - predict_rfc[:,1]"
   ]
  },
  {
   "cell_type": "code",
   "execution_count": 911,
   "metadata": {},
   "outputs": [
    {
     "name": "stdout",
     "output_type": "stream",
     "text": [
      "0.639264189414\n",
      "0.527421115033\n",
      "0.591550798056\n"
     ]
    }
   ],
   "source": [
    "print(roc_auc_score(c, lr_pr))\n",
    "print(roc_auc_score(c, dtc_pr))\n",
    "print(roc_auc_score(c, rfc_pr))"
   ]
  },
  {
   "cell_type": "code",
   "execution_count": 912,
   "metadata": {},
   "outputs": [
    {
     "data": {
      "text/plain": [
       "array([ 0.51647123,  0.50068425,  0.50792886,  0.49933669,  0.56444848,\n",
       "        0.53741745,  0.49021922,  0.5267241 ,  0.50374298,  0.54040029])"
      ]
     },
     "execution_count": 912,
     "metadata": {},
     "output_type": "execute_result"
    }
   ],
   "source": [
    "from sklearn.cross_validation import cross_val_score\n",
    "# Сделать k-fold (10 фолдов) кросс-валидацию каждой модели\n",
    "# И посчитать средний roc_auc\n",
    "dtc = DecisionTreeClassifier(randomstate = 42)\n",
    "cross_val_score(\n",
    "    dtc,\n",
    "    train_1,\n",
    "    f,\n",
    "    scoring='roc_auc',\n",
    "    cv=10\n",
    ")\n",
    "\n",
    "\n",
    "# Ваш код :-)"
   ]
  },
  {
   "cell_type": "code",
   "execution_count": 913,
   "metadata": {},
   "outputs": [
    {
     "data": {
      "text/plain": [
       "array([ 0.55324798,  0.58672796,  0.62937694,  0.61365724,  0.58591964,\n",
       "        0.58385966,  0.52472798,  0.56989918,  0.57575776,  0.61776278])"
      ]
     },
     "execution_count": 913,
     "metadata": {},
     "output_type": "execute_result"
    }
   ],
   "source": [
    "rfc = RandomForestClassifier (randomstate = 42)\n",
    "cross_val_score(\n",
    "    rfc,\n",
    "    train_1,\n",
    "    f,\n",
    "    scoring='roc_auc',\n",
    "    cv=10\n",
    ")"
   ]
  },
  {
   "cell_type": "code",
   "execution_count": 914,
   "metadata": {},
   "outputs": [
    {
     "data": {
      "text/plain": [
       "array([ 0.64928105,  0.61818718,  0.66235307,  0.6367599 ,  0.64943289,\n",
       "        0.58367838,  0.62018532,  0.65291425,  0.63708538,  0.66391042])"
      ]
     },
     "execution_count": 914,
     "metadata": {},
     "output_type": "execute_result"
    }
   ],
   "source": [
    "lr = LogisticRegression(randomstate = 42)\n",
    "cross_val_score(\n",
    "    lr,\n",
    "    train_1,\n",
    "    f,\n",
    "    scoring='roc_auc',\n",
    "    cv=10\n",
    ")"
   ]
  },
  {
   "cell_type": "code",
   "execution_count": 915,
   "metadata": {
    "collapsed": true
   },
   "outputs": [],
   "source": [
    "# Взять лучшую модель и сделать predict (с вероятностями (!!!)) для test выборки\n",
    "\n",
    "# Ваш код :-)\n",
    "\n",
    "test = all_data_clean.iloc[15223:]"
   ]
  },
  {
   "cell_type": "code",
   "execution_count": 918,
   "metadata": {},
   "outputs": [
    {
     "data": {
      "text/plain": [
       "LogisticRegression(C=1.0, class_weight=None, dual=False, fit_intercept=True,\n",
       "          intercept_scaling=1, max_iter=100, multi_class='ovr', n_jobs=1,\n",
       "          penalty='l2', random_state=None, solver='liblinear', tol=0.0001,\n",
       "          verbose=0, warm_start=False)"
      ]
     },
     "execution_count": 918,
     "metadata": {},
     "output_type": "execute_result"
    }
   ],
   "source": [
    "lr.fit(X_test, y_test)"
   ]
  },
  {
   "cell_type": "code",
   "execution_count": 930,
   "metadata": {},
   "outputs": [],
   "source": [
    "predict_lr_test = lr.predict_proba(test)"
   ]
  },
  {
   "cell_type": "code",
   "execution_count": 931,
   "metadata": {},
   "outputs": [],
   "source": [
    "real_predict_lr_test = 1 - predict_lr_test[:,1]"
   ]
  },
  {
   "cell_type": "code",
   "execution_count": 932,
   "metadata": {},
   "outputs": [
    {
     "data": {
      "text/plain": [
       "array([ 0.16041144,  0.06189181,  0.17984512, ...,  0.19762281,\n",
       "        0.06489196,  0.1738384 ])"
      ]
     },
     "execution_count": 932,
     "metadata": {},
     "output_type": "execute_result"
    }
   ],
   "source": [
    "real_predict_lr_test"
   ]
  },
  {
   "cell_type": "code",
   "execution_count": null,
   "metadata": {
    "collapsed": true
   },
   "outputs": [],
   "source": []
  }
 ],
 "metadata": {
  "kernelspec": {
   "display_name": "Python 3",
   "language": "python",
   "name": "python3"
  },
  "language_info": {
   "codemirror_mode": {
    "name": "ipython",
    "version": 3
   },
   "file_extension": ".py",
   "mimetype": "text/x-python",
   "name": "python",
   "nbconvert_exporter": "python",
   "pygments_lexer": "ipython3",
   "version": "3.6.3"
  }
 },
 "nbformat": 4,
 "nbformat_minor": 2
}
